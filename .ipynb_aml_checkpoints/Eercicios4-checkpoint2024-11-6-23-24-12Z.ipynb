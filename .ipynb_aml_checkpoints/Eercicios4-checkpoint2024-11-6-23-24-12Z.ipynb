{
  "cells": [
    {
      "cell_type": "code",
      "source": [
        "#Ejercicio 1: Genera un programa que encuentre el mayor de 3 números en tres variables, usando solo if-elif-else\n",
        "# Solicitar los tres números al usuario\n",
        "num1 = float(input(\"Ingresa el primer número: \"))\n",
        "num2 = float(input(\"Ingresa el segundo número: \"))\n",
        "num3 = float(input(\"Ingresa el tercer número: \"))\n",
        "\n",
        "# Comprobar cuál es el mayor usando if-elif-else\n",
        "if num1 >= num2 and num1 >= num3:\n",
        "    print(f\"El número mayor es {num1}\")\n",
        "elif num2 >= num1 and num2 >= num3:\n",
        "    print(f\"El número mayor es {num2}\")\n",
        "else:\n",
        "    print(f\"El número mayor es {num3}\")\n",
        "\n",
        "#Se solicitan tres números al usuario.\n",
        "#Luego, con las estructuras if, elif y else, se compara cuál de los tres números es el mayor:\n",
        "#Si num1 es mayor o igual a los otros dos, se imprime que num1 es el mayor.\n",
        "#Si num2 es mayor o igual que los otros dos (y num1 no es el mayor), se imprime que num2 es el mayor.\n",
        "#Si ninguna de las condiciones anteriores se cumple, entonces el mayor es num3.\n",
        "#Este programa encuentra correctamente el número más grande de los tres."
      ],
      "outputs": [],
      "execution_count": null,
      "metadata": {}
    },
    {
      "cell_type": "code",
      "source": [],
      "outputs": [],
      "execution_count": null,
      "metadata": {}
    },
    {
      "cell_type": "code",
      "source": [
        "#Ejercicio2: Extendiende la lógica anterior para una lista de números\n",
        "\n",
        "#Para extender la lógica anterior y encontrar el mayor número en una lista de números usando solo if-elif-else, podemos seguir el siguiente enfoque:\n",
        "#Usaremos un bucle para recorrer la lista de números.\n",
        "#Comenzamos asumiendo que el primer número es el mayor, y luego comparamos cada número posterior con el actual mayor.\n",
        "#Utilizamos if-elif-else para determinar si el número actual es mayor que el mayor hasta ese momento.\n",
        "\n",
        "# Lista de números\n",
        "numeros = [float(input(f\"Ingresa el número {i+1}: \")) for i in range(5)]  # Puedes modificar el tamaño de la lista\n",
        "\n",
        "# Suponemos que el primer número es el mayor\n",
        "mayor = numeros[0]\n",
        "\n",
        "# Recorremos el resto de la lista comparando cada número\n",
        "for numero in numeros[1:]:\n",
        "    if numero > mayor:\n",
        "        mayor = numero\n",
        "\n",
        "# Imprimir el mayor número\n",
        "print(f\"El número mayor es {mayor}\")\n",
        "\n",
        "#Se genera una lista de números solicitados al usuario. En este ejemplo, se piden 5 números, pero puedes ajustar el tamaño de la lista cambiando el número 5 en el rango.\n",
        "#Inicializamos la variable mayor con el primer número de la lista.\n",
        "#Luego, usamos un bucle for para recorrer la lista comenzando desde el segundo número (numeros[1:]).\n",
        "#En cada iteración, se compara el número actual con el valor de mayor utilizando if-elif-else. Si el número actual es mayor que el valor almacenado en mayor, se actualiza.#Finalmente, el número mayor se imprime al finalizar el bucle."
      ],
      "outputs": [
        {
          "output_type": "stream",
          "name": "stdout",
          "text": "El número mayor es 10.0\n"
        }
      ],
      "execution_count": null,
      "metadata": {}
    },
    {
      "cell_type": "code",
      "source": [
        "#Ejercicio3: - Extendiende la lógica antarior para un diccionario: {'john':4, 'Anna': 7, 'Peter': 1, 'Riga': 9}\n",
        "# Diccionario con nombres y valores\n",
        "diccionario = {'john': 4, 'Anna': 7, 'Peter': 1, 'Riga': 9}\n",
        "\n",
        "# Inicializamos el mayor con el primer valor del diccionario\n",
        "clave_mayor = list(diccionario.keys())[0]\n",
        "valor_mayor = diccionario[clave_mayor]\n",
        "\n",
        "# Recorremos los elementos del diccionario\n",
        "for clave, valor in diccionario.items():\n",
        "    if valor > valor_mayor:\n",
        "        valor_mayor = valor\n",
        "        clave_mayor = clave\n",
        "\n",
        "# Imprimir la clave con el mayor valor\n",
        "print(f\"La persona con el mayor valor es {clave_mayor} con un valor de {valor_mayor}\")\n",
        "\n",
        "#Se define un diccionario llamado diccionario que contiene nombres como claves y valores numéricos asociados.\n",
        "#Inicializamos clave_mayor con la primera clave del diccionario y valor_mayor con el valor correspondiente a esa clave.\n",
        "#Usamos un bucle for para recorrer cada clave y valor en el diccionario usando items().\n",
        "#En cada iteración, comparamos el valor actual con el valor_mayor. Si el valor es mayor, actualizamos valor_mayor y clave_mayor con los valores correspondientes.\n",
        "#Al final del bucle, se imprime la clave con el valor más alto."
      ],
      "outputs": [
        {
          "output_type": "stream",
          "name": "stdout",
          "text": "La persona con el mayor valor es Riga con un valor de 9\n"
        }
      ],
      "execution_count": null,
      "metadata": {}
    },
    {
      "cell_type": "markdown",
      "source": [
        "- La fiesta VIP de John\n",
        "John desea realizar una fiesta VIP; pero el año anterior una persona se coló utilizando el mismo nombre de otra. Y por eso John ha decidido este año que el portero pida el número de documento.\n",
        "El programa deberá tener una lista de dnis aprobados. El portero deberá poder introducir el número de documento de quien solicita entrar a la fiesta y comprobar si existe en la lista. Si está, se muestra un PERMITIDO ENTRAR. Luego debe mostrar cuántas personas de la lista quedan por entrar.\n",
        "Si no está en la lista, deberá indicar NO PERMITIDO y seguir esperando un nuevo documento.\n",
        "Cuando se complete la lista, seberá indicar COMPLETADO y salir.\n",
        "La lista, una vez definida por John, no debe poder modificarse durante el proceso."
      ],
      "metadata": {}
    },
    {
      "cell_type": "code",
      "source": [
        "#lista de dnis aprobados\n",
        "dnis_aprobados = [\"05452378O\", \"12345678P\", \"09876543L\", \"76567456I\", \"36386754U\"]\n",
        "#contador de personas permitidas\n",
        "personas_permitidas = len(dnis_aprobados)\n",
        "\n",
        "while True:\n",
        "    #pedir número de documento\n",
        "    dni = input(\"introduce el número de documento:\")\n",
        "    #comprobar si el documento está en la lista\n",
        "    if dni in dnis_aprobados:\n",
        "        print(\"ALLOW ENTRAR\")\n",
        "        #Eliminar el DNI de la lista de aprobados.\n",
        "        dnis_aprobados.remove(dni)\n",
        "        #Actualizar el contador de personas permitidas\n",
        "        personas_permitidas -=1\n",
        "        \n",
        "        #Comprobar si ya no quedan personas por entrar\n",
        "        if personas_permitidas == 0:\n",
        "            print(\"COMPLETED\")\n",
        "            break\n",
        "        else:\n",
        "            print(f\"quedan {personas_permitidas} personas por entrar\")\n",
        "    else:\n",
        "        print(\"NOT ALLOWED\")\n",
        "\n"
      ],
      "outputs": [
        {
          "output_type": "stream",
          "name": "stdout",
          "text": "NOT ALLOWED\nNOT ALLOWED\nALLOW ENTRAR\nquedan 4 personas por entrar\nALLOW ENTRAR\nquedan 3 personas por entrar\nALLOW ENTRAR\nquedan 2 personas por entrar\nALLOW ENTRAR\nquedan 1 personas por entrar\nALLOW ENTRAR\nCOMPLETED\n"
        }
      ],
      "execution_count": null,
      "metadata": {}
    },
    {
      "cell_type": "code",
      "source": [
        "#vamos a imaginar que no conocemos la solución al problema. Me piden que tenga una lista de dnis inmutables. Mientras que no estén todos los invitados estaré leyendo la entrada. Y guardaré la información en la variable DNI. Verificaré si el dni está en la lista.\n",
        "#si está en la lista dejo entrar y si no está no dejo entrar. Si está además tengo que indicar cuantos quedan. \n",
        "#solucion del profesor\n",
        "#Lista de DNIs aprobados\n",
        "dnis = ('dni1', 'dni2', 'dni3', 'dni4')\n",
        "mutable_dnis = list(dnis)\n",
        "quedan = len(dnis)\n",
        "\n",
        "aDni = input ('dni?')\n",
        "if aDni in dnis:\n",
        "    print('Permitido entrar', aDni)\n",
        "    mutable_dnis = list(dnis)\n",
        "    quedan = len(dnis)\n",
        "\n",
        "    if quedan:\n",
        "        print('quedan:', quedan)\n",
        "    else:\n",
        "        print('completado')\n",
        "\n",
        "else:\n",
        "    print('no permitido:', aDni)\n"
      ],
      "outputs": [
        {
          "output_type": "stream",
          "name": "stdout",
          "text": "Permitido entrar dni2\nquedan: 4\n"
        }
      ],
      "execution_count": null,
      "metadata": {}
    },
    {
      "cell_type": "markdown",
      "source": [
        "\n",
        "Tenemos un diccionario con un conjunto de nombres cuya clave es un nombre. Dentro tiene a su vez una lista de diccionarios con dos asignaturas y notas. Tenemos 100 estudiantes.\n",
        "\n",
        "- Se tiene una lista de alumnos con sus asignaturas y la nota más alta y nota más baja de cada una. \n",
        "https://github.com/ricardoahumada/pythonfundamentals/blob/main/data/notas.py\n",
        "\n",
        "Actualizar el objeto de notas con la nota media por cada alummno. Iré uno por uno y luego por asignatura calculando la nota media.\n",
        "#para cada alumno\n",
        "#para cada asignatura: calcular nota media. \n",
        "#Añadir el valor a la asignatura.\n",
        "\n",
        "Genera un programa que permita completar y extraer datos estadísticos de la lista de la siguiente manera: \n",
        "\t1- Completar la nota media de cada alumno por asignatura.\n",
        "\t2- Obtener la media global por asignatura.\n",
        "\t3- Obtener la media global por alumno (de todos y cada uno)\n",
        "\t4- Obtener la media global de todos los alumnos.\n",
        "\t5- Obtener para un alumno determinado, la nota media.\n",
        "\t6- Obtener los alumnos con una nota media superior o igual a un número dado (5).\n",
        "Haz que el programa solicite la opción que quieres ejecutar el prompt \n"
      ],
      "metadata": {}
    },
    {
      "cell_type": "code",
      "source": [
        "notas = {\n",
        "\"Sosanna\": [{'maths': (4, 3)}, {'lang': (5, 5)}], \n",
        "\"Rosalind\": [{'maths': (8, 6)}, {'lang': (10, 5)}], \n",
        "\"Gaspar\": [{'maths': (1, 6)}, {'lang': (7, 5)}], \n",
        "\"Herve\": [{'maths': (2, 5)}, {'lang': (8, 2)}], \n",
        "\"Jayme\": [{'maths': (5, 1)}, {'lang': (10, 7)}], \n",
        "\"Dasya\": [{'maths': (5, 3)}, {'lang': (8, 2)}], \n",
        "\"Christean\": [{'maths': (2, 10)}, {'lang': (3, 6)}], \n",
        "\"Risa\": [{'maths': (9, 9)}, {'lang': (2, 7)}], \n",
        "\"Florenza\": [{'maths': (10, 6)}, {'lang': (5, 5)}], \n",
        "\"Donella\": [{'maths': (10, 3)}, {'lang': (8, 3)}], \n",
        "\"Cesaro\": [{'maths': (2, 4)}, {'lang': (1, 7)}], \n",
        "\"Beatrisa\": [{'maths': (9, 2)}, {'lang': (1, 5)}], \n",
        "\"Thain\": [{'maths': (1, 7)}, {'lang': (6, 3)}], \n",
        "\"Shaylah\": [{'maths': (6, 7)}, {'lang': (2, 1)}], \n",
        "\"Anne-marie\": [{'maths': (4, 6)}, {'lang': (4, 3)}], \n",
        "\"Swen\": [{'maths': (8, 5)}, {'lang': (7, 6)}], \n",
        "\"Vaclav\": [{'maths': (1, 4)}, {'lang': (9, 10)}], \n",
        "\"Hermine\": [{'maths': (2, 1)}, {'lang': (8, 1)}], \n",
        "\"Sybyl\": [{'maths': (10, 2)}, {'lang': (3, 10)}], \n",
        "\"Ynes\": [{'maths': (6, 10)}, {'lang': (3, 2)}], \n",
        "\"Antonie\": [{'maths': (9, 3)}, {'lang': (4, 9)}], \n",
        "\"Trixie\": [{'maths': (9, 10)}, {'lang': (5, 4)}], \n",
        "\"Mathilde\": [{'maths': (4, 5)}, {'lang': (8, 1)}], \n",
        "\"Merlina\": [{'maths': (6, 8)}, {'lang': (4, 6)}], \n",
        "\"Zared\": [{'maths': (1, 9)}, {'lang': (5, 3)}], \n",
        "\"Brandais\": [{'maths': (3, 3)}, {'lang': (7, 1)}], \n",
        "\"Reggie\": [{'maths': (10, 2)}, {'lang': (10, 8)}], \n",
        "\"Burk\": [{'maths': (8, 7)}, {'lang': (5, 5)}], \n",
        "\"Seymour\": [{'maths': (5, 8)}, {'lang': (8, 3)}], \n",
        "\"Fergus\": [{'maths': (2, 3)}, {'lang': (5, 5)}], \n",
        "\"Jeanette\": [{'maths': (1, 5)}, {'lang': (5, 4)}], \n",
        "\"Arther\": [{'maths': (5, 5)}, {'lang': (9, 5)}], \n",
        "\"Avictor\": [{'maths': (9, 2)}, {'lang': (8, 5)}], \n",
        "\"Lynette\": [{'maths': (7, 2)}, {'lang': (10, 6)}], \n",
        "\"Briano\": [{'maths': (2, 2)}, {'lang': (4, 6)}], \n",
        "\"Daveta\": [{'maths': (4, 7)}, {'lang': (2, 9)}], \n",
        "\"Devonne\": [{'maths': (10, 2)}, {'lang': (6, 8)}], \n",
        "\"Chiarra\": [{'maths': (6, 1)}, {'lang': (4, 3)}], \n",
        "\"Torrey\": [{'maths': (2, 9)}, {'lang': (1, 3)}], \n",
        "\"Hattie\": [{'maths': (2, 5)}, {'lang': (7, 2)}], \n",
        "\"Florenza\": [{'maths': (10, 5)}, {'lang': (4, 4)}], \n",
        "\"Veronica\": [{'maths': (8, 6)}, {'lang': (3, 4)}], \n",
        "\"Jared\": [{'maths': (6, 1)}, {'lang': (1, 3)}], \n",
        "\"Lori\": [{'maths': (6, 1)}, {'lang': (10, 10)}], \n",
        "\"Kristopher\": [{'maths': (1, 2)}, {'lang': (4, 9)}], \n",
        "\"Jeanne\": [{'maths': (1, 1)}, {'lang': (1, 4)}], \n",
        "\"Maximilian\": [{'maths': (3, 3)}, {'lang': (10, 9)}], \n",
        "\"Merrily\": [{'maths': (5, 7)}, {'lang': (1, 3)}], \n",
        "\"Skipton\": [{'maths': (9, 6)}, {'lang': (4, 9)}], \n",
        "\"Tom\": [{'maths': (10, 5)}, {'lang': (1, 7)}], \n",
        "\"Cirilo\": [{'maths': (2, 2)}, {'lang': (6, 6)}], \n",
        "\"Warde\": [{'maths': (8, 7)}, {'lang': (9, 5)}], \n",
        "\"Woodie\": [{'maths': (10, 3)}, {'lang': (2, 1)}], \n",
        "\"Odetta\": [{'maths': (3, 7)}, {'lang': (7, 9)}], \n",
        "\"Cordelie\": [{'maths': (2, 3)}, {'lang': (9, 1)}], \n",
        "\"Wilow\": [{'maths': (10, 8)}, {'lang': (2, 6)}], \n",
        "\"Charissa\": [{'maths': (5, 3)}, {'lang': (5, 10)}], \n",
        "\"Ralina\": [{'maths': (10, 9)}, {'lang': (8, 2)}], \n",
        "\"Charisse\": [{'maths': (6, 5)}, {'lang': (1, 9)}], \n",
        "\"Huntley\": [{'maths': (8, 7)}, {'lang': (10, 3)}], \n",
        "\"Ella\": [{'maths': (4, 3)}, {'lang': (6, 8)}], \n",
        "\"Nelli\": [{'maths': (2, 6)}, {'lang': (5, 10)}], \n",
        "\"Gearalt\": [{'maths': (4, 9)}, {'lang': (4, 4)}], \n",
        "\"Zahara\": [{'maths': (2, 1)}, {'lang': (1, 4)}], \n",
        "\"Dilan\": [{'maths': (8, 6)}, {'lang': (7, 6)}], \n",
        "\"Frederique\": [{'maths': (5, 10)}, {'lang': (2, 8)}], \n",
        "\"Saba\": [{'maths': (9, 8)}, {'lang': (9, 9)}], \n",
        "\"Natalya\": [{'maths': (1, 5)}, {'lang': (5, 2)}], \n",
        "\"Myrah\": [{'maths': (3, 8)}, {'lang': (3, 5)}], \n",
        "\"Magnum\": [{'maths': (7, 1)}, {'lang': (2, 9)}], \n",
        "\"Grace\": [{'maths': (9, 4)}, {'lang': (6, 6)}], \n",
        "\"Ilysa\": [{'maths': (10, 9)}, {'lang': (8, 8)}], \n",
        "\"Clerkclaude\": [{'maths': (7, 2)}, {'lang': (10, 2)}], \n",
        "\"Yetty\": [{'maths': (8, 6)}, {'lang': (2, 4)}], \n",
        "\"Cassandre\": [{'maths': (6, 1)}, {'lang': (9, 5)}], \n",
        "\"Olympie\": [{'maths': (3, 3)}, {'lang': (10, 3)}], \n",
        "\"Joshuah\": [{'maths': (7, 7)}, {'lang': (9, 2)}], \n",
        "\"Kristine\": [{'maths': (3, 4)}, {'lang': (7, 7)}], \n",
        "\"Dean\": [{'maths': (8, 6)}, {'lang': (10, 10)}], \n",
        "\"Ilyssa\": [{'maths': (9, 7)}, {'lang': (5, 3)}], \n",
        "\"Nannie\": [{'maths': (6, 9)}, {'lang': (2, 10)}], \n",
        "\"Feodor\": [{'maths': (5, 6)}, {'lang': (3, 7)}], \n",
        "\"Guglielma\": [{'maths': (10, 3)}, {'lang': (9, 6)}], \n",
        "\"Alla\": [{'maths': (9, 10)}, {'lang': (7, 7)}], \n",
        "\"Rowland\": [{'maths': (4, 10)}, {'lang': (8, 7)}], \n",
        "\"Miquela\": [{'maths': (7, 5)}, {'lang': (2, 7)}], \n",
        "\"Sapphira\": [{'maths': (4, 6)}, {'lang': (5, 2)}], \n",
        "\"Zorina\": [{'maths': (3, 2)}, {'lang': (4, 9)}], \n",
        "\"Rosemonde\": [{'maths': (10, 6)}, {'lang': (9, 9)}], \n",
        "\"Alisa\": [{'maths': (1, 4)}, {'lang': (9, 5)}], \n",
        "\"Ginger\": [{'maths': (3, 4)}, {'lang': (1, 2)}], \n",
        "\"Karlis\": [{'maths': (9, 8)}, {'lang': (3, 1)}], \n",
        "\"Robbin\": [{'maths': (7, 5)}, {'lang': (10, 8)}], \n",
        "\"Kimberly\": [{'maths': (3, 7)}, {'lang': (8, 1)}], \n",
        "\"Udale\": [{'maths': (7, 1)}, {'lang': (1, 7)}], \n",
        "\"Isidor\": [{'maths': (8, 2)}, {'lang': (6, 3)}], \n",
        "\"Farlee\": [{'maths': (5, 10)}, {'lang': (9, 9)}], \n",
        "\"Katleen\": [{'maths': (8, 6)}, {'lang': (9, 3)}], \n",
        "\"Nanine\": [{'maths': (5, 7)}, {'lang': (9, 9)}], \n",
        "\"Marlow\": [{'maths': (2, 4)}, {'lang': (5, 2)}]\n",
        "}\n"
      ],
      "outputs": [],
      "execution_count": 4,
      "metadata": {
        "gather": {
          "logged": 1733512737456
        }
      }
    },
    {
      "cell_type": "code",
      "source": [
        "#EJERCICIO 1 completar la nota media de cada alumno por asignatura.\n",
        "copia_notas = dict(notas) #para no alterar los datos y trabajar siempre con el objeto original. \n",
        "\n",
        "lnotas = list(copia_notas.items())\n",
        "subnotas = dict(lnotas[:3])\n",
        "\n",
        "for alumno, asignaturas in subnotas.items():\n",
        "    print (alumno, asignaturas)\n",
        "    for asignatura in asignaturas:\n",
        "        print(asignatura)"
      ],
      "outputs": [
        {
          "output_type": "stream",
          "name": "stdout",
          "text": "Sosanna [{'maths': (4, 3)}, {'lang': (5, 5)}]\n{'maths': (4, 3)}\n{'lang': (5, 5)}\nRosalind [{'maths': (8, 6)}, {'lang': (10, 5)}]\n{'maths': (8, 6)}\n{'lang': (10, 5)}\nGaspar [{'maths': (1, 6)}, {'lang': (7, 5)}]\n{'maths': (1, 6)}\n{'lang': (7, 5)}\n"
        }
      ],
      "execution_count": 5,
      "metadata": {
        "gather": {
          "logged": 1733512742735
        }
      }
    },
    {
      "cell_type": "code",
      "source": [
        "#EJERCICIO 2 para no trabajar con las 99 notas sino con un subconjunto puedo generar un subconjunto de notas.\n",
        "#Para crear un subconjunto de notas en Python, puedes seleccionar a ciertos estudiantes o realizar alguna operación sobre las notas, dependiendo de lo que necesites. Aquí te doy algunos ejemplos de cómo podrías crear subconjuntos\n",
        "\n",
        "#Ejemplo 1: Subconjunto de estudiantes que aprobaron matemáticas (nota final ≥ 5)\n",
        "\n",
        "# Crear un subconjunto de estudiantes que aprobaron matemáticas (nota final >= 5)\n",
        "aprobados_matematicas = {estudiante: notas[estudiante][0] for estudiante in notas if notas[estudiante][0]['maths'][0] >= 5}\n",
        "\n",
        "# Mostrar el subconjunto\n",
        "print(aprobados_matematicas)\n"
      ],
      "outputs": [
        {
          "output_type": "stream",
          "name": "stdout",
          "text": "{'Rosalind': {'maths': (8, 6)}, 'Jayme': {'maths': (5, 1)}, 'Dasya': {'maths': (5, 3)}, 'Risa': {'maths': (9, 9)}, 'Florenza': {'maths': (10, 5)}, 'Donella': {'maths': (10, 3)}, 'Beatrisa': {'maths': (9, 2)}, 'Shaylah': {'maths': (6, 7)}, 'Swen': {'maths': (8, 5)}, 'Sybyl': {'maths': (10, 2)}, 'Ynes': {'maths': (6, 10)}, 'Antonie': {'maths': (9, 3)}, 'Trixie': {'maths': (9, 10)}, 'Merlina': {'maths': (6, 8)}, 'Reggie': {'maths': (10, 2)}, 'Burk': {'maths': (8, 7)}, 'Seymour': {'maths': (5, 8)}, 'Arther': {'maths': (5, 5)}, 'Avictor': {'maths': (9, 2)}, 'Lynette': {'maths': (7, 2)}, 'Devonne': {'maths': (10, 2)}, 'Chiarra': {'maths': (6, 1)}, 'Veronica': {'maths': (8, 6)}, 'Jared': {'maths': (6, 1)}, 'Lori': {'maths': (6, 1)}, 'Merrily': {'maths': (5, 7)}, 'Skipton': {'maths': (9, 6)}, 'Tom': {'maths': (10, 5)}, 'Warde': {'maths': (8, 7)}, 'Woodie': {'maths': (10, 3)}, 'Wilow': {'maths': (10, 8)}, 'Charissa': {'maths': (5, 3)}, 'Ralina': {'maths': (10, 9)}, 'Charisse': {'maths': (6, 5)}, 'Huntley': {'maths': (8, 7)}, 'Dilan': {'maths': (8, 6)}, 'Frederique': {'maths': (5, 10)}, 'Saba': {'maths': (9, 8)}, 'Magnum': {'maths': (7, 1)}, 'Grace': {'maths': (9, 4)}, 'Ilysa': {'maths': (10, 9)}, 'Clerkclaude': {'maths': (7, 2)}, 'Yetty': {'maths': (8, 6)}, 'Cassandre': {'maths': (6, 1)}, 'Joshuah': {'maths': (7, 7)}, 'Dean': {'maths': (8, 6)}, 'Ilyssa': {'maths': (9, 7)}, 'Nannie': {'maths': (6, 9)}, 'Feodor': {'maths': (5, 6)}, 'Guglielma': {'maths': (10, 3)}, 'Alla': {'maths': (9, 10)}, 'Miquela': {'maths': (7, 5)}, 'Rosemonde': {'maths': (10, 6)}, 'Karlis': {'maths': (9, 8)}, 'Robbin': {'maths': (7, 5)}, 'Udale': {'maths': (7, 1)}, 'Isidor': {'maths': (8, 2)}, 'Farlee': {'maths': (5, 10)}, 'Katleen': {'maths': (8, 6)}, 'Nanine': {'maths': (5, 7)}}\n{'Sosanna': {'lang': (5, 5)}, 'Rosalind': {'lang': (10, 5)}, 'Gaspar': {'lang': (7, 5)}, 'Herve': {'lang': (8, 2)}, 'Jayme': {'lang': (10, 7)}, 'Dasya': {'lang': (8, 2)}, 'Donella': {'lang': (8, 3)}, 'Thain': {'lang': (6, 3)}, 'Swen': {'lang': (7, 6)}, 'Vaclav': {'lang': (9, 10)}, 'Hermine': {'lang': (8, 1)}, 'Trixie': {'lang': (5, 4)}, 'Mathilde': {'lang': (8, 1)}, 'Zared': {'lang': (5, 3)}, 'Brandais': {'lang': (7, 1)}, 'Reggie': {'lang': (10, 8)}, 'Burk': {'lang': (5, 5)}, 'Seymour': {'lang': (8, 3)}, 'Fergus': {'lang': (5, 5)}, 'Jeanette': {'lang': (5, 4)}, 'Arther': {'lang': (9, 5)}, 'Avictor': {'lang': (8, 5)}, 'Lynette': {'lang': (10, 6)}, 'Devonne': {'lang': (6, 8)}, 'Hattie': {'lang': (7, 2)}, 'Lori': {'lang': (10, 10)}, 'Maximilian': {'lang': (10, 9)}, 'Cirilo': {'lang': (6, 6)}, 'Warde': {'lang': (9, 5)}, 'Odetta': {'lang': (7, 9)}, 'Cordelie': {'lang': (9, 1)}, 'Charissa': {'lang': (5, 10)}, 'Ralina': {'lang': (8, 2)}, 'Huntley': {'lang': (10, 3)}, 'Ella': {'lang': (6, 8)}, 'Nelli': {'lang': (5, 10)}, 'Dilan': {'lang': (7, 6)}, 'Saba': {'lang': (9, 9)}, 'Natalya': {'lang': (5, 2)}, 'Grace': {'lang': (6, 6)}, 'Ilysa': {'lang': (8, 8)}, 'Clerkclaude': {'lang': (10, 2)}, 'Cassandre': {'lang': (9, 5)}, 'Olympie': {'lang': (10, 3)}, 'Joshuah': {'lang': (9, 2)}, 'Kristine': {'lang': (7, 7)}, 'Dean': {'lang': (10, 10)}, 'Ilyssa': {'lang': (5, 3)}, 'Guglielma': {'lang': (9, 6)}, 'Alla': {'lang': (7, 7)}, 'Rowland': {'lang': (8, 7)}, 'Sapphira': {'lang': (5, 2)}, 'Rosemonde': {'lang': (9, 9)}, 'Alisa': {'lang': (9, 5)}, 'Robbin': {'lang': (10, 8)}, 'Kimberly': {'lang': (8, 1)}, 'Isidor': {'lang': (6, 3)}, 'Farlee': {'lang': (9, 9)}, 'Katleen': {'lang': (9, 3)}, 'Nanine': {'lang': (9, 9)}, 'Marlow': {'lang': (5, 2)}}\n{'Rosalind': [{'maths': (8, 6)}, {'lang': (10, 5)}], 'Jayme': [{'maths': (5, 1)}, {'lang': (10, 7)}], 'Dasya': [{'maths': (5, 3)}, {'lang': (8, 2)}], 'Donella': [{'maths': (10, 3)}, {'lang': (8, 3)}], 'Swen': [{'maths': (8, 5)}, {'lang': (7, 6)}], 'Trixie': [{'maths': (9, 10)}, {'lang': (5, 4)}], 'Reggie': [{'maths': (10, 2)}, {'lang': (10, 8)}], 'Burk': [{'maths': (8, 7)}, {'lang': (5, 5)}], 'Seymour': [{'maths': (5, 8)}, {'lang': (8, 3)}], 'Arther': [{'maths': (5, 5)}, {'lang': (9, 5)}], 'Avictor': [{'maths': (9, 2)}, {'lang': (8, 5)}], 'Lynette': [{'maths': (7, 2)}, {'lang': (10, 6)}], 'Devonne': [{'maths': (10, 2)}, {'lang': (6, 8)}], 'Lori': [{'maths': (6, 1)}, {'lang': (10, 10)}], 'Warde': [{'maths': (8, 7)}, {'lang': (9, 5)}], 'Charissa': [{'maths': (5, 3)}, {'lang': (5, 10)}], 'Ralina': [{'maths': (10, 9)}, {'lang': (8, 2)}], 'Huntley': [{'maths': (8, 7)}, {'lang': (10, 3)}], 'Dilan': [{'maths': (8, 6)}, {'lang': (7, 6)}], 'Saba': [{'maths': (9, 8)}, {'lang': (9, 9)}], 'Grace': [{'maths': (9, 4)}, {'lang': (6, 6)}], 'Ilysa': [{'maths': (10, 9)}, {'lang': (8, 8)}], 'Clerkclaude': [{'maths': (7, 2)}, {'lang': (10, 2)}], 'Cassandre': [{'maths': (6, 1)}, {'lang': (9, 5)}], 'Joshuah': [{'maths': (7, 7)}, {'lang': (9, 2)}], 'Dean': [{'maths': (8, 6)}, {'lang': (10, 10)}], 'Ilyssa': [{'maths': (9, 7)}, {'lang': (5, 3)}], 'Guglielma': [{'maths': (10, 3)}, {'lang': (9, 6)}], 'Alla': [{'maths': (9, 10)}, {'lang': (7, 7)}], 'Rosemonde': [{'maths': (10, 6)}, {'lang': (9, 9)}], 'Robbin': [{'maths': (7, 5)}, {'lang': (10, 8)}], 'Isidor': [{'maths': (8, 2)}, {'lang': (6, 3)}], 'Farlee': [{'maths': (5, 10)}, {'lang': (9, 9)}], 'Katleen': [{'maths': (8, 6)}, {'lang': (9, 3)}], 'Nanine': [{'maths': (5, 7)}, {'lang': (9, 9)}]}\n"
        }
      ],
      "execution_count": 8,
      "metadata": {
        "jupyter": {
          "source_hidden": false,
          "outputs_hidden": false
        },
        "nteract": {
          "transient": {
            "deleting": false
          }
        },
        "gather": {
          "logged": 1733513279858
        }
      }
    },
    {
      "cell_type": "code",
      "source": [
        "#Ejemplo 2: Subconjunto de estudiantes que aprobaron lengua\n",
        "\n",
        "# Crear un subconjunto de estudiantes que aprobaron lengua (nota final >= 5)\n",
        "aprobados_lengua = {estudiante: notas[estudiante][1] for estudiante in notas if notas[estudiante][1]['lang'][0] >= 5}\n",
        "\n",
        "# Mostrar el subconjunto\n",
        "print(aprobados_lengua)"
      ],
      "outputs": [
        {
          "output_type": "stream",
          "name": "stdout",
          "text": "{'Sosanna': {'lang': (5, 5)}, 'Rosalind': {'lang': (10, 5)}, 'Gaspar': {'lang': (7, 5)}, 'Herve': {'lang': (8, 2)}, 'Jayme': {'lang': (10, 7)}, 'Dasya': {'lang': (8, 2)}, 'Donella': {'lang': (8, 3)}, 'Thain': {'lang': (6, 3)}, 'Swen': {'lang': (7, 6)}, 'Vaclav': {'lang': (9, 10)}, 'Hermine': {'lang': (8, 1)}, 'Trixie': {'lang': (5, 4)}, 'Mathilde': {'lang': (8, 1)}, 'Zared': {'lang': (5, 3)}, 'Brandais': {'lang': (7, 1)}, 'Reggie': {'lang': (10, 8)}, 'Burk': {'lang': (5, 5)}, 'Seymour': {'lang': (8, 3)}, 'Fergus': {'lang': (5, 5)}, 'Jeanette': {'lang': (5, 4)}, 'Arther': {'lang': (9, 5)}, 'Avictor': {'lang': (8, 5)}, 'Lynette': {'lang': (10, 6)}, 'Devonne': {'lang': (6, 8)}, 'Hattie': {'lang': (7, 2)}, 'Lori': {'lang': (10, 10)}, 'Maximilian': {'lang': (10, 9)}, 'Cirilo': {'lang': (6, 6)}, 'Warde': {'lang': (9, 5)}, 'Odetta': {'lang': (7, 9)}, 'Cordelie': {'lang': (9, 1)}, 'Charissa': {'lang': (5, 10)}, 'Ralina': {'lang': (8, 2)}, 'Huntley': {'lang': (10, 3)}, 'Ella': {'lang': (6, 8)}, 'Nelli': {'lang': (5, 10)}, 'Dilan': {'lang': (7, 6)}, 'Saba': {'lang': (9, 9)}, 'Natalya': {'lang': (5, 2)}, 'Grace': {'lang': (6, 6)}, 'Ilysa': {'lang': (8, 8)}, 'Clerkclaude': {'lang': (10, 2)}, 'Cassandre': {'lang': (9, 5)}, 'Olympie': {'lang': (10, 3)}, 'Joshuah': {'lang': (9, 2)}, 'Kristine': {'lang': (7, 7)}, 'Dean': {'lang': (10, 10)}, 'Ilyssa': {'lang': (5, 3)}, 'Guglielma': {'lang': (9, 6)}, 'Alla': {'lang': (7, 7)}, 'Rowland': {'lang': (8, 7)}, 'Sapphira': {'lang': (5, 2)}, 'Rosemonde': {'lang': (9, 9)}, 'Alisa': {'lang': (9, 5)}, 'Robbin': {'lang': (10, 8)}, 'Kimberly': {'lang': (8, 1)}, 'Isidor': {'lang': (6, 3)}, 'Farlee': {'lang': (9, 9)}, 'Katleen': {'lang': (9, 3)}, 'Nanine': {'lang': (9, 9)}, 'Marlow': {'lang': (5, 2)}}\n"
        }
      ],
      "execution_count": 9,
      "metadata": {
        "jupyter": {
          "source_hidden": false,
          "outputs_hidden": false
        },
        "nteract": {
          "transient": {
            "deleting": false
          }
        },
        "gather": {
          "logged": 1733513305808
        }
      }
    },
    {
      "cell_type": "code",
      "source": [
        "#Ejemplo 3: Subconjunto de estudiantes con ambas materias aprobadas\n",
        "\n",
        "# Crear un subconjunto de estudiantes que aprobaron ambas materias (nota final >= 5 en ambas)\n",
        "aprobados_ambas = {estudiante: notas[estudiante] for estudiante in notas if notas[estudiante][0]['maths'][0] >= 5 and notas[estudiante][1]['lang'][0] >= 5}\n",
        "\n",
        "# Mostrar el subconjunto\n",
        "print(aprobados_ambas)\n"
      ],
      "outputs": [
        {
          "output_type": "stream",
          "name": "stdout",
          "text": "{'Rosalind': [{'maths': (8, 6)}, {'lang': (10, 5)}], 'Jayme': [{'maths': (5, 1)}, {'lang': (10, 7)}], 'Dasya': [{'maths': (5, 3)}, {'lang': (8, 2)}], 'Donella': [{'maths': (10, 3)}, {'lang': (8, 3)}], 'Swen': [{'maths': (8, 5)}, {'lang': (7, 6)}], 'Trixie': [{'maths': (9, 10)}, {'lang': (5, 4)}], 'Reggie': [{'maths': (10, 2)}, {'lang': (10, 8)}], 'Burk': [{'maths': (8, 7)}, {'lang': (5, 5)}], 'Seymour': [{'maths': (5, 8)}, {'lang': (8, 3)}], 'Arther': [{'maths': (5, 5)}, {'lang': (9, 5)}], 'Avictor': [{'maths': (9, 2)}, {'lang': (8, 5)}], 'Lynette': [{'maths': (7, 2)}, {'lang': (10, 6)}], 'Devonne': [{'maths': (10, 2)}, {'lang': (6, 8)}], 'Lori': [{'maths': (6, 1)}, {'lang': (10, 10)}], 'Warde': [{'maths': (8, 7)}, {'lang': (9, 5)}], 'Charissa': [{'maths': (5, 3)}, {'lang': (5, 10)}], 'Ralina': [{'maths': (10, 9)}, {'lang': (8, 2)}], 'Huntley': [{'maths': (8, 7)}, {'lang': (10, 3)}], 'Dilan': [{'maths': (8, 6)}, {'lang': (7, 6)}], 'Saba': [{'maths': (9, 8)}, {'lang': (9, 9)}], 'Grace': [{'maths': (9, 4)}, {'lang': (6, 6)}], 'Ilysa': [{'maths': (10, 9)}, {'lang': (8, 8)}], 'Clerkclaude': [{'maths': (7, 2)}, {'lang': (10, 2)}], 'Cassandre': [{'maths': (6, 1)}, {'lang': (9, 5)}], 'Joshuah': [{'maths': (7, 7)}, {'lang': (9, 2)}], 'Dean': [{'maths': (8, 6)}, {'lang': (10, 10)}], 'Ilyssa': [{'maths': (9, 7)}, {'lang': (5, 3)}], 'Guglielma': [{'maths': (10, 3)}, {'lang': (9, 6)}], 'Alla': [{'maths': (9, 10)}, {'lang': (7, 7)}], 'Rosemonde': [{'maths': (10, 6)}, {'lang': (9, 9)}], 'Robbin': [{'maths': (7, 5)}, {'lang': (10, 8)}], 'Isidor': [{'maths': (8, 2)}, {'lang': (6, 3)}], 'Farlee': [{'maths': (5, 10)}, {'lang': (9, 9)}], 'Katleen': [{'maths': (8, 6)}, {'lang': (9, 3)}], 'Nanine': [{'maths': (5, 7)}, {'lang': (9, 9)}]}\n"
        }
      ],
      "execution_count": 10,
      "metadata": {
        "jupyter": {
          "source_hidden": false,
          "outputs_hidden": false
        },
        "nteract": {
          "transient": {
            "deleting": false
          }
        },
        "gather": {
          "logged": 1733513331464
        }
      }
    },
    {
      "cell_type": "markdown",
      "source": [
        "EXPLICACION EJERCICIO 2\n",
        "\n",
        "Paso 1: ¿Qué es un diccionario en Python?\n",
        "\n",
        "Primero, es importante entender que el objeto con el que estás trabajando es un diccionario. En Python, un diccionario es una estructura que almacena pares de claves y valores. En tu caso, el diccionario se llama notas, y las claves son los nombres de los estudiantes, mientras que los valores son listas de diccionarios con las notas de matemáticas y lengua.\n",
        "\n",
        "Por ejemplo, el valor para el estudiante \"Sosanna\" es:\n",
        "\n",
        "python\n",
        "Copiar código\n",
        "\"Sosanna\": [{'maths': (4, 3)}, {'lang': (5, 5)}]\n",
        "Esto significa que \"Sosanna\" tiene:\n",
        "\n",
        "Una nota de 4 en matemáticas (y 3 en alguna evaluación continua, como se indica por la segunda parte de la tupla).\n",
        "Una nota de 5 en lengua (y 5 en evaluación continua).\n",
        "\n",
        "Paso 2: Usar un diccionario de comprensión\n",
        "\n",
        "Para hacer el subconjunto de estudiantes, utilicé lo que se llama un diccionario de comprensión en Python. Es una forma compacta de crear un diccionario nuevo, filtrando o modificando los elementos existentes.\n",
        "\n",
        "En los ejemplos, la sintaxis general es la siguiente:\n",
        "\n",
        "python\n",
        "Copiar código\n",
        "nuevo_diccionario = {clave: valor for clave, valor in diccionario.items() if condición}\n",
        "clave es el nombre del estudiante.\n",
        "valor es el par de notas de matemáticas y lengua.\n",
        "condición es lo que nos permite filtrar los estudiantes (por ejemplo, aquellos con una nota final en matemáticas mayor o igual a 5).\n",
        "\n",
        "Paso 3: Filtrar estudiantes según su calificación\n",
        "Ejemplo 1: Estudiantes que aprobaron matemáticas\n",
        "El primer ejemplo es filtrar a los estudiantes que tienen una nota final mayor o igual a 5 en matemáticas. Para hacer esto, seguimos estos pasos:\n",
        "\n",
        "Recorremos el diccionario notas. Cada estudiante es una \"clave\" y las notas son el \"valor\".\n",
        "Accedemos a la nota final de matemáticas de cada estudiante. La nota final está en la primera parte de la tupla de cada asignatura. Por ejemplo, para \"Sosanna\", la nota final de matemáticas es 4 (porque notas[\"Sosanna\"][0][\"maths\"][0] da 4).\n",
        "Comprobamos si la nota final en matemáticas es mayor o igual a 5. Si lo es, incluimos a ese estudiante en el nuevo diccionario.\n",
        "Finalmente, creamos un nuevo diccionario con los estudiantes que cumplen esa condición.\n",
        "El código es:\n",
        "\n",
        "python\n",
        "Copiar código\n",
        "aprobados_matematicas = {estudiante: notas[estudiante][0] for estudiante in notas if notas[estudiante][0]['maths'][0] >= 5}\n",
        "Aquí:\n",
        "\n",
        "estudiante: notas[estudiante][0] guarda el estudiante como clave y las notas de matemáticas (la primera parte de la lista) como valor.\n",
        "if notas[estudiante][0]['maths'][0] >= 5 filtra solo a los estudiantes cuya nota de matemáticas es mayor o igual a 5.\n",
        "Ejemplo 2: Estudiantes que aprobaron lengua\n",
        "El segundo ejemplo es similar, pero esta vez filtramos a los estudiantes que tienen una nota final mayor o igual a 5 en lengua. El proceso es el mismo, solo que cambiamos de matemáticas a lengua.\n",
        "\n",
        "python\n",
        "Copiar código\n",
        "aprobados_lengua = {estudiante: notas[estudiante][1] for estudiante in notas if notas[estudiante][1]['lang'][0] >= 5}\n",
        "En este caso:\n",
        "\n",
        "notas[estudiante][1] se refiere a las notas de lengua (que están en la segunda parte de la lista).\n",
        "Filtramos usando if notas[estudiante][1]['lang'][0] >= 5, es decir, seleccionamos a los estudiantes cuya nota de lengua es mayor o igual a 5.\n",
        "Ejemplo 3: Estudiantes que aprobaron ambas materias\n",
        "En el tercer ejemplo, queremos crear un subconjunto con los estudiantes que aprobaron tanto matemáticas como lengua. Para hacer esto, verificamos que ambos criterios se cumplan: que la nota final de matemáticas sea mayor o igual a 5 y que la de lengua también sea mayor o igual a 5.\n",
        "\n",
        "python\n",
        "Copiar código\n",
        "aprobados_ambas = {estudiante: notas[estudiante] for estudiante in notas if notas[estudiante][0]['maths'][0] >= 5 and notas[estudiante][1]['lang'][0] >= 5}\n",
        "Aquí:\n",
        "\n",
        "if notas[estudiante][0]['maths'][0] >= 5 and notas[estudiante][1]['lang'][0] >= 5 verifica que ambas notas sean mayores o iguales a 5.\n",
        "Si ambos son verdaderos, el estudiante se incluye en el subconjunto aprobados_ambas.\n",
        "\n",
        "Paso 4: Mostrar el subconjunto\n",
        "Al final, puedes mostrar el subconjunto creado simplemente usando print(), como he hecho en los ejemplos. Esto imprimirá el nuevo diccionario con los estudiantes que cumplen con la condición.\n",
        "\n",
        "Resumen\n",
        "Diccionario: Es una estructura en la que cada estudiante (clave) tiene un par de notas (valor).\n",
        "Diccionario de comprensión: Usamos esta técnica para crear un nuevo diccionario basado en una condición.\n",
        "Filtrado: La condición que se usa para incluir o excluir estudiantes se basa en sus notas (por ejemplo, mayor o igual a 5).\n"
      ],
      "metadata": {
        "nteract": {
          "transient": {
            "deleting": false
          }
        }
      }
    },
    {
      "cell_type": "code",
      "source": [
        "#Ejemplo de diccionario\n",
        "granja = {\n",
        "    \"pollos\": 10,\n",
        "    \"vacas\": 9,\n",
        "    \"delfin\": 5\n",
        "}\n",
        "granja[\"pollos\"]"
      ],
      "outputs": [
        {
          "output_type": "execute_result",
          "execution_count": 11,
          "data": {
            "text/plain": "10"
          },
          "metadata": {}
        }
      ],
      "execution_count": 11,
      "metadata": {
        "jupyter": {
          "source_hidden": false,
          "outputs_hidden": false
        },
        "nteract": {
          "transient": {
            "deleting": false
          }
        },
        "gather": {
          "logged": 1733514961653
        }
      }
    },
    {
      "cell_type": "code",
      "source": [
        "#EJERCICIO 3 "
      ],
      "outputs": [],
      "execution_count": null,
      "metadata": {
        "jupyter": {
          "source_hidden": false,
          "outputs_hidden": false
        },
        "nteract": {
          "transient": {
            "deleting": false
          }
        }
      }
    },
    {
      "cell_type": "code",
      "source": [
        "#EJERCICIO 4 Verificar que lo que tengo en cada uno de los elementos es un valor correcto. Para saber con qué datos estoy trabajando."
      ],
      "outputs": [],
      "execution_count": null,
      "metadata": {
        "jupyter": {
          "source_hidden": false,
          "outputs_hidden": false
        },
        "nteract": {
          "transient": {
            "deleting": false
          }
        }
      }
    },
    {
      "cell_type": "markdown",
      "source": [
        "\n",
        "\n",
        "Para verificar los datos que tienes en cada uno de los elementos de tu diccionario en Python, puedes seguir estos pasos:\n",
        "\n",
        "Comprobar la estructura de los datos: Asegúrate de que cada elemento en el diccionario sigue la estructura esperada, es decir, cada estudiante tiene una lista de diccionarios con las asignaturas y las calificaciones en forma de tuplas.\n",
        "\n",
        "Validar los valores: Verifica que las calificaciones sean números y que no se den errores como calificaciones obtenidas mayores que las máximas o valores fuera de un rango razonable.\n",
        "\n",
        "Recorrer el diccionario: Usar un ciclo para iterar sobre los datos y asegurarte de que todos los valores sean correctos.\n",
        "\n",
        "Ejemplo de cómo hacerlo en Python:\n",
        "python\n",
        "Copiar código\n",
        "# Diccionario de ejemplo\n",
        "notas = {\n",
        "    \"Sosanna\": [{'maths': (4, 3)}, {'lang': (5, 5)}],\n",
        "    \"Rosalind\": [{'maths': (8, 6)}, {'lang': (10, 5)}],\n",
        "    \"Gaspar\": [{'maths': (1, 6)}, {'lang': (7, 5)}],\n",
        "    # Aquí seguirían más estudiantes...\n",
        "}\n",
        "\n",
        "# Función para verificar los datos\n",
        "def verificar_datos(notas):\n",
        "    errores = []  # Aquí guardaremos los errores encontrados\n",
        "    for estudiante, registros in notas.items():\n",
        "        # Verificamos que cada estudiante tenga asignaturas y calificaciones correctas\n",
        "        for asignatura in registros:\n",
        "            for materia, (obtenido, maximo) in asignatura.items():\n",
        "                # Verificar que las calificaciones sean números\n",
        "                if not isinstance(obtenido, (int, float)) or not isinstance(maximo, (int, float)):\n",
        "                    errores.append(f\"Error en {estudiante} en {materia}: Calificación no válida ({obtenido}, {maximo})\")\n",
        "                \n",
        "                # Verificar que la calificación obtenida no sea mayor que la calificación máxima\n",
        "                if obtenido > maximo:\n",
        "                    errores.append(f\"Error en {estudiante} en {materia}: Calificación obtenida mayor que la máxima ({obtenido} > {maximo})\")\n",
        "                \n",
        "                # Verificar que las calificaciones estén dentro de un rango razonable (0-10)\n",
        "                if obtenido < 0 or obtenido > 10 or maximo < 0 or maximo > 10:\n",
        "                    errores.append(f\"Error en {estudiante} en {materia}: Calificación fuera del rango 0-10 ({obtenido}, {maximo})\")\n",
        "\n",
        "    # Si encontramos errores, los mostramos\n",
        "    if errores:\n",
        "        for error in errores:\n",
        "            print(error)\n",
        "    else:\n",
        "        print(\"Todos los datos son válidos.\")\n",
        "\n",
        "# Llamamos a la función para verificar los datos\n",
        "verificar_datos(notas)\n",
        "Explicación del código:\n",
        "Estructura del diccionario: El diccionario notas tiene como claves los nombres de los estudiantes y como valores listas de diccionarios que contienen las asignaturas y las calificaciones (como tuplas).\n",
        "\n",
        "Verificación de tipos: Dentro de la función verificar_datos, recorremos el diccionario notas, accediendo a cada estudiante y sus registros de asignaturas. Usamos isinstance() para asegurarnos de que tanto las calificaciones obtenidas como las máximas sean números (enteros o flotantes).\n",
        "\n",
        "Comprobación de valores válidos:\n",
        "\n",
        "Calificación obtenida no mayor que la calificación máxima: Si la calificación obtenida es mayor que la máxima, se agrega un error a la lista errores.\n",
        "Rango válido de calificaciones: Si alguna calificación está fuera del rango 0-10 (o el rango que sea apropiado para tu caso), se agrega otro error a la lista errores.\n",
        "Mostrar los errores: Si se encuentran errores, se muestran en consola. Si no hay errores, el programa muestra \"Todos los datos son válidos\".\n",
        "\n",
        "¿Qué verifica este código?\n",
        "Que las calificaciones obtenidas y máximas sean números.\n",
        "Que las calificaciones obtenidas no sean mayores que las calificaciones máximas.\n",
        "Que las calificaciones estén dentro de un rango razonable (en este caso, de 0 a 10).\n",
        "Ejemplo de salida:\n",
        "Si encuentras un error como que la calificación obtenida es mayor que la calificación máxima o que las calificaciones están fuera de rango, la salida será algo como esto:\n",
        "\n",
        "javascript\n",
        "Copiar código\n",
        "Error en Sosanna en maths: Calificación obtenida mayor que la máxima (4 > 3)\n",
        "Error en Rosalind en lang: Calificación obtenida mayor que la máxima (10 > 5)\n",
        "Error en Gaspar en maths: Calificación fuera del rango 0-10 (1, 6)\n",
        "...\n"
      ],
      "metadata": {
        "nteract": {
          "transient": {
            "deleting": false
          }
        }
      }
    }
  ],
  "metadata": {
    "kernelspec": {
      "name": "python38-azureml",
      "language": "python",
      "display_name": "Python 3.8 - AzureML"
    },
    "language_info": {
      "name": "python",
      "version": "3.10.11",
      "mimetype": "text/x-python",
      "codemirror_mode": {
        "name": "ipython",
        "version": 3
      },
      "pygments_lexer": "ipython3",
      "nbconvert_exporter": "python",
      "file_extension": ".py"
    },
    "microsoft": {
      "ms_spell_check": {
        "ms_spell_check_language": "es"
      }
    },
    "kernel_info": {
      "name": "python38-azureml"
    },
    "nteract": {
      "version": "nteract-front-end@1.0.0"
    }
  },
  "nbformat": 4,
  "nbformat_minor": 2
}