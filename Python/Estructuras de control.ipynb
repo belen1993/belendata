{
 "cells": [
  {
   "cell_type": "markdown",
   "metadata": {},
   "source": [
    "No vale con hacer procesado de la indormación. Ordenar va a ser un pasao dentro de un conjunto de pasos. Estos pasos van a tener condicionantes, para tomar decisiones tomaremos un IF. Decidiremos si la longitud de los datos es mayor que 0, entonces entraré en el proceso de ordenar y limpiar. Pero en caso de que no haya datos directamente finalizaré el programa. O en lugar de finalizar haré aparecer un mensaje indicando que no hay datos. \n",
    "Si lo que recibo es una lista de datos y tengo que ordenarlos. Tendré que evaluar los campos de ese diccionario para ver como lo hago. Procesaremos cada uno de los datos y aplicandoles algun tipo de logica. Elemento por elemento. Tendré que iterar. \n",
    "Como vamos a trabajar con varios datos con estructuras compuestas. En cada elemento podremos tener hasta 100 variables. Dentro de estos bucles de iteracion puedo tener otros bucles y es bastante habitual que no valga con un nivel de anidacion sencillo. Esto va a requerir que visualice diferentes niveles de integracion. \n",
    "\n",
    "\n",
    "IF si se cumple una condicion dara una cosa y si no dara otra\n",
    "ELIF\n",
    "ELSE\n",
    "\n",
    "FOR evaluar uno a uno los elementos en el orden en el que estan\n",
    "WHILE entrar en un bucle..."
   ]
  },
  {
   "cell_type": "code",
   "execution_count": null,
   "metadata": {},
   "outputs": [
    {
     "name": "stdout",
     "output_type": "stream",
     "text": [
      "Sí es>2\n"
     ]
    }
   ],
   "source": [
    "n = 3\n",
    "if n >= 2:\n",
    "    print('Sí es>2')\n",
    "# ALT + SHIFT`+ F` #para formatear el código"
   ]
  },
  {
   "cell_type": "code",
   "execution_count": 2,
   "metadata": {},
   "outputs": [
    {
     "name": "stdout",
     "output_type": "stream",
     "text": [
      "Sí es>2\n"
     ]
    }
   ],
   "source": [
    "n = 3\n",
    "if n >= 2:\n",
    "    print('Sí es>2')\n",
    "else:\n",
    "    print(\"es menor que 2\")\n",
    "# ALT + SHIFT`+ F` #para formatear el código"
   ]
  },
  {
   "cell_type": "code",
   "execution_count": 3,
   "metadata": {},
   "outputs": [
    {
     "name": "stdout",
     "output_type": "stream",
     "text": [
      "Sí es>2\n",
      "hola está en la frase\n"
     ]
    }
   ],
   "source": [
    "n = 4\n",
    "if n >= 2:\n",
    "    print('Sí es>2')\n",
    "elif n >=5 and n <7:\n",
    "    print('es mayor que 5')\n",
    "elif n >=7:\n",
    "    print('es mayor que 7')\n",
    "else:\n",
    "    print(\"es menor que 2\")\n",
    "\n",
    "if 'hola' in 'hola mundo':\n",
    "    print ('hola está en la frase')"
   ]
  },
  {
   "cell_type": "code",
   "execution_count": 4,
   "metadata": {},
   "outputs": [
    {
     "name": "stdout",
     "output_type": "stream",
     "text": [
      "es menor que 2\n",
      "hola está en la frase\n"
     ]
    }
   ],
   "source": [
    "n = 1\n",
    "if n >= 2 and n< 5:\n",
    "    print('estoy en el if')\n",
    "    print('Sí es>2')\n",
    "    if n ==4:\n",
    "        print('es un 4!')\n",
    "    else:\n",
    "        print('no es 4!')\n",
    "elif n >=5 and n <7:\n",
    "    print('es mayor que 5')\n",
    "elif n >=7:\n",
    "    print('es mayor que 7')\n",
    "else:\n",
    "    print(\"es menor que 2\")\n",
    "\n",
    "if 'hola' in 'hola mundo':\n",
    "    print ('hola está en la frase')"
   ]
  },
  {
   "cell_type": "markdown",
   "metadata": {},
   "source": [
    "Para ser más claros es recomendable separar por bloques. \n",
    "Como aparece en el ejemplo, se pueden anidar else, if, elif. \n",
    "En el lado izquiero del editor aparecen flechitar que permiten colapasarlo y así que sea más legible.\n",
    "En Jupyter Notebook es conveniente que en lugar de poner dos if seguidos ponerlos en celdas distintas. \n",
    "\n",
    "La iteraciones me permiten recorrer iterables como los FOR. "
   ]
  },
  {
   "cell_type": "code",
   "execution_count": 7,
   "metadata": {},
   "outputs": [
    {
     "name": "stdout",
     "output_type": "stream",
     "text": [
      "1\n",
      "2\n",
      "3\n",
      "4\n"
     ]
    }
   ],
   "source": [
    "#el for trabaja con el esquema for in. Lo que está antes del in es la varibale local donde se almanceran los\n",
    "#elementos que voy a iterar. Recorre cada uno de los números y los muestra.\n",
    "l1 = [1,2,3,4]\n",
    "\n",
    "for num in l1:\n",
    "    print(num)\n"
   ]
  },
  {
   "cell_type": "code",
   "execution_count": 8,
   "metadata": {},
   "outputs": [],
   "source": [
    "l1 = [1,2,3,4]\n",
    "t1 = (1,2,3,4)\n",
    "s1 = {1,2,3,4}\n",
    "d1 = {'a':1, 'b': 2, 'c': 3}\n",
    "\n",
    "#dl.items() ->(k, v)\n",
    "\n",
    "\n",
    "for num in l1:\n",
    "    print\n",
    "\n",
    "#clave valor. \n",
    "\n",
    "\n",
    "\n",
    "for num in l1:\n",
    "    print\n",
    "\n",
    "#clave valor. \n",
    "\n",
    "\n",
    "\n",
    "for num in l1:\n",
    "    print\n",
    "\n",
    "#clave valor. \n",
    "\n",
    "\n",
    "\n",
    "for num in l1:\n",
    "    print\n",
    "\n",
    "#clave valor. \n"
   ]
  },
  {
   "cell_type": "code",
   "execution_count": null,
   "metadata": {},
   "outputs": [],
   "source": [
    "l1 = [1,2,3,4]\n",
    "t1 = (1,2,3,4)\n",
    "s1 = {1,2,3,4}\n",
    "d1 = {'a':1, 'b': 2, 'c': 3}\n",
    "\n",
    "#dl.items() ->(k, v)\n",
    "\n",
    "for key, val in d1.items():\n",
    "    print(key, val)\n",
    "    if val >2:\n",
    "        print (key, val)\n",
    "    else:\n",
    "        print('menor que 3') FOTO MOVIL 1\n",
    "\n",
    "#recorre todos los elementos y llega al z que en mi caso es un 0 y entra en ese condicional que ejecuta un break y sale del bucle. El resto de elementos no se procesan. \n",
    "\n"
   ]
  },
  {
   "cell_type": "code",
   "execution_count": null,
   "metadata": {},
   "outputs": [],
   "source": [
    "l1 = [1,2,3,4]\n",
    "t1 = (1,2,3,4)\n",
    "s1 = {1,2,3,4}\n",
    "d1 = {'a':1, 'b': 2, 'c': 3}\n",
    "\n",
    "#dl.items() ->(k, v)\n",
    "\n",
    "for key, val in d1.items():\n",
    "    print(key, val)\n",
    "    if val >2:\n",
    "        print (key, val)\n",
    "\n",
    "    if val >2:\n",
    "        SALGO\n",
    "        \n",
    "\n",
    "#puedo tener procesos posteriores o anteriores al break. Si estoy en un continuo se habrá ejecutado lo anterior pero no lo posterior. \n",
    "#los break estaran asociados a un condicional, no es que no continue con el siguiente bloque sino que directamente se sale de la iteración esté donde esté.\n",
    "\n"
   ]
  },
  {
   "cell_type": "code",
   "execution_count": 15,
   "metadata": {},
   "outputs": [
    {
     "name": "stdout",
     "output_type": "stream",
     "text": [
      "estoy en el while...\n",
      "0\n"
     ]
    },
    {
     "ename": "NameError",
     "evalue": "name 'nsec' is not defined",
     "output_type": "error",
     "traceback": [
      "\u001b[0;31m---------------------------------------------------------------------------\u001b[0m",
      "\u001b[0;31mNameError\u001b[0m                                 Traceback (most recent call last)",
      "Cell \u001b[0;32mIn[15], line 11\u001b[0m\n\u001b[1;32m      9\u001b[0m \u001b[38;5;28mprint\u001b[39m(contador)\n\u001b[1;32m     10\u001b[0m \u001b[38;5;66;03m#contador +-1 #contador - contador + 1\u001b[39;00m\n\u001b[0;32m---> 11\u001b[0m nsec \u001b[38;5;241m=\u001b[39m \u001b[43mnsec\u001b[49m \u001b[38;5;241m-\u001b[39m \u001b[38;5;241m1\u001b[39m\n\u001b[1;32m     12\u001b[0m \u001b[38;5;28;01mif\u001b[39;00m \u001b[38;5;129;01mnot\u001b[39;00m nsec:\n\u001b[1;32m     13\u001b[0m     \u001b[38;5;28;01mbreak\u001b[39;00m\n",
      "\u001b[0;31mNameError\u001b[0m: name 'nsec' is not defined"
     ]
    }
   ],
   "source": [
    "#WHILE toma una condición asociado a algo que varía. Como un contador. Lo que quiero es condicionar la ejecución de un bucle a que un contador sea < a 10\n",
    "#seguridad para que no entre en bucle\n",
    "\n",
    "contador = 0\n",
    "insec = 10\n",
    "\n",
    "while contador < 10:\n",
    "    print ('estoy en el while...')\n",
    "    print(contador)\n",
    "    #contador +-1 #contador - contador + 1\n",
    "    nsec = nsec - 1\n",
    "    if not nsec:\n",
    "        break\n",
    "    "
   ]
  },
  {
   "cell_type": "code",
   "execution_count": null,
   "metadata": {},
   "outputs": [
    {
     "name": "stdout",
     "output_type": "stream",
     "text": [
      "1\n",
      "2\n",
      "3\n",
      "4\n",
      "5\n"
     ]
    }
   ],
   "source": [
    "#Si quiero recorrer una lista podría hacer el recorrido de la lista. Dado que la lista puede variar de tamaño para condicionar la salida del while puedo utilizar la funcion len. \n",
    "#para cambiar textos podemos seleccionar el elemnento y con CTRL D se marcaran todos y le cambiamos el valor a la vez.\n",
    "l1 = [1,2,3,4,5]\n",
    "index = 0\n",
    "\n",
    "while index < len(l1):\n",
    "    print (l1[index])\n",
    "    index += 1"
   ]
  },
  {
   "cell_type": "code",
   "execution_count": null,
   "metadata": {},
   "outputs": [],
   "source": [
    "\n",
    "#la logica interna de un while puede ser la misma que un for. Para iterables es mejor el for. Pero cuando no conozco el tamaño de los iterables es mejor el while. \n",
    "#hacer procesos asincronos. Si soy un usuario y tengo un programa que quiero que el usuario tome decisiones con un for no se puede. Un while sería mejor. \n",
    "d1 = {'a':1, 'b': 2, 'c': 3, 'd':4}\n",
    "l1 = list(d1.item())\n",
    "\n",
    "ldx = 0\n",
    "\n",
    " "
   ]
  },
  {
   "cell_type": "code",
   "execution_count": null,
   "metadata": {},
   "outputs": [],
   "source": [
    "\n",
    "opcion = 0 \n",
    "\n",
    "while opcion != 4:\n",
    "    try\n"
   ]
  },
  {
   "cell_type": "code",
   "execution_count": null,
   "metadata": {},
   "outputs": [],
   "source": [
    "#lista que a su vez tiene tuplas internas, esto es una matriz bidireccional.\n",
    "#procesar los elementos de la lista y que para cada uno de los elementos que como están anidados puede ser que sea necesario iterar sobre ellos. \n",
    "#Iteraremos sobre la lista item in l1 y procese cada uno de esos items individualmente. Podría entrar en un segundo bucle for col in fila y procesar a su vez \n",
    "#cada uno de esos elementos. Tenemos un for anidado que me permite recorrer primero un nivel y luego otro nivel. \n",
    "dl ={'a':1, 'b':2, 'z':0, 'c':3, 'd':4}\n",
    "l1 = list(d1.items())\n",
    "\n",
    "print(l1)\n",
    "\n",
    "for fila in l1:\n",
    "    print ('fila ACABAR\n",
    "    "
   ]
  }
 ],
 "metadata": {
  "kernelspec": {
   "display_name": "Python 3.8 - AzureML",
   "language": "python",
   "name": "python38-azureml"
  },
  "language_info": {
   "codemirror_mode": {
    "name": "ipython",
    "version": 3
   },
   "file_extension": ".py",
   "mimetype": "text/x-python",
   "name": "python",
   "nbconvert_exporter": "python",
   "pygments_lexer": "ipython3",
   "version": "3.10.11"
  }
 },
 "nbformat": 4,
 "nbformat_minor": 2
}
