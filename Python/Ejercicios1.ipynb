{
 "cells": [
  {
   "cell_type": "code",
   "execution_count": 2,
   "metadata": {},
   "outputs": [
    {
     "name": "stdout",
     "output_type": "stream",
     "text": [
      "True\n"
     ]
    }
   ],
   "source": [
    "#Escribe un programa que almacene internamente una lista de números, pida al usuario un número e indique si está en la lista con un True o False.\n",
    "# Crear una lista de números\n",
    "numeros = [1, 2, 3, 4, 5, 6, 7, 8, 9, 10]\n",
    "\n",
    "# Pedir al usuario que ingrese un número\n",
    "numero_usuario = int(input(\"Introduce un número: \"))\n",
    "\n",
    "# Verificar si el número está en la lista\n",
    "esta_en_lista = numero_usuario in numeros\n",
    "\n",
    "# Mostrar el resultado\n",
    "print(esta_en_lista)\n",
    "\n",
    "\n"
   ]
  },
  {
   "cell_type": "code",
   "execution_count": null,
   "metadata": {},
   "outputs": [
    {
     "name": "stdout",
     "output_type": "stream",
     "text": [
      "Tipo de 'numero_entero': <class 'int'>\n",
      "Tipo de 'numero_decimal': <class 'float'>\n",
      "Tipo de 'texto': <class 'str'>\n",
      "Tipo de 'lista': <class 'list'>\n",
      "Tipo de 'tupla': <class 'tuple'>\n",
      "Tipo de 'conjunto': <class 'set'>\n",
      "Tipo de 'diccionario': <class 'dict'>\n",
      "Tipo de 'booleano': <class 'bool'>\n"
     ]
    }
   ],
   "source": [
    "#1.1. Define una variable con valores que se te ocurran e identifica sus tipos. Por ejemplo, números, textos, listas, tuplas, conjuntos, etc. \n",
    "numero_entero = 42                   # Un número entero\n",
    "numero_decimal = 3.14                # Un número decimal (float)\n",
    "texto = \"Hola, ¿cómo estás?\"         # Una cadena de texto (string)\n",
    "lista = [1, 2, 3, \"manzana\", True]   # Una lista (list) con diferentes tipos de elementos\n",
    "tupla = (10, 20, 30, \"python\")       # Una tupla (tuple)\n",
    "conjunto = {1, 2, 3, 3, 4, 5}        # Un conjunto (set) (el valor 3 se repetirá y será eliminado)\n",
    "diccionario = {\"nombre\": \"Juan\", \"edad\": 25}  # Un diccionario (dict)\n",
    "booleano = True                      # Un valor booleano (bool)\n",
    "\n",
    "print(\"Tipo de 'numero_entero':\", type(numero_entero))   # int\n",
    "print(\"Tipo de 'numero_decimal':\", type(numero_decimal)) # float\n",
    "print(\"Tipo de 'texto':\", type(texto))                   # str\n",
    "print(\"Tipo de 'lista':\", type(lista))                   # list\n",
    "print(\"Tipo de 'tupla':\", type(tupla))                   # tuple\n",
    "print(\"Tipo de 'conjunto':\", type(conjunto))             # set\n",
    "print(\"Tipo de 'diccionario':\", type(diccionario))       # dict\n",
    "print(\"Tipo de 'booleano':\", type(booleano))             # bool\n",
    "\n"
   ]
  },
  {
   "cell_type": "markdown",
   "metadata": {},
   "source": [
    "numero_entero = 42: Una variable que almacena un número entero. Su tipo será int.\n",
    "numero_decimal = 3.14: Una variable que almacena un número decimal. Su tipo será float.\n",
    "texto = \"Hola, ¿cómo estás?\": Una variable que almacena una cadena de texto (string). Su tipo será str.\n",
    "lista = [1, 2, 3, \"manzana\", True]: Una lista que puede contener diferentes tipos de datos. Su tipo será list.\n",
    "tupla = (10, 20, 30, \"python\"): Una tupla, que es una colección inmutable de elementos. Su tipo será tuple.\n",
    "conjunto = {1, 2, 3, 3, 4, 5}: Un conjunto, que es una colección desordenada de elementos únicos. El número 3 se repetirá, pero solo se almacenará una vez. Su tipo será set.\n",
    "diccionario = {\"nombre\": \"Juan\", \"edad\": 25}: Un diccionario, que almacena pares de clave-valor. Su tipo será dict.\n",
    "booleano = True: Un valor booleano. Su tipo será bool."
   ]
  },
  {
   "cell_type": "code",
   "execution_count": 4,
   "metadata": {},
   "outputs": [
    {
     "name": "stdout",
     "output_type": "stream",
     "text": [
      "('Nala', 'Tom', 'Jerry', 'Pikachu', 'Ruddy', 'Timón', 'Pumba')\n"
     ]
    }
   ],
   "source": [
    "#1.2 Crea una tupla que contenga algunos nombres de mascota\n",
    "# Crear una tupla con nombres de mascota\n",
    "nombres_mascotas = (\"Nala\", \"Tom\", \"Jerry\", \"Pikachu\", \"Ruddy\", \"Timón\", \"Pumba\")\n",
    "\n",
    "# Mostrar la tupla\n",
    "print(nombres_mascotas)\n"
   ]
  },
  {
   "cell_type": "code",
   "execution_count": 1,
   "metadata": {},
   "outputs": [
    {
     "name": "stdout",
     "output_type": "stream",
     "text": [
      "{'Firulais': 'Perro', 'Michi': 'Gato', 'Pepe': 'Pájaro', 'Rocky': 'Conejo', 'Nina': 'Tortuga'}\n",
      "Tipo de animal de Firulais: Perro\n",
      "Tipo de animal de Michi: Gato\n",
      "Tipo de animal de Pepe: Pájaro\n"
     ]
    }
   ],
   "source": [
    "#1.3 Crea un diccionario \"mascotas\", que contenga el nombre y tipo de animal de cada mascota\n",
    "# Creando el diccionario \"mascotas\"\n",
    "mascotas = {\n",
    "    \"Firulais\": \"Perro\",\n",
    "    \"Michi\": \"Gato\",\n",
    "    \"Pepe\": \"Pájaro\",\n",
    "    \"Rocky\": \"Conejo\",\n",
    "    \"Nina\": \"Tortuga\"\n",
    "}\n",
    "\n",
    "# Imprimir el diccionario completo\n",
    "print(mascotas)\n",
    "\n",
    "# Acceder a los valores usando las claves (nombre de la mascota)\n",
    "print(\"Tipo de animal de Firulais:\", mascotas[\"Firulais\"])  # Imprime 'Perro'\n",
    "print(\"Tipo de animal de Michi:\", mascotas[\"Michi\"])        # Imprime 'Gato'\n",
    "print(\"Tipo de animal de Pepe:\", mascotas[\"Pepe\"])          # Imprime 'Pájaro'"
   ]
  },
  {
   "cell_type": "code",
   "execution_count": null,
   "metadata": {},
   "outputs": [],
   "source": [
    " "
   ]
  }
 ],
 "metadata": {
  "kernelspec": {
   "display_name": "Python 3.8 - AzureML",
   "language": "python",
   "name": "python38-azureml"
  },
  "language_info": {
   "codemirror_mode": {
    "name": "ipython",
    "version": 3
   },
   "file_extension": ".py",
   "mimetype": "text/x-python",
   "name": "python",
   "nbconvert_exporter": "python",
   "pygments_lexer": "ipython3",
   "version": "3.10.11"
  }
 },
 "nbformat": 4,
 "nbformat_minor": 2
}
