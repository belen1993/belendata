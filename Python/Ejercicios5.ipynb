{
 "cells": [
  {
   "cell_type": "code",
   "execution_count": 5,
   "metadata": {},
   "outputs": [],
   "source": [
    "#5.1- Implementa una función que verifique si una palabra dada es un palíndromo (se lee igual adelante o atrás)\n",
    "#5.2- Implementa un función que reciba una serie de números como parámetro y determine cuantos impares hay en ella\n",
    "#5.3- Dada una lista de alumnos, donde cada alumno es un dictionario con \"nombre, direccion y edad\"; implementa una solución basada en funciones que transforme la letra intermedia (o más cercana al centro) del nombre de cada alumno en mayúscula y el resto en minúsculas\n",
    "#\t+ Pedro > peDro, Luis > luIs\n",
    "#5.4- Dada una lista de alumnos anterior, donde cada alumno es un dictionario con nombre, direccion y edad; implementa una solución basada en funciones que transforme la lista en dos listas de tuplas del tipo (nombre, direccion), (nombre, edad)#\n",
    "#5.5- Escribe una expresión lambda que eleve al cubo todos los números de la lista siguiente: [1,2,3,4,5,6,7,8], usando la función map\n",
    "\n",
    "#5.6- Refactoriza el ejercicio de notas de alumnos para que se base en funciones"
   ]
  },
  {
   "cell_type": "code",
   "execution_count": 6,
   "metadata": {},
   "outputs": [],
   "source": [
    "#1 \n",
    "def es_palindromo(word):\n",
    "#Esta línea define una función llamada esPalindromo que toma un argumento, word. En Python, la palabra clave def se usa para definir una función.\n",
    "    isPal = word ==word[::-1]\n",
    "#Aquí se crea una variable llamada isPal.\n",
    "#word[::-1] es una técnica de rebanado de cadenas que invierte la cadena word. Por ejemplo, si word es \"hola\", word[::-1] será \"aloh\".\n",
    "#La expresión word == word[::-1] compara la cadena original con su versión invertida. Si son iguales, significa que la palabra es un palíndromo y la expresión será True. De lo contrario, será False.\n",
    "    return isPal\n",
    "#Esta línea devuelve el valor de isPal desde la función. Si la palabra es un palíndromo, devolverá True. Si no, devolverá False.Esta línea devuelve el valor de isPal desde la función. Si la palabra es un palíndromo, devolverá True. Si no, devolverá False.\n"
   ]
  },
  {
   "cell_type": "code",
   "execution_count": 7,
   "metadata": {},
   "outputs": [
    {
     "name": "stdout",
     "output_type": "stream",
     "text": [
      "True\n"
     ]
    }
   ],
   "source": [
    "print(es_palindromo(\"reconocer\"))"
   ]
  },
  {
   "cell_type": "code",
   "execution_count": 8,
   "metadata": {},
   "outputs": [
    {
     "name": "stdout",
     "output_type": "stream",
     "text": [
      "False\n"
     ]
    }
   ],
   "source": [
    "print(es_palindromo(\"hola\"))"
   ]
  },
  {
   "cell_type": "code",
   "execution_count": 9,
   "metadata": {},
   "outputs": [
    {
     "name": "stdout",
     "output_type": "stream",
     "text": [
      "True\n",
      "True\n",
      "False\n",
      "False\n"
     ]
    }
   ],
   "source": [
    "def es_palindromo2(word):\n",
    "#Se define una función llamada es_palindromo2 que toma un argumento, word\n",
    "    reversedW = ''.join(reversed(list(word)))\n",
    "    #Aquí se crea una variable llamada reversedW.\n",
    "    #list(word) convierte la cadena word en una lista de caracteres. Por ejemplo, si word es \"hola\", list(word) será ['h', 'o', 'l', 'a']\n",
    "    #reversed(list(word)) invierte el orden de los caracteres en la lista. Siguiendo el ejemplo anterior, será ['a', 'l', 'o', 'h'].\n",
    "    #''.join(...) une los caracteres invertidos en una sola cadena de nuevo. Así que ''.join(reversed(list(word))) dará como resultado \"aloh\".\n",
    "    isPal = word == reversedW\n",
    "    #Esta línea compara la palabra original word con su versión invertida reversedW. Si son iguales, isPal será True. Si no, será False.\n",
    "    return isPal\n",
    "    #Esta línea devuelve el valor de isPal desde la función. Si la palabra es un palíndromo, devolverá True. Si no, devolverá False.\n",
    "\n",
    "palabra = 'arañara'\n",
    "#se asigna la palabra 'arañara' a la variable palabra.\n",
    "print(es_palindromo(palabra)) #Llama a la función es_palindromo con la palabra 'arañara' y muestra el resultado.\n",
    "print(es_palindromo2(palabra)) #Llama a la función es_palindromo2 con la palabra 'arañara' y muestra el resultado.\n",
    "\n",
    "palabra = 'hola'\n",
    "#Se asigna la palabra 'hola' a la variable palabra.\n",
    "\n",
    "print(es_palindromo(palabra)) #Llama a la función es_palindromo con la palabra 'hola' y muestra el resultado\n",
    "print(es_palindromo2(palabra)) #Llama a la función es_palindromo2 con la palabra 'hola' y muestra el resultado.\n",
    "\n",
    "#"
   ]
  },
  {
   "cell_type": "code",
   "execution_count": 10,
   "metadata": {},
   "outputs": [
    {
     "name": "stdout",
     "output_type": "stream",
     "text": [
      "(1, 2, 3, 4, 5, 6, 7)\n",
      "4\n",
      "(1, 4, 7, 10, 13, 16, 19, 22, 25, 28, 31, 34, 37, 40, 43, 46, 49, 52, 55, 58, 61, 64, 67, 70, 73, 76, 79, 82, 85, 88, 91, 94, 97)\n",
      "17\n"
     ]
    }
   ],
   "source": [
    "#2\n",
    "def getImpares(*serie):\n",
    "#define una función llamada getImpares que toma una cantidad variable de argumentos. El * antes del nombre serie indica que la función puede recibir cualquier cantidad de argumentos\n",
    "#y los agrupa en una tupla llamada serie.\n",
    "    print(serie)\n",
    "    #imprime la tupla serie en la consola. Es útil para ver qué datos se están pasando a la función. \n",
    "    num_imp = 0\n",
    "    #aquí se inicia una variable num_imp en 0. Esta varibale contará el número de elemenetos impartes en la tupla serie. \n",
    "    for aNum in serie: #este bucle for recorre cada elemento en la tupla serie.\n",
    "        if aNum % 2 != 0:\n",
    "        #dentro del bucle, esta linea verifica si el numero actual aNum es impar. El operador % calcula el residuo de aNum dividido por 2. \n",
    "        #Si el residuo no es 0 (!=0), entonces aNum es un numero impar.\n",
    "            num_imp += 1\n",
    "            #Si aNum es impar, esta línea incrementa la variable num_imp en 1.\n",
    "\n",
    "    return num_imp\n",
    "    #Después de recorrer todos los elementos de serie, la función devuelve el valor de num_imp, que es la cantidad total de números impares.\n",
    "impares = getImpares(1, 2, 3, 4, 5, 6, 7) #Aquí se llama a la función getImpares con una serie de números del 1 al 7 y se asigna el resultado a la variable impares. \n",
    "print(impares) #esta linea imprime el valor de impares en la consola, mostrando cuántos numeros impares hay en la serie proporcionada.\n",
    "\n",
    "nums = list(range(1, 100, 3)) #esta linea crea una lista nums utilizando la funcion range(), que genera una secuencia de números desde el 1 al 99, con un incremento de 3 en cada paso (1, 4, 7, 10...)\n",
    "#print nums\n",
    "\n",
    "impares = getImpares(*nums)#aquí se llama a la función getImpares con la lista nums, utilizando el opertador * para descomprimir la lista en argumentos separados, y se asigna el \n",
    "#resultado a la variable impartes. \n",
    "print(impares) #imprime el valor de impares en la consola, mostrando cuantos números impares hay en la lista nums. "
   ]
  },
  {
   "cell_type": "code",
   "execution_count": 15,
   "metadata": {},
   "outputs": [
    {
     "data": {
      "text/plain": [
       "[{'nombre': 'aNa', 'direccion': 'Calle X', 'edad': 22},\n",
       " {'nombre': 'luIs', 'direccion': 'Calle Y', 'edad': 24},\n",
       " {'nombre': 'juAna', 'direccion': 'Calle Z', 'edad': 43},\n",
       " {'nombre': 'metEoro', 'direccion': 'Calle A', 'edad': 16}]"
      ]
     },
     "execution_count": 15,
     "metadata": {},
     "output_type": "execute_result"
    }
   ],
   "source": [
    "#3\n",
    "\n",
    "def transformarNombres(students):\n",
    "#define una función llamada transformaNombres que toma un parametro students, una lista de diccionarios donde cada diccionario representa un alumno.\n",
    "    for un_alumno in students: #Esta línea inicia un bucle for que recorre cada diccionario en la lista students\n",
    "        nombre_mod = un_alumno['nombre'].lower() #Aquí se convierte el valor del nombre del alumno a minúsculas utilizando el método lower(), y se asigna a la variable nombre_mod. \n",
    "        #Esto asegura que todas las letras del nombre están en minúsculas antes de modificar la letra intermedia.\n",
    "        l_nombre_mod = list(nombre_mod) #Esta línea convierte la cadena nombre_mod en una lista de caracteres, almacenada en l_nombre_mod. \n",
    "        #Hacer esto permite modificar un carácter específico en la cadena, ya que las cadenas en Python son inmutables.\n",
    "        medio = len(l_nombre_mod) // 2 #Aquí se calcula el índice de la letra intermedia de la lista l_nombre_mod dividiendo la longitud de la lista por 2 utilizando el operador // para obtener un entero.\n",
    "        l_nombre_mod[medio] = l_nombre_mod[medio].upper() #Esta línea convierte el carácter en el índice medio a mayúsculas utilizando el método upper() y lo asigna de vuelta a la lista l_nombre_mod en la misma posición.\n",
    "        un_alumno['nombre'] = ''.join(l_nombre_mod) #Después de modificar la letra intermedia, esta línea convierte la lista l_nombre_mod de vuelta a una cadena utilizando join()\n",
    "        #y actualiza el valor del nombre del alumno en el diccionario un_alumno.\n",
    "\n",
    "    return students #la función devuelve la lista students con los nombres de los alumnos modificados.\n",
    "\n",
    "alumnos = [\n",
    "    {'nombre': 'Ana', 'direccion': 'Calle X', 'edad': 22},\n",
    "    {'nombre': 'Luis', 'direccion': 'Calle Y', 'edad': 24},\n",
    "    {'nombre': 'Juana', 'direccion': 'Calle Z', 'edad': 43},\n",
    "    {'nombre': 'Meteoro', 'direccion': 'Calle A', 'edad': 16},\n",
    "] #En este bloque de código se define la lista alumnos con varios diccionarios, cada uno representando un alumno con las claves nombre, direccion y edad.\n",
    "\n",
    "transformarNombres(alumnos) #esta línea llama a la función transformaNombres con la lista alumnos como argumento, aplicando la transformación a cada nombre en la lista.\n",
    "\n",
    "alumnos #obtenemos la lista modificada con los nombres de los alumnos, donde la letra intermedia de cada nombre está en mayúsculas y el resto en minúsculas.\n"
   ]
  },
  {
   "cell_type": "code",
   "execution_count": 17,
   "metadata": {},
   "outputs": [
    {
     "name": "stdout",
     "output_type": "stream",
     "text": [
      "[('aNa', 'Calle X'), ('luIs', 'Calle Y'), ('juAna', 'Calle Z'), ('metEoro', 'Calle A')]\n",
      "[('aNa', 22), ('luIs', 24), ('juAna', 43), ('metEoro', 16)]\n"
     ]
    }
   ],
   "source": [
    "#4\n",
    "def transformarEnTuplas(students): #define una función llamada transformaEnTuplas que toma un parámetro students, el cual es una lista de diccionarios donde cada diccionario representa un alumno.\n",
    "    nueva_lista1 = [] #Se inicializa una lista vacía llamada nueva_lista1 que contendrá tuplas con el nombre y direccion de cada alumno.\n",
    "    nueva_lista2 = [] #Se inicializa otra lista vacía llamada nueva_lista2 que contendrá tuplas con el nombre y edad de cada alumno.\n",
    "    for un_alumno in students: #Este bucle for recorre cada diccionario en la lista students.\n",
    "        nueva_lista1.append((un_alumno[u'nombre'], un_alumno['direccion'])) #En cada iteración del bucle, se añade una tupla con el nombre y la direccion del alumno actual a la lista nueva_lista1.\n",
    "        nueva_lista2.append((un_alumno['nombre'], un_alumno['edad'])) #En cada iteración del bucle, se añade una tupla con el nombre y la edad del alumno actual a la lista nueva_lista2.\n",
    "    return nueva_lista1, nueva_lista2 #Después de completar el bucle, la función devuelve las dos listas nueva_lista1 y nueva_lista2.\n",
    "\n",
    "l1, l2 =transformarEnTuplas(alumnos) #Se llama a la función transformaEnTuplas pasando la lista alumnos y se asignan los resultados devueltos a l1 y l2.\n",
    "\n",
    "print(l1) #imprime la lista l1, que contiene tuplas con el nombre y la direccion de cada alumno.\n",
    "print(l2) #imprime la lista l2, que contiene tuplas con el nombre y la edad de cada alumno.\n",
    "\n",
    "\n",
    "\n"
   ]
  },
  {
   "cell_type": "code",
   "execution_count": 18,
   "metadata": {},
   "outputs": [
    {
     "data": {
      "text/plain": [
       "[1, 8, 27, 64, 125, 216, 343, 512]"
      ]
     },
     "execution_count": 18,
     "metadata": {},
     "output_type": "execute_result"
    }
   ],
   "source": [
    "#5\n",
    "lista = [1, 2, 3, 4, 5, 6, 7, 8] #define una lista que contiene 8 numeros. Estos son los números que queremos elevar al cubo. \n",
    "result = map(lambda X: X**3, lista) #usamos map con una expresión lambda para elevar cada número al cubo.\n",
    "#la función map() junto con una expresión lambda para aplicar una operación a cada elemento de lista.\n",
    "#lambda x: x**3 es una expresión lambda que define una función anónima. \n",
    "# La parte lambda x: indica que x es el argumento de la función, y x**3 es la operación que se realizará (elevar x al cubo).\n",
    "#map(lambda x: x**3, lista) aplica la función lambda a cada elemento de lista. Es decir, toma cada número en lista, lo eleva al cubo y devuelve un objeto map con los resultados.\n",
    "list(result) #La función map() devuelve un objeto map, que es un iterador. Para convertir este iterador en una lista, se usa la función list().\n",
    "#list(result) convierte el objeto map en una lista que contiene los resultados de elevar al cubo cada número en lista\n"
   ]
  },
  {
   "cell_type": "code",
   "execution_count": 19,
   "metadata": {},
   "outputs": [
    {
     "name": "stdout",
     "output_type": "stream",
     "text": [
      "[('Ana', 'Calle X'), ('Luis', 'Calle Y'), ('Juana', 'Calle Z'), ('Meteoro', 'Calle A')]\n",
      "[('Ana', 22), ('Luis', 24), ('Juana', 43), ('Meteoro', 16)]\n"
     ]
    }
   ],
   "source": [
    "#6\n",
    "alumnos = [ {'nombre': 'Ana', 'direccion': 'Calle X', 'edad': 22}, \n",
    "           {'nombre': 'Luis', 'direccion': 'Calle Y', 'edad': 24}, \n",
    "           {'nombre': 'Juana', 'direccion': 'Calle Z', 'edad': 43}, \n",
    "           {'nombre': 'Meteoro', 'direccion': 'Calle A', 'edad': 16},\n",
    "            ] \n",
    "\n",
    "def transformaEnTuplas(students): \n",
    "    nueva_lista1 = [] \n",
    "    nueva_lista2 = [] \n",
    "    for un_alumno in students: \n",
    "        nueva_lista1.append((un_alumno['nombre'], un_alumno['direccion'])) \n",
    "        nueva_lista2.append((un_alumno['nombre'], un_alumno['edad'])) \n",
    "    return nueva_lista1, nueva_lista2 \n",
    "l1, l2 = transformaEnTuplas(alumnos) \n",
    "print(l1) \n",
    "print(l2)"
   ]
  },
  {
   "cell_type": "code",
   "execution_count": 21,
   "metadata": {},
   "outputs": [
    {
     "name": "stdout",
     "output_type": "stream",
     "text": [
      "[('Ana', 'Calle X'), ('Luis', 'Calle Y'), ('Juana', 'Calle Z'), ('Meteoro', 'Calle A')]\n",
      "[('Ana', 22), ('Luis', 24), ('Juana', 43), ('Meteoro', 16)]\n"
     ]
    }
   ],
   "source": [
    "def obtener_tupla_nombre_direccion(alumno):\n",
    "     \"\"\" \n",
    "     Dada la información de un alumno, devuelve una tupla con el nombre y la dirección.\n",
    "     \"\"\" \n",
    "     return (alumno['nombre'], alumno['direccion']) \n",
    "def obtener_tupla_nombre_edad(alumno):\n",
    "     \"\"\" \n",
    "     Dada la información de un alumno, devuelve una tupla con el nombre y la edad. \n",
    "     \"\"\" \n",
    "     return (alumno['nombre'], alumno['edad']) \n",
    "def transformaEnTuplas(students):\n",
    "     \"\"\" \n",
    "     Dada una lista de diccionarios de alumnos, transforma y devuelve dos listas de tuplas: una con (nombre, direccion) y otra con (nombre, edad). \n",
    "     \"\"\" \n",
    "     nueva_lista1 = [obtener_tupla_nombre_direccion(alumno) for alumno in students] \n",
    "     nueva_lista2 = [obtener_tupla_nombre_edad(alumno) for alumno in students] \n",
    "     return nueva_lista1, nueva_lista2 \n",
    "# Lista de alumnos \n",
    "alumnos = [ {'nombre': 'Ana', 'direccion': 'Calle X', 'edad': 22}, \n",
    "           {'nombre': 'Luis', 'direccion': 'Calle Y', 'edad': 24}, \n",
    "           {'nombre': 'Juana', 'direccion': 'Calle Z', 'edad': 43}, \n",
    "           {'nombre': 'Meteoro', 'direccion': 'Calle A', 'edad': 16}, \n",
    "           ] \n",
    "# Transformación de los datos de alumnos en listas de tuplas \n",
    "l1, l2 = transformaEnTuplas(alumnos) \n",
    "# Imprimir resultados \n",
    "print(l1) \n",
    "print(l2)\n",
    "\n"
   ]
  }
 ],
 "metadata": {
  "kernelspec": {
   "display_name": "Python 3.8 - AzureML",
   "language": "python",
   "name": "python38-azureml"
  },
  "language_info": {
   "codemirror_mode": {
    "name": "ipython",
    "version": 3
   },
   "file_extension": ".py",
   "mimetype": "text/x-python",
   "name": "python",
   "nbconvert_exporter": "python",
   "pygments_lexer": "ipython3",
   "version": "3.10.11"
  }
 },
 "nbformat": 4,
 "nbformat_minor": 2
}
