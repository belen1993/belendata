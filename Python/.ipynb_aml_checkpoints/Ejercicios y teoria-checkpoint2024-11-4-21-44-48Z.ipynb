{
 "cells": [
  {
   "cell_type": "code",
   "execution_count": 1,
   "metadata": {},
   "outputs": [
    {
     "data": {
      "text/plain": [
       "float"
      ]
     },
     "execution_count": 1,
     "metadata": {},
     "output_type": "execute_result"
    }
   ],
   "source": [
    "unfloat=2.4\n",
    "type(unfloat)\n",
    "#las variables de python son punteros que apuntan a un caja que tiene un valor. Pueden tomar cualquier tipo de valor. "
   ]
  },
  {
   "cell_type": "code",
   "execution_count": 2,
   "metadata": {},
   "outputs": [
    {
     "data": {
      "text/plain": [
       "str"
      ]
     },
     "execution_count": 2,
     "metadata": {},
     "output_type": "execute_result"
    }
   ],
   "source": [
    "unfloat=\"esto es texto\"\n",
    "type(unfloat)"
   ]
  },
  {
   "cell_type": "code",
   "execution_count": 3,
   "metadata": {},
   "outputs": [
    {
     "name": "stdout",
     "output_type": "stream",
     "text": [
      "valor de unfloat: esto es texto\n"
     ]
    }
   ],
   "source": [
    "#para ser más explícitos a la hora de mostrar información, podemos poner print y más.\n",
    "print(\"valor de unfloat:\",unfloat)"
   ]
  },
  {
   "cell_type": "code",
   "execution_count": 4,
   "metadata": {},
   "outputs": [
    {
     "data": {
      "text/plain": [
       "'Hxla mundx'"
      ]
     },
     "execution_count": 4,
     "metadata": {},
     "output_type": "execute_result"
    }
   ],
   "source": [
    "\"Hola mundo\".replace(\"o\",\"x\")"
   ]
  },
  {
   "cell_type": "code",
   "execution_count": 5,
   "metadata": {},
   "outputs": [
    {
     "name": "stdout",
     "output_type": "stream",
     "text": [
      "['Hola', 'mundo']\n"
     ]
    },
    {
     "data": {
      "text/plain": [
       "'Hola_mundo'"
      ]
     },
     "execution_count": 5,
     "metadata": {},
     "output_type": "execute_result"
    }
   ],
   "source": [
    "str = \"Hola mundo\"\n",
    "str.replace(\"o\",\"x\")\n",
    "l1 = str.split(\" \")\n",
    "print(l1)\n",
    "\"_\".join(l1)\n",
    "\"_\".join(str.split())"
   ]
  },
  {
   "cell_type": "code",
   "execution_count": 6,
   "metadata": {},
   "outputs": [
    {
     "data": {
      "text/plain": [
       "2"
      ]
     },
     "execution_count": 6,
     "metadata": {},
     "output_type": "execute_result"
    }
   ],
   "source": [
    "#puedo crear listas a partir de otras listas, tuplas o conjuntos. Una tupla es un mecanismo que no puedo modificar una vez que esté definida. \n",
    "#Para mantener un dato lo puedo querer como una tupla para que sea inmutable. Para ello lo querré cambiar a una lista y así poder modificarlo. \n",
    "#me va a permitir acceder acceder por la izquierda y por la derecha. El in me va a servir para casi todo. \n",
    "t1 = (1,2,3)\n",
    "s1 = {1,2,3}\n",
    "\n",
    "l2 = list (s1)\n",
    "l2[-2]"
   ]
  },
  {
   "cell_type": "code",
   "execution_count": 7,
   "metadata": {},
   "outputs": [
    {
     "ename": "TypeError",
     "evalue": "object of type 'int' has no len()",
     "output_type": "error",
     "traceback": [
      "\u001b[0;31m---------------------------------------------------------------------------\u001b[0m",
      "\u001b[0;31mTypeError\u001b[0m                                 Traceback (most recent call last)",
      "Cell \u001b[0;32mIn[7], line 4\u001b[0m\n\u001b[1;32m      2\u001b[0m l1 \u001b[38;5;241m=\u001b[39m [\u001b[38;5;241m1\u001b[39m,\u001b[38;5;241m2\u001b[39m,\u001b[38;5;241m3\u001b[39m,\u001b[38;5;241m4\u001b[39m,\u001b[38;5;241m5\u001b[39m,\u001b[38;5;241m6\u001b[39m,\u001b[38;5;241m7\u001b[39m,\u001b[38;5;241m8\u001b[39m,\u001b[38;5;241m9\u001b[39m,\u001b[38;5;241m10\u001b[39m]\n\u001b[1;32m      3\u001b[0m prim \u001b[38;5;241m=\u001b[39m l1[\u001b[38;5;241m0\u001b[39m]\n\u001b[0;32m----> 4\u001b[0m ult \u001b[38;5;241m=\u001b[39m l1[\u001b[38;5;28;43mlen\u001b[39;49m\u001b[43m(\u001b[49m\u001b[38;5;241;43m11\u001b[39;49m\u001b[43m)\u001b[49m\u001b[38;5;241m-\u001b[39m\u001b[38;5;241m1\u001b[39m]\n\u001b[1;32m      5\u001b[0m \u001b[38;5;28mprint\u001b[39m(prim,ult)\n\u001b[1;32m      7\u001b[0m ind_init \u001b[38;5;241m=\u001b[39m \u001b[38;5;241m2\u001b[39m\n",
      "\u001b[0;31mTypeError\u001b[0m: object of type 'int' has no len()"
     ]
    }
   ],
   "source": [
    "#los rangos son muy importantes. \n",
    "l1 = [1,2,3,4,5,6,7,8,9,10]\n",
    "prim = l1[0]\n",
    "ult = l1[len(11)-1]\n",
    "print(prim,ult)\n",
    "\n",
    "ind_init = 2\n",
    "ind_final = 5 # no incluye el indice propiamente dicho\n",
    "salto =2\n",
    "\n",
    "l1[ind_init:ind_final:salto]"
   ]
  },
  {
   "cell_type": "code",
   "execution_count": null,
   "metadata": {},
   "outputs": [],
   "source": [
    "#append añadir un elemento\n",
    "#extend añadir más de un elemento\n",
    "#La suma asociada a las listas es una concatenacion\n"
   ]
  },
  {
   "cell_type": "code",
   "execution_count": null,
   "metadata": {},
   "outputs": [],
   "source": [
    "#un insert\n"
   ]
  },
  {
   "cell_type": "code",
   "execution_count": null,
   "metadata": {},
   "outputs": [],
   "source": [
    "#eliminar elementos en el rango de una lista\n",
    "11 = [1,2,3,4,5,6,7,8]\n",
    "del(11[:2])\n",
    "11"
   ]
  },
  {
   "cell_type": "code",
   "execution_count": null,
   "metadata": {},
   "outputs": [],
   "source": [
    "#comparar listas de diferentes naturales\n",
    "#excepción es un error durante la ejecucion de un codigo\n",
    "#Para hacer una excepcion utilizaremos \"try except\"\n",
    "11 = [1,2,3]\n",
    "l2 = ['a','b','c']\n",
    "\n",
    "try:\n",
    "    l1 > 12\n",
    "    print('correcto')\n",
    "except:\n",
    "    print('error')\n",
    "\n",
    "print('continua...')\n",
    "\n",
    "\n"
   ]
  },
  {
   "cell_type": "code",
   "execution_count": null,
   "metadata": {},
   "outputs": [],
   "source": [
    "l1 = ['a','b','c','d','z']\n",
    "max(l1)\n",
    "l1.index('a',1)\n",
    "l1.sort(reverse=True)\n",
    "l1"
   ]
  },
  {
   "cell_type": "code",
   "execution_count": null,
   "metadata": {},
   "outputs": [],
   "source": [
    "#conjuntos no están ordenados y no se pueden repetir elementos. Si una variable vale 1 o es true va a hacer que pase ante un condicional\n",
    "s1 = {'a',0,1,2,True, False, 'a'}\n",
    "s1"
   ]
  },
  {
   "cell_type": "code",
   "execution_count": null,
   "metadata": {},
   "outputs": [],
   "source": [
    "set(l1)\n",
    "\n",
    "s1update({2,3,5})\n",
    "s1"
   ]
  },
  {
   "cell_type": "code",
   "execution_count": null,
   "metadata": {},
   "outputs": [],
   "source": [
    "s1.discard(22)\n",
    "s1"
   ]
  },
  {
   "cell_type": "code",
   "execution_count": null,
   "metadata": {},
   "outputs": [],
   "source": [
    "s1=('a','b',5)\n",
    "s2=(1,2,5,'c')\n",
    "s3 = s1.intersection(s2)\n",
    "s3\n",
    "s1.symmetric_difference(s2)"
   ]
  },
  {
   "cell_type": "code",
   "execution_count": null,
   "metadata": {},
   "outputs": [],
   "source": [
    "#diccionarios es un conjunto con claves. Me permite definir una clave y un valor. Es como un json. Para crearlo se crear con dict\n",
    "\n",
    "dict1 = {'lunes':1,'martes':2,'miercoles':3}\n",
    "l1 = list(dict1.keys())\n",
    "l1\n",
    "vals = tuple(dict1.values())\n",
    "vals\n",
    "items =list(dict1.items())\n",
    "items"
   ]
  },
  {
   "cell_type": "code",
   "execution_count": null,
   "metadata": {},
   "outputs": [],
   "source": [
    "#A la hora de modificar los elementos se utilizaran las claves. \n",
    "dict1['lunes']='primero'\n",
    "dict1['viernes'] = 5\n",
    "del(dict1['lunes'])\n",
    "dict1.pop('martes')\n",
    "dict1.get('viernes')\n",
    "dict1['viernes']"
   ]
  },
  {
   "cell_type": "code",
   "execution_count": null,
   "metadata": {},
   "outputs": [],
   "source": [
    "dict1['lunes']='primero'\n",
    "dict1['viernes'] = 5\n",
    "del(dict1['lunes'])\n",
    "#dict1.pop('martes')\n",
    "dict1.get('martes','No existe')\n",
    "#dict1['martes']"
   ]
  }
 ],
 "metadata": {
  "kernelspec": {
   "display_name": "Python 3.8 - AzureML",
   "language": "python",
   "name": "python38-azureml"
  },
  "language_info": {
   "codemirror_mode": {
    "name": "ipython",
    "version": 3
   },
   "file_extension": ".py",
   "mimetype": "text/x-python",
   "name": "python",
   "nbconvert_exporter": "python",
   "pygments_lexer": "ipython3",
   "version": "3.10.11"
  }
 },
 "nbformat": 4,
 "nbformat_minor": 2
}
