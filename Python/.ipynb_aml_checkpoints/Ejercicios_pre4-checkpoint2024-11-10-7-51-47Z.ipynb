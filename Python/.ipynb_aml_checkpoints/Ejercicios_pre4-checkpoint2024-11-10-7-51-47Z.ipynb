{
 "cells": [
  {
   "cell_type": "code",
   "execution_count": 7,
   "metadata": {
    "gather": {
     "logged": 1733683285893
    }
   },
   "outputs": [],
   "source": [
    "granja = { \"vacas\": 10, \"cerdos\": 5, \"ovejas\": 15, \"gallinas\": 20, \"patos\": 7}"
   ]
  },
  {
   "cell_type": "code",
   "execution_count": 11,
   "metadata": {
    "gather": {
     "logged": 1733683290041
    }
   },
   "outputs": [
    {
     "name": "stdout",
     "output_type": "stream",
     "text": [
      "vacas:10\n",
      "cerdos:5\n",
      "ovejas:15\n",
      "gallinas:20\n",
      "patos:7\n",
      "57\n"
     ]
    }
   ],
   "source": [
    "#Ejercicio 1: Escribe un programa que imprima cuántos animales hay en la granja en total.\n",
    "#animal es clave y granja es valor\n",
    "total_animales = 0\n",
    "for animal, number in granja.items(): # el items es para enumerar uno a uno clave y valor.\n",
    "    print (animal + \":\" + str(number)) #no se puede concatenar una cadena con un número por eso hacemos un cast (str)\n",
    "#Hasta aquí me permite saber cuantos animales hay de cada. \n",
    "\n",
    "    total_animales = total_animales + number\n",
    "print(total_animales)\n",
    " \n",
    "\n"
   ]
  },
  {
   "cell_type": "code",
   "execution_count": 13,
   "metadata": {},
   "outputs": [
    {
     "name": "stdout",
     "output_type": "stream",
     "text": [
      "$$Área = \\pi \times radio^2$$, 453\n"
     ]
    }
   ],
   "source": [
    "#Intenta crear un programa que calcule el área de un círculo. El área se calcula con la fórmula: $$Área = \\pi \\times radio^2$$\n",
    "\n",
    "#Aquí tienes algunas pistas:\n",
    "\n",
    "#Pide al usuario que introduzca el radio del círculo.\n",
    "\n",
    "#Utiliza la biblioteca math para obtener el valor de π (pi).\n",
    "\n",
    "#Calcula el área y muestra el resultado.\n",
    "\n",
    "def area_circulo (math):\n",
    "    return f\"$$Área = \\pi \\times radio^2$$, {math}\"\n",
    "\n",
    "radio_circulo = input(\"introduce radio: \")\n",
    "print(area_circulo(radio_circulo))\n"
   ]
  }
 ],
 "metadata": {
  "kernel_info": {
   "name": "python38-azureml"
  },
  "kernelspec": {
   "display_name": "Python 3.8 - AzureML",
   "language": "python",
   "name": "python38-azureml"
  },
  "language_info": {
   "codemirror_mode": {
    "name": "ipython",
    "version": 3
   },
   "file_extension": ".py",
   "mimetype": "text/x-python",
   "name": "python",
   "nbconvert_exporter": "python",
   "pygments_lexer": "ipython3",
   "version": "3.10.11"
  },
  "microsoft": {
   "ms_spell_check": {
    "ms_spell_check_language": "es"
   }
  },
  "nteract": {
   "version": "nteract-front-end@1.0.0"
  }
 },
 "nbformat": 4,
 "nbformat_minor": 2
}
