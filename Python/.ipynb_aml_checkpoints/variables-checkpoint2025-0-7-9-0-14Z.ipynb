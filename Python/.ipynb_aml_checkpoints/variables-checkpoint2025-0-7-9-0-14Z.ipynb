{
 "cells": [
  {
   "cell_type": "code",
   "execution_count": 2,
   "metadata": {},
   "outputs": [
    {
     "name": "stdout",
     "output_type": "stream",
     "text": [
      "hola mundo\n"
     ]
    }
   ],
   "source": [
    "print(\"hola mundo\")"
   ]
  },
  {
   "cell_type": "code",
   "execution_count": null,
   "metadata": {},
   "outputs": [
    {
     "name": "stdout",
     "output_type": "stream",
     "text": [
      "3\n",
      "Esto es un texto\n"
     ]
    },
    {
     "data": {
      "text/plain": [
       "int"
      ]
     },
     "execution_count": 3,
     "metadata": {},
     "output_type": "execute_result"
    }
   ],
   "source": [
    "unNumero = 3\n",
    "otroNumero = 2\n",
    "unTexo = \"Esto es un texto\"\n",
    "print(unNumero)\n",
    "print(unTexo)\n",
    "\n",
    "\n"
   ]
  },
  {
   "cell_type": "code",
   "execution_count": null,
   "metadata": {},
   "outputs": [
    {
     "name": "stdout",
     "output_type": "stream",
     "text": [
      "5\n"
     ]
    }
   ],
   "source": [
    "\n",
    "resultado = unNumero + otroNumero\n",
    "print(resultado)"
   ]
  },
  {
   "cell_type": "code",
   "execution_count": 5,
   "metadata": {},
   "outputs": [
    {
     "data": {
      "text/plain": [
       "int"
      ]
     },
     "execution_count": 5,
     "metadata": {},
     "output_type": "execute_result"
    }
   ],
   "source": [
    "type(unNumero)"
   ]
  },
  {
   "cell_type": "code",
   "execution_count": 1,
   "metadata": {},
   "outputs": [
    {
     "data": {
      "text/plain": [
       "bool"
      ]
     },
     "execution_count": 1,
     "metadata": {},
     "output_type": "execute_result"
    }
   ],
   "source": [
    "#definiendo un booleano\n",
    "unBooleano = True\n",
    "type(unBooleano)"
   ]
  },
  {
   "cell_type": "code",
   "execution_count": 2,
   "metadata": {},
   "outputs": [
    {
     "name": "stdout",
     "output_type": "stream",
     "text": [
      "(3+2j)\n"
     ]
    },
    {
     "data": {
      "text/plain": [
       "complex"
      ]
     },
     "execution_count": 2,
     "metadata": {},
     "output_type": "execute_result"
    }
   ],
   "source": [
    "comp = 3 + 2j\n",
    "print(comp)\n",
    "type(comp)"
   ]
  },
  {
   "cell_type": "code",
   "execution_count": 3,
   "metadata": {},
   "outputs": [
    {
     "data": {
      "text/plain": [
       "float"
      ]
     },
     "execution_count": 3,
     "metadata": {},
     "output_type": "execute_result"
    }
   ],
   "source": [
    "unFloat = 2.4\n",
    "type(unFloat)"
   ]
  },
  {
   "cell_type": "code",
   "execution_count": 4,
   "metadata": {},
   "outputs": [
    {
     "data": {
      "text/plain": [
       "str"
      ]
     },
     "execution_count": 4,
     "metadata": {},
     "output_type": "execute_result"
    }
   ],
   "source": [
    "unFloat = \"esto es un texto\"\n",
    "type(unFloat)"
   ]
  },
  {
   "cell_type": "code",
   "execution_count": 5,
   "metadata": {},
   "outputs": [
    {
     "name": "stdout",
     "output_type": "stream",
     "text": [
      "valor de unFloat esto es un texto\n"
     ]
    }
   ],
   "source": [
    "print(\"valor de unFloat\", unFloat)"
   ]
  },
  {
   "cell_type": "code",
   "execution_count": null,
   "metadata": {},
   "outputs": [
    {
     "name": "stdout",
     "output_type": "stream",
     "text": [
      "Lo que el usuario escribió hello\n"
     ]
    },
    {
     "data": {
      "text/plain": [
       "str"
      ]
     },
     "execution_count": 7,
     "metadata": {},
     "output_type": "execute_result"
    }
   ],
   "source": [
    "entrada = input(\"escribe algo\")\n",
    "print (\"Lo que el usuario escribió:\", entrada)\n",
    "type(entrada)"
   ]
  },
  {
   "cell_type": "code",
   "execution_count": 9,
   "metadata": {},
   "outputs": [
    {
     "name": "stdout",
     "output_type": "stream",
     "text": [
      "Lo que el usuario escribrió: 6\n"
     ]
    },
    {
     "data": {
      "text/plain": [
       "int"
      ]
     },
     "execution_count": 9,
     "metadata": {},
     "output_type": "execute_result"
    }
   ],
   "source": [
    "entrada = int( input(\"escribe un número:\") )\n",
    "print(\"Lo que el usuario escribrió:\", entrada)\n",
    "type(entrada)"
   ]
  },
  {
   "cell_type": "code",
   "execution_count": 10,
   "metadata": {},
   "outputs": [
    {
     "data": {
      "text/plain": [
       "list"
      ]
     },
     "execution_count": 10,
     "metadata": {},
     "output_type": "execute_result"
    }
   ],
   "source": [
    "unaListaNum = [2,66,344,5,6,7879]\n",
    "type(unaListaNum)"
   ]
  },
  {
   "cell_type": "code",
   "execution_count": 1,
   "metadata": {},
   "outputs": [
    {
     "name": "stdout",
     "output_type": "stream",
     "text": [
      "['textos', 1, True]\n",
      "textos\n"
     ]
    }
   ],
   "source": [
    "cajonDeSastre = [\"textos\", 1, True]\n",
    "print(cajonDeSastre)\n",
    "print(cajonDeSastre[0])"
   ]
  },
  {
   "cell_type": "code",
   "execution_count": 2,
   "metadata": {},
   "outputs": [
    {
     "name": "stdout",
     "output_type": "stream",
     "text": [
      "['numeros', 1, True]\n"
     ]
    }
   ],
   "source": [
    "cajonDeSastre[0] = \"numeros\"\n",
    "print(cajonDeSastre)"
   ]
  },
  {
   "cell_type": "markdown",
   "metadata": {},
   "source": [
    "Este código está en Python, y lo que hace es lo siguiente:\n",
    "\n",
    "cajonDeSastre[0] = \"numeros\":\n",
    "Aquí, se está asignando el valor \"numeros\" a la primera posición (índice 0) de una lista llamada cajonDeSastre.\n",
    "Si la lista cajonDeSastre no ha sido definida previamente, Python lanzará un Error indicando que la lista no existe.\n",
    "Si la lista ya existe, este código reemplazará el valor que estaba en la primera posición por \"numeros\".\n",
    "\n",
    "print(cajonDeSastre):\n",
    "Este comando imprime el contenido de la lista cajonDeSastre en la consola. Mostrará el estado actual de la lista después de haber modificado su primer elemento.\n",
    "\n"
   ]
  },
  {
   "cell_type": "code",
   "execution_count": 3,
   "metadata": {},
   "outputs": [
    {
     "name": "stdout",
     "output_type": "stream",
     "text": [
      "('textos', 1, True)\n",
      "True\n"
     ]
    }
   ],
   "source": [
    "unTupla = (\"textos\", 1, True)\n",
    "print(unTupla)\n",
    "print(unTupla[2])"
   ]
  },
  {
   "cell_type": "markdown",
   "metadata": {},
   "source": [
    "Primera línea: Define una tupla llamada unTupla con tres elementos: \"textos\", 1 y True.\n",
    "Segunda línea: Imprime toda la tupla unTupla en la consola, mostrando: ('textos', 1, True).\n",
    "Tercera línea: Accede al elemento en el índice 2 de la tupla (el valor True) y lo imprime en la consola.\n"
   ]
  },
  {
   "cell_type": "code",
   "execution_count": null,
   "metadata": {},
   "outputs": [],
   "source": [
    "unTupla[0] = \"Numeros\""
   ]
  },
  {
   "cell_type": "code",
   "execution_count": null,
   "metadata": {},
   "outputs": [],
   "source": [
    "unTupla[0:2]"
   ]
  },
  {
   "cell_type": "code",
   "execution_count": 7,
   "metadata": {},
   "outputs": [
    {
     "data": {
      "text/plain": [
       "set"
      ]
     },
     "execution_count": 7,
     "metadata": {},
     "output_type": "execute_result"
    }
   ],
   "source": [
    "unConjunto = {\"textos\", 1, True}\n",
    "type(unConjunto)"
   ]
  },
  {
   "cell_type": "markdown",
   "metadata": {},
   "source": [
    "Se crea un conjunto llamado unConjunto que contiene tres elementos: \"textos\", 1 y True.\n",
    "Un conjunto en Python es una colección desordenada de elementos únicos. Esto significa que no puede haber elementos repetidos y no tiene un orden fijo.\n",
    "Importante: En los conjuntos, el valor True se considera igual a 1, por lo que, aunque se incluye como True, el conjunto automáticamente eliminará el valor repetido. En este caso, 1 y True se consideran el mismo valor, por lo que solo quedará uno de esos dos. \n",
    "La función type() devuelve el tipo de la variable proporcionada.\n",
    "Aquí, se está verificando el tipo de unConjunto, que debe ser set (conjunto), ya que así fue definido.\n",
    "-La primera línea crea un conjunto con los elementos {\"textos\", 1, True}, pero debido a que 1 y True son considerados iguales, solo quedará uno de ellos (probablemente 1).\n",
    "-La segunda línea usa type() para verificar y mostrar que el tipo de unConjunto es un conjunto (set)."
   ]
  },
  {
   "cell_type": "code",
   "execution_count": 8,
   "metadata": {},
   "outputs": [
    {
     "name": "stdout",
     "output_type": "stream",
     "text": [
      "{'texto': 'Un Texto', 'numero': 34, 'booleano': False}\n"
     ]
    },
    {
     "data": {
      "text/plain": [
       "dict"
      ]
     },
     "execution_count": 8,
     "metadata": {},
     "output_type": "execute_result"
    }
   ],
   "source": [
    "unDiccionario = {\"texto\":\"Un Texto\", \"numero\":34, \"booleano\": False}\n",
    "print(unDiccionario)\n",
    "type(unDiccionario)"
   ]
  },
  {
   "cell_type": "code",
   "execution_count": 9,
   "metadata": {},
   "outputs": [
    {
     "data": {
      "text/plain": [
       "34"
      ]
     },
     "execution_count": 9,
     "metadata": {},
     "output_type": "execute_result"
    }
   ],
   "source": [
    "unDiccionario['numero']"
   ]
  },
  {
   "cell_type": "code",
   "execution_count": 10,
   "metadata": {},
   "outputs": [
    {
     "data": {
      "text/plain": [
       "True"
      ]
     },
     "execution_count": 10,
     "metadata": {},
     "output_type": "execute_result"
    }
   ],
   "source": [
    "m = 2\n",
    "n = 3\n",
    "\n",
    "m !=n\n",
    "m <=n"
   ]
  },
  {
   "cell_type": "code",
   "execution_count": 11,
   "metadata": {},
   "outputs": [
    {
     "name": "stdout",
     "output_type": "stream",
     "text": [
      "-2 2\n"
     ]
    }
   ],
   "source": [
    "m = 2\n",
    "n = 4\n",
    "r = (m-n) * 3\n",
    "r\n",
    "rr = r/4\n",
    "rr\n",
    "c = r//4\n",
    "resto = r % 4\n",
    "print(c, resto)"
   ]
  },
  {
   "cell_type": "code",
   "execution_count": 12,
   "metadata": {},
   "outputs": [
    {
     "data": {
      "text/plain": [
       "True"
      ]
     },
     "execution_count": 12,
     "metadata": {},
     "output_type": "execute_result"
    }
   ],
   "source": [
    "\n",
    "t1 = \"ax\"\n",
    "t2 = \"aa\"\n",
    "t1 > t2"
   ]
  },
  {
   "cell_type": "code",
   "execution_count": 13,
   "metadata": {},
   "outputs": [
    {
     "data": {
      "text/plain": [
       "False"
      ]
     },
     "execution_count": 13,
     "metadata": {},
     "output_type": "execute_result"
    }
   ],
   "source": [
    "l1 = [1,2,3] # > nombre, edad, peso\n",
    "# .... 40 lineas de código\n",
    "l2 = [1,1,2]\n",
    "l1 < l2"
   ]
  },
  {
   "cell_type": "code",
   "execution_count": null,
   "metadata": {},
   "outputs": [],
   "source": [
    "l1 = [1, 2, 3]: Define una lista l1 con tres elementos (posiblemente representando nombre, edad y peso).\n",
    "l2 = [1, 1, 2]: Define una lista l2 con tres elementos.\n",
    "l1 < l2: Compara las dos listas y devuelve False, ya que l1 no es lexicográficamente menor que l2. La comparación se hace de izquierda a derecha, comparando los elementos correspondientes en cada lista. # type: ignore"
   ]
  },
  {
   "cell_type": "code",
   "execution_count": 14,
   "metadata": {},
   "outputs": [
    {
     "data": {
      "text/plain": [
       "False"
      ]
     },
     "execution_count": 14,
     "metadata": {},
     "output_type": "execute_result"
    }
   ],
   "source": [
    "not((t1>t2) or (l2>l1))"
   ]
  },
  {
   "cell_type": "markdown",
   "metadata": {},
   "source": [
    "La expresión not((t1 > t2) or (l2 > l1)) devuelve True si ni t1 es mayor que t2 ni l2 es mayor que l1.\n",
    "Devuelve False si t1 es mayor que t2 o l2 es mayor que l1."
   ]
  },
  {
   "cell_type": "code",
   "execution_count": 15,
   "metadata": {},
   "outputs": [
    {
     "data": {
      "text/plain": [
       "False"
      ]
     },
     "execution_count": 15,
     "metadata": {},
     "output_type": "execute_result"
    }
   ],
   "source": [
    "\"Data\" in \"Hola data mundo\""
   ]
  },
  {
   "cell_type": "code",
   "execution_count": 16,
   "metadata": {},
   "outputs": [
    {
     "data": {
      "text/plain": [
       "True"
      ]
     },
     "execution_count": 16,
     "metadata": {},
     "output_type": "execute_result"
    }
   ],
   "source": [
    "l1 = [1,2,3]\n",
    "\"data\" not in l1"
   ]
  },
  {
   "cell_type": "code",
   "execution_count": null,
   "metadata": {},
   "outputs": [],
   "source": []
  }
 ],
 "metadata": {
  "kernelspec": {
   "display_name": "Python 3.8 - AzureML",
   "language": "python",
   "name": "python38-azureml"
  },
  "language_info": {
   "codemirror_mode": {
    "name": "ipython",
    "version": 3
   },
   "file_extension": ".py",
   "mimetype": "text/x-python",
   "name": "python",
   "nbconvert_exporter": "python",
   "pygments_lexer": "ipython3",
   "version": "3.10.11"
  }
 },
 "nbformat": 4,
 "nbformat_minor": 2
}
