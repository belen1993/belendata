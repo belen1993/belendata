{
 "cells": [
  {
   "cell_type": "code",
   "execution_count": null,
   "metadata": {},
   "outputs": [],
   "source": [
    "#Ejercicio 1: Sumar dos números\n",
    "#Enunciado:Crea un programa que pida al usuario dos números y los sume. Luego, debe mostrar el resultado de la suma.\n",
    "#Pista:Puedes usar la función input() para pedir los números y int() para convertir los valores a enteros. La operación de suma se realiza con el operador +"
   ]
  },
  {
   "cell_type": "code",
   "execution_count": 2,
   "metadata": {},
   "outputs": [
    {
     "name": "stdout",
     "output_type": "stream",
     "text": [
      "13\n"
     ]
    }
   ],
   "source": [
    "#Esta línea solicita al usuario que introduzca un número y lo convierte en un entero.\n",
    "#input() recibe un valor desde el usuario en forma de texto, por lo que usamos int() para convertir ese texto en un número entero.\n",
    "numero1 = int(input(\"introduce un número: \"))\n",
    "#Esta línea solicita al usuario que introduzca otro número y lo convierte en un entero.\n",
    "numero2 = int(input(\"introduce otro número: \"))\n",
    "#Aquí se realiza la suma de los dos números introducidos.\n",
    "suma = numero1+numero2\n",
    "#Finalmente, se imprime el resultado de la suma.\n",
    "print (suma)"
   ]
  },
  {
   "cell_type": "code",
   "execution_count": null,
   "metadata": {},
   "outputs": [],
   "source": [
    "#Ejercicio 2: Determinar si un número es par o impar\n",
    "#Enunciado:Escribe un programa que le pida al usuario un número y luego le indique si es par o impar.\n",
    "#Pista:Puedes usar el operador módulo % para verificar si el número es divisible entre 2. Si el resultado es 0, el número es par."
   ]
  },
  {
   "cell_type": "code",
   "execution_count": 5,
   "metadata": {},
   "outputs": [
    {
     "name": "stdout",
     "output_type": "stream",
     "text": [
      "el numero es impar\n"
     ]
    }
   ],
   "source": [
    "numero = int(input(\"introduce un numero: \"))\n",
    "\n",
    "if numero % 2 == 0:\n",
    "    print(\"el numero es par\")\n",
    "else:\n",
    "    print(\"el numero es impar\")\n",
    "\n"
   ]
  },
  {
   "cell_type": "code",
   "execution_count": null,
   "metadata": {},
   "outputs": [],
   "source": [
    "#Ejercicio 3: Calcular el área de un círculo\n",
    "#Enunciado:Pide al usuario el radio de un círculo y calcula su área. La fórmula para calcular el área de un círculo es:\n",
    "#Aˊrea=π×r2\\text{Área} = \\pi \\times r^2Aˊrea=π×r2\n",
    "#Donde rrr es el radio.\n",
    "#Pista:Usa math.pi para obtener el valor de π y asegúrate de convertir el radio a tipo float si es necesario."
   ]
  },
  {
   "cell_type": "code",
   "execution_count": null,
   "metadata": {},
   "outputs": [
    {
     "name": "stdout",
     "output_type": "stream",
     "text": [
      "El área del círculo es: 19113.4497044403\n"
     ]
    }
   ],
   "source": [
    "import math\n",
    "\n",
    "#Usamos input() para pedir el radio, y lo convertimos a float para permitir números decimales.\n",
    "radio = float(input(\"introduce el área del círculo: \"))\n",
    "#Usamos math.pi para obtener el valor de π (pi).\n",
    "#Usamos la operación ** para elevar el radio al cuadrado y luego multiplicamos por pi para obtener el área.\n",
    "area = math.pi * radio ** 2 \n",
    "\n",
    "print(\"El área del círculo es:\", area)"
   ]
  },
  {
   "cell_type": "code",
   "execution_count": null,
   "metadata": {},
   "outputs": [],
   "source": [
    "#Ejercicio 4: Contar vocales en una cadena\n",
    "#Enunciado:Escribe un programa que cuente cuántas vocales (a, e, i, o, u) hay en una cadena de texto que ingrese el usuario.\n",
    "#Pista:Puedes usar un ciclo for para recorrer cada carácter de la cadena y verificar si es una vocal. Usa un contador para sumar las vocales."
   ]
  },
  {
   "cell_type": "code",
   "execution_count": 5,
   "metadata": {},
   "outputs": [
    {
     "name": "stdout",
     "output_type": "stream",
     "text": [
      "El numero de vocales es:  10\n"
     ]
    }
   ],
   "source": [
    "texto = input(\"introduce una cadena de texto\")\n",
    "#solicita al usuario que ingrese una cadena de texto y almacena esa entrada en la variable texto.\n",
    "vocales = [\"a\", \"A\", \"e\", \"E\", \"i\", \"I\", \"o\", \"O\", \"u\", \"U\"]\n",
    "#se crea una lista que contiene todas las vocales tanto en minúscula como en mayúscula.\n",
    "contador = 0\n",
    "#inicializa un contador en cero. Este contador se utilizará para contar el número de vocales en el texto introducido por el usuario.\n",
    "\n",
    "for letra in texto:\n",
    "#Este bucle for recorre cada carácter (letra) en la cadena de texto proporcionada por el usuario.\n",
    "    if letra in vocales:\n",
    "        contador +=1\n",
    "#Dentro del bucle, esta condición verifica si la letra actual está en la lista vocales. Si es así, incrementa el contador en 1.\n",
    "print (\"El numero de vocales es: \", contador)\n",
    "\n",
    "\n"
   ]
  },
  {
   "cell_type": "code",
   "execution_count": null,
   "metadata": {},
   "outputs": [],
   "source": [
    "#Ejercicio 5: Invertir una lista\n",
    "#Enunciado:Crea un programa que invierta una lista de números y la imprima en el orden invertido.\n",
    "#Pista:Usa el método .reverse() o la notación de rebanado [::-1] para invertir la lista."
   ]
  },
  {
   "cell_type": "code",
   "execution_count": 11,
   "metadata": {},
   "outputs": [
    {
     "name": "stdout",
     "output_type": "stream",
     "text": [
      "lista invertida: [10, 9, 8, 7, 6, 5, 4, 3, 3, 1]\n"
     ]
    }
   ],
   "source": [
    "# Definir la lista de números\n",
    "numeros = [1, 3, 3, 4, 5, 6, 7, 8, 9, 10]\n",
    "# Invertir la lista utilizando slicing\n",
    "numeros_invertidos = numeros [::-1]\n",
    "# Imprimir la lista en el orden invertido\n",
    "print (\"lista invertida:\", numeros_invertidos)"
   ]
  },
  {
   "cell_type": "code",
   "execution_count": 12,
   "metadata": {},
   "outputs": [
    {
     "name": "stdout",
     "output_type": "stream",
     "text": [
      "Lista invertida: [50, 40, 30, 20, 10]\n"
     ]
    }
   ],
   "source": [
    "# Definir la lista de números\n",
    "numeros = [10, 20, 30, 40, 50]\n",
    "# Invertir la lista utilizando la función reverse()\n",
    "numeros.reverse()\n",
    "# Imprimir la lista en el orden invertido\n",
    "print(\"Lista invertida:\", numeros)\n"
   ]
  }
 ],
 "metadata": {
  "kernelspec": {
   "display_name": "Python 3.10 - SDK v2",
   "language": "python",
   "name": "python310-sdkv2"
  },
  "language_info": {
   "codemirror_mode": {
    "name": "ipython",
    "version": 3
   },
   "file_extension": ".py",
   "mimetype": "text/x-python",
   "name": "python",
   "nbconvert_exporter": "python",
   "pygments_lexer": "ipython3",
   "version": "3.10.14"
  }
 },
 "nbformat": 4,
 "nbformat_minor": 2
}
