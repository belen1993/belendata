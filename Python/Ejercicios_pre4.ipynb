{
 "cells": [
  {
   "cell_type": "code",
   "execution_count": 7,
   "metadata": {
    "gather": {
     "logged": 1733683285893
    }
   },
   "outputs": [],
   "source": [
    "granja = { \"vacas\": 10, \"cerdos\": 5, \"ovejas\": 15, \"gallinas\": 20, \"patos\": 7}"
   ]
  },
  {
   "cell_type": "code",
   "execution_count": 11,
   "metadata": {
    "gather": {
     "logged": 1733683290041
    }
   },
   "outputs": [
    {
     "name": "stdout",
     "output_type": "stream",
     "text": [
      "vacas:10\n",
      "cerdos:5\n",
      "ovejas:15\n",
      "gallinas:20\n",
      "patos:7\n",
      "57\n"
     ]
    }
   ],
   "source": [
    "#Ejercicio 1: Escribe un programa que imprima cuántos animales hay en la granja en total.\n",
    "#animal es clave y granja es valor\n",
    "total_animales = 0\n",
    "for animal, number in granja.items(): # el items es para enumerar uno a uno clave y valor.\n",
    "    print (animal + \":\" + str(number)) #no se puede concatenar una cadena con un número por eso hacemos un cast (str)\n",
    "#Hasta aquí me permite saber cuantos animales hay de cada. \n",
    "\n",
    "    total_animales = total_animales + number\n",
    "print(total_animales)\n",
    " \n",
    "\n"
   ]
  },
  {
   "cell_type": "code",
   "execution_count": 13,
   "metadata": {},
   "outputs": [
    {
     "name": "stdout",
     "output_type": "stream",
     "text": [
      "$$Área = \\pi \times radio^2$$, 453\n"
     ]
    }
   ],
   "source": [
    "#Intenta crear un programa que calcule el área de un círculo. El área se calcula con la fórmula: $$Área = \\pi \\times radio^2$$\n",
    "\n",
    "#Aquí tienes algunas pistas:\n",
    "\n",
    "#Pide al usuario que introduzca el radio del círculo.\n",
    "\n",
    "#Utiliza la biblioteca math para obtener el valor de π (pi).\n",
    "\n",
    "#Calcula el área y muestra el resultado.\n",
    "\n",
    "def area_circulo (math):\n",
    "    return f\"$$Área = \\pi \\times radio^2$$, {math}\"\n",
    "\n",
    "radio_circulo = input(\"introduce radio: \")\n",
    "print(area_circulo(radio_circulo))\n"
   ]
  },
  {
   "cell_type": "markdown",
   "metadata": {},
   "source": [
    "Crea un programa que:\n",
    "Declare dos variables, a y b, y asígnales valores numéricos.\n",
    "Realice las siguientes operaciones: suma, resta, multiplicación, división y módulo.\n",
    "Imprima los resultados de cada operación.\n",
    "\n",
    "NOTA:\n",
    "Las comillas \"\" se usan para definir cadenas de texto.\n",
    "Las palabras como \"Suma:\" y \"Resta:\" son cadenas de texto que aparecerán tal cual en la salida.\n",
    "Los dos puntos : se usan dentro de la cadena de texto para separar las etiquetas de los valores calculados.\n",
    "La coma , dentro del comando print se utiliza para separar diferentes elementos que se desean imprimir juntos. En este caso, se separan las cadenas de texto de las variables (suma, resta, etc.) para que se impriman en la misma línea.\n",
    "\n",
    "Por ejemplo, la línea print(\"Suma:\", suma) imprimirá Suma: 15 en la salida, donde \"Suma:\" es el texto fijo y suma es el resultado de la operación matemática realizada previamente.\n",
    "\n"
   ]
  },
  {
   "cell_type": "code",
   "execution_count": 6,
   "metadata": {},
   "outputs": [
    {
     "name": "stdout",
     "output_type": "stream",
     "text": [
      "sum: 16\n",
      "resta: 4\n",
      "multiplicar: 60\n",
      "divede: 1.6666666666666667\n",
      "modulo: 4\n"
     ]
    }
   ],
   "source": [
    "a = 10\n",
    "b = 6\n",
    "\n",
    "sum = (a + b)\n",
    "resta = (a - b)\n",
    "multiplicar = (a * b)\n",
    "divide = (a / b)\n",
    "modulo = (a % b)\n",
    "\n",
    "print (\"sum:\",sum)\n",
    "print (\"resta:\",resta)\n",
    "print (\"multiplicar:\",multiplicar)\n",
    "print (\"divede:\",divide)\n",
    "print (\"modulo:\",modulo)"
   ]
  },
  {
   "cell_type": "markdown",
   "metadata": {},
   "source": [
    "Crea un programa que:\n",
    "Pida al usuario un número.\n",
    "Determine si el número es par o impar e imprima un mensaje adecuado.\n",
    "\n",
    "NOTA: (==)se utilizan para comparar si dos valores son iguales. Es un operador de comparación."
   ]
  },
  {
   "cell_type": "code",
   "execution_count": 8,
   "metadata": {},
   "outputs": [
    {
     "name": "stdout",
     "output_type": "stream",
     "text": [
      "el número es impar\n"
     ]
    }
   ],
   "source": [
    "num=float(input(\"indique un número\"))\n",
    "if num % 2 ==0:\n",
    "    print (\"el númpero es par\")\n",
    "else:\n",
    "    print (\"el número es impar\")"
   ]
  },
  {
   "cell_type": "markdown",
   "metadata": {},
   "source": [
    "Crea un programa que:\n",
    "Defina una función llamada es_primo que determine si un número es primo.\n",
    "Pida al usuario un número e imprima si es primo o no utilizando la función es_primo.\n",
    "\n",
    "1.- Definición de la función: def es_primo(n):\n",
    "\n",
    "2.- Defines una función llamada es_primo que toma un parámetro n.\n",
    "\n",
    "3.- Condición inicial: if n <= 1: return False\n",
    "\n",
    "4.- Si el número n es menor o igual a 1, la función devuelve False porque, por definición, los números menores o iguales a 1 no son primos.\n",
    "\n",
    "5.- Bucle for: for i in range(2, int(n ** 0.5) + 1):\n",
    "Este bucle recorre todos los números i desde 2 hasta la raíz cuadrada de n (más 1). La razón para usar la raíz cuadrada es que, si n no tiene divisores menores o iguales a su raíz cuadrada, entonces no tendrá ningún divisor mayor (excepto él mismo).\n",
    "\n",
    "6.- Condición dentro del bucle: if n % i == 0: return False\n",
    "Dentro del bucle, verificas si n es divisible por i. Si n % i == 0, significa que i es un divisor de n, por lo tanto, n no es un número primo y la función devuelve False.\n",
    "\n",
    "7.- Si pasa todas las condiciones: return True\n",
    "Si el bucle completa su recorrido sin encontrar ningún divisor, entonces n es primo y la función devuelve True.\n",
    "\n",
    "La funcion es_primo:\n",
    "Entrada del usuario: número = int(input(\"Introduce un número: \"))\n",
    "Pides al usuario que introduzca un número y conviertes esa entrada a un entero utilizando int(input(...)).\n",
    "Llamada a la función: if es_primo(número):\n",
    "Llamas a la función es_primo con el número introducido por el usuario.\n",
    "\n",
    "Estructura de control if:\n",
    "Si es_primo(número) devuelve True, entonces se imprime El número es primo.\n",
    "Si es_primo(número) devuelve False, entonces se imprime El número no es primo.\n",
    "Este código permite al usuario introducir un número y determina si ese número es primo utilizando la función es_primo que has definido."
   ]
  },
  {
   "cell_type": "code",
   "execution_count": 17,
   "metadata": {},
   "outputs": [
    {
     "name": "stdout",
     "output_type": "stream",
     "text": [
      "el número no es primo\n"
     ]
    }
   ],
   "source": [
    "def es_primo(n):\n",
    "    if n<=1:\n",
    "        return False\n",
    "    for i in range(2, int(n ** 0.5 ) + 1):\n",
    "        if n % i ==0:\n",
    "            return False\n",
    "        \n",
    "    return True\n",
    "number = int(input(\"introduce un numero:\"))\n",
    "if es_primo(number):\n",
    "    print(\"el número es primo\")\n",
    "else:\n",
    "    print(\"el número no es primo\")\n",
    "\n",
    "    "
   ]
  }
 ],
 "metadata": {
  "kernel_info": {
   "name": "python38-azureml"
  },
  "kernelspec": {
   "display_name": "Python 3.8 - AzureML",
   "language": "python",
   "name": "python38-azureml"
  },
  "language_info": {
   "codemirror_mode": {
    "name": "ipython",
    "version": 3
   },
   "file_extension": ".py",
   "mimetype": "text/x-python",
   "name": "python",
   "nbconvert_exporter": "python",
   "pygments_lexer": "ipython3",
   "version": "3.10.11"
  },
  "microsoft": {
   "ms_spell_check": {
    "ms_spell_check_language": "es"
   }
  },
  "nteract": {
   "version": "nteract-front-end@1.0.0"
  }
 },
 "nbformat": 4,
 "nbformat_minor": 2
}
