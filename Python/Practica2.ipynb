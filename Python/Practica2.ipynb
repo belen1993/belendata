{
 "cells": [
  {
   "cell_type": "code",
   "execution_count": null,
   "metadata": {},
   "outputs": [],
   "source": [
    "#Ejercicio 1: Listas\n",
    "#Ejercicio: Crea una lista con los números del 1 al 10 y luego usa un bucle para imprimir solo los números pares.\n",
    "#Pista: Puedes utilizar la función range() para generar la lista y el operador de módulo % para comprobar si un número es par."
   ]
  },
  {
   "cell_type": "code",
   "execution_count": 3,
   "metadata": {},
   "outputs": [
    {
     "name": "stdout",
     "output_type": "stream",
     "text": [
      "2\n",
      "4\n",
      "6\n",
      "8\n",
      "10\n"
     ]
    }
   ],
   "source": [
    "lista = [1, 2, 3, 4, 5, 6, 7, 8, 9, 10]\n",
    "for numero in lista:\n",
    "    if numero % 2 == 0:\n",
    "        print(numero)"
   ]
  },
  {
   "cell_type": "code",
   "execution_count": 4,
   "metadata": {},
   "outputs": [
    {
     "name": "stdout",
     "output_type": "stream",
     "text": [
      "2\n",
      "4\n",
      "6\n",
      "8\n",
      "10\n"
     ]
    }
   ],
   "source": [
    "lista = list(range(1, 11))\n",
    "for numero in lista:\n",
    "    if numero % 2 == 0:\n",
    "        print(numero)\n"
   ]
  },
  {
   "cell_type": "code",
   "execution_count": null,
   "metadata": {},
   "outputs": [],
   "source": [
    "#Ejercicio 2: Diccionarios\n",
    "#Ejercicio: Crea un diccionario que contenga los nombres de tres amigos y sus edades. Luego, usa un bucle para imprimir los nombres de los amigos que tienen más de 20 años.\n",
    "#Pista: Puedes utilizar el método items() del diccionario para iterar sobre sus elementos."
   ]
  },
  {
   "cell_type": "code",
   "execution_count": 16,
   "metadata": {},
   "outputs": [
    {
     "name": "stdout",
     "output_type": "stream",
     "text": [
      "Patricia\n"
     ]
    }
   ],
   "source": [
    "nombres = {'Ana': 17, 'Patricia': 22, 'Rocio': 19}\n",
    "#creas un diccionario llamado nombres donde las claves (keys) son nombres de personas ('Ana', 'Patricia', 'Rocio') y los valores (values) son sus edades (17, 22, 19).\n",
    "for nombres, edad in nombres.items():\n",
    "#Esta línea crea un bucle for que itera a través de cada par clave-valor en el diccionario nombres.\n",
    "#La función items() devuelve una lista de tuplas, donde cada tupla contiene una clave y su valor correspondiente del diccionario.\n",
    "#En cada iteración del bucle, nombres tomará el valor de una clave (un nombre) y edad tomará el valor asociado a esa clave (una edad).\n",
    "    if edad >20:\n",
    "    #Si la condición del if es verdadera (si edad es mayor que 20), esta línea imprimirá el valor de nombres, es decir, el nombre de la persona cuya edad es mayor que 20.\n",
    "        print(nombres)"
   ]
  },
  {
   "cell_type": "code",
   "execution_count": null,
   "metadata": {},
   "outputs": [],
   "source": [
    "#Ejercicio 3: Bucles\n",
    "#Ejercicio: Escribe un bucle while que imprima los números del 1 al 5, pero se detenga si encuentra el número 3.\n",
    "#Pista: Usa la instrucción break para salir del bucle cuando se cumpla la condición."
   ]
  },
  {
   "cell_type": "code",
   "execution_count": 23,
   "metadata": {},
   "outputs": [
    {
     "name": "stdout",
     "output_type": "stream",
     "text": [
      "1\n",
      "2\n"
     ]
    }
   ],
   "source": [
    "contador = 1\n",
    "#nicializas una variable llamada contador con un valor de 1.\n",
    "while contador <= 5:\n",
    "#Comienza un bucle while que se ejecuta mientras contador sea menor o igual a 5.\n",
    "    if contador == 3:\n",
    "        break\n",
    "    print(contador)\n",
    "    contador += 1\n",
    "    #aumenta el contador en 1 en cada iteración del bucle. Sería como poner contador + 1\n"
   ]
  }
 ],
 "metadata": {
  "kernelspec": {
   "display_name": "Python 3.10 - SDK v2",
   "language": "python",
   "name": "python310-sdkv2"
  },
  "language_info": {
   "codemirror_mode": {
    "name": "ipython",
    "version": 3
   },
   "file_extension": ".py",
   "mimetype": "text/x-python",
   "name": "python",
   "nbconvert_exporter": "python",
   "pygments_lexer": "ipython3",
   "version": "3.10.14"
  }
 },
 "nbformat": 4,
 "nbformat_minor": 2
}
