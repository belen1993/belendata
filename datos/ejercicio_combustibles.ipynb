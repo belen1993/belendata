{
 "cells": [
  {
   "cell_type": "code",
   "execution_count": 1,
   "id": "290379b6",
   "metadata": {},
   "outputs": [
    {
     "name": "stdout",
     "output_type": "stream",
     "text": [
      "Requirement already satisfied: skforecast in /anaconda/envs/azureml_py38/lib/python3.10/site-packages (0.15.1)\n",
      "Requirement already satisfied: numpy>=1.24 in /anaconda/envs/azureml_py38/lib/python3.10/site-packages (from skforecast) (1.26.4)\n",
      "Requirement already satisfied: optuna>=2.10 in /anaconda/envs/azureml_py38/lib/python3.10/site-packages (from skforecast) (4.2.1)\n",
      "Requirement already satisfied: joblib>=1.1 in /anaconda/envs/azureml_py38/lib/python3.10/site-packages (from skforecast) (1.2.0)\n",
      "Requirement already satisfied: numba>=0.59 in /anaconda/envs/azureml_py38/lib/python3.10/site-packages (from skforecast) (0.61.2)\n",
      "Requirement already satisfied: rich>=13.9 in /anaconda/envs/azureml_py38/lib/python3.10/site-packages (from skforecast) (14.0.0)\n",
      "Requirement already satisfied: pandas>=1.5 in /anaconda/envs/azureml_py38/lib/python3.10/site-packages (from skforecast) (2.2.3)\n",
      "Requirement already satisfied: tqdm>=4.57 in /anaconda/envs/azureml_py38/lib/python3.10/site-packages (from skforecast) (4.66.4)\n",
      "Requirement already satisfied: scikit-learn>=1.2 in /anaconda/envs/azureml_py38/lib/python3.10/site-packages (from skforecast) (1.5.1)\n",
      "Requirement already satisfied: llvmlite<0.45,>=0.44.0dev0 in /anaconda/envs/azureml_py38/lib/python3.10/site-packages (from numba>=0.59->skforecast) (0.44.0)\n",
      "Requirement already satisfied: colorlog in /anaconda/envs/azureml_py38/lib/python3.10/site-packages (from optuna>=2.10->skforecast) (6.9.0)\n",
      "Requirement already satisfied: PyYAML in /anaconda/envs/azureml_py38/lib/python3.10/site-packages (from optuna>=2.10->skforecast) (6.0.1)\n",
      "Requirement already satisfied: sqlalchemy>=1.4.2 in /anaconda/envs/azureml_py38/lib/python3.10/site-packages (from optuna>=2.10->skforecast) (2.0.37)\n",
      "Requirement already satisfied: packaging>=20.0 in /anaconda/envs/azureml_py38/lib/python3.10/site-packages (from optuna>=2.10->skforecast) (24.1)\n",
      "Requirement already satisfied: alembic>=1.5.0 in /anaconda/envs/azureml_py38/lib/python3.10/site-packages (from optuna>=2.10->skforecast) (1.15.2)\n",
      "Requirement already satisfied: tzdata>=2022.7 in /anaconda/envs/azureml_py38/lib/python3.10/site-packages (from pandas>=1.5->skforecast) (2024.1)\n",
      "Requirement already satisfied: pytz>=2020.1 in /anaconda/envs/azureml_py38/lib/python3.10/site-packages (from pandas>=1.5->skforecast) (2022.5)\n",
      "Requirement already satisfied: python-dateutil>=2.8.2 in /anaconda/envs/azureml_py38/lib/python3.10/site-packages (from pandas>=1.5->skforecast) (2.9.0.post0)\n",
      "Requirement already satisfied: markdown-it-py>=2.2.0 in /anaconda/envs/azureml_py38/lib/python3.10/site-packages (from rich>=13.9->skforecast) (3.0.0)\n",
      "Requirement already satisfied: typing-extensions<5.0,>=4.0.0 in /anaconda/envs/azureml_py38/lib/python3.10/site-packages (from rich>=13.9->skforecast) (4.12.2)\n",
      "Requirement already satisfied: pygments<3.0.0,>=2.13.0 in /anaconda/envs/azureml_py38/lib/python3.10/site-packages (from rich>=13.9->skforecast) (2.18.0)\n",
      "Requirement already satisfied: threadpoolctl>=3.1.0 in /anaconda/envs/azureml_py38/lib/python3.10/site-packages (from scikit-learn>=1.2->skforecast) (3.5.0)\n",
      "Requirement already satisfied: scipy>=1.6.0 in /anaconda/envs/azureml_py38/lib/python3.10/site-packages (from scikit-learn>=1.2->skforecast) (1.10.1)\n",
      "Requirement already satisfied: Mako in /anaconda/envs/azureml_py38/lib/python3.10/site-packages (from alembic>=1.5.0->optuna>=2.10->skforecast) (1.3.9)\n",
      "Requirement already satisfied: mdurl~=0.1 in /anaconda/envs/azureml_py38/lib/python3.10/site-packages (from markdown-it-py>=2.2.0->rich>=13.9->skforecast) (0.1.2)\n",
      "Requirement already satisfied: six>=1.5 in /anaconda/envs/azureml_py38/lib/python3.10/site-packages (from python-dateutil>=2.8.2->pandas>=1.5->skforecast) (1.16.0)\n",
      "Requirement already satisfied: greenlet!=0.4.17 in /anaconda/envs/azureml_py38/lib/python3.10/site-packages (from sqlalchemy>=1.4.2->optuna>=2.10->skforecast) (3.1.1)\n",
      "Requirement already satisfied: MarkupSafe>=0.9.2 in /anaconda/envs/azureml_py38/lib/python3.10/site-packages (from Mako->alembic>=1.5.0->optuna>=2.10->skforecast) (2.1.5)\n"
     ]
    }
   ],
   "source": [
    "!pip install skforecast"
   ]
  },
  {
   "cell_type": "code",
   "execution_count": 4,
   "id": "b3526f0d",
   "metadata": {},
   "outputs": [
    {
     "name": "stdout",
     "output_type": "stream",
     "text": [
      "fuel_consumption\n",
      "----------------\n",
      "Monthly fuel consumption in Spain from 1969-01-01 to 2022-08-01.\n",
      "Obtained from Corporación de Reservas Estratégicas de Productos Petrolíferos and\n",
      "Corporación de Derecho Público tutelada por el Ministerio para la Transición\n",
      "Ecológica y el Reto Demográfico. https://www.cores.es/es/estadisticas\n",
      "Shape of the dataset: (644, 5)\n",
      "+---------------------+----------+-------------+--------------+------------+-------------+----------+\n",
      "| Fecha               |     GLPs |   Gasolinas |   Querosenos |   Gasoleos |   Fueloleos |   target |\n",
      "|---------------------+----------+-------------+--------------+------------+-------------+----------|\n",
      "| 1969-01-01 00:00:00 | 133615   |      166875 |       123258 |     401185 |      912583 |        0 |\n",
      "| 1969-02-01 00:00:00 | 126748   |      155467 |       114683 |     385360 |      851878 |        0 |\n",
      "| 1969-03-01 00:00:00 | 107796   |      184984 |       109970 |     418956 |      873884 |        0 |\n",
      "| 1969-04-01 00:00:00 |  96683.2 |      202320 |       108798 |     438976 |      755490 |        0 |\n",
      "| 1969-05-01 00:00:00 |  79506.2 |      206259 |       103554 |     467452 |      729964 |        0 |\n",
      "| 1969-06-01 00:00:00 |  72091.2 |      208412 |       104792 |     463566 |      655314 |        0 |\n",
      "| 1969-07-01 00:00:00 |  72515.2 |      265737 |       109992 |     503947 |      703709 |        1 |\n",
      "| 1969-08-01 00:00:00 |  69601.3 |      282287 |       108587 |     493495 |      757296 |        0 |\n",
      "| 1969-09-01 00:00:00 |  80101.3 |      232226 |       109206 |     474779 |      813478 |        1 |\n",
      "| 1969-10-01 00:00:00 |  90848   |      217134 |       109146 |     493100 |      824577 |        1 |\n",
      "+---------------------+----------+-------------+--------------+------------+-------------+----------+\n"
     ]
    }
   ],
   "source": [
    "import pandas as pd\n",
    "from skforecast.datasets import fetch_dataset\n",
    "from tabulate import tabulate\n",
    "\n",
    "# Cargar el dataset fuel_consumption\n",
    "data = fetch_dataset(\"fuel_consumption\")\n",
    "\n",
    "# Crear la variable objetivo: 1 si el consumo sube, 0 si baja\n",
    "data['target'] = (data['GLPs'].diff() > 0).astype(int)\n",
    "\n",
    "# Eliminar valores faltantes generados por la diferenciación\n",
    "data = data.dropna()\n",
    "\n",
    "# Mostrar los primeros registros\n",
    "print(tabulate(data.head(10),   headers='keys', tablefmt='psql'))\n",
    "\n"
   ]
  },
  {
   "cell_type": "code",
   "execution_count": 5,
   "id": "acffc261",
   "metadata": {},
   "outputs": [
    {
     "ename": "NameError",
     "evalue": "name 'np' is not defined",
     "output_type": "error",
     "traceback": [
      "\u001b[0;31m---------------------------------------------------------------------------\u001b[0m",
      "\u001b[0;31mNameError\u001b[0m                                 Traceback (most recent call last)",
      "Cell \u001b[0;32mIn[5], line 13\u001b[0m\n\u001b[1;32m     10\u001b[0m \u001b[38;5;28;01mdef\u001b[39;00m \u001b[38;5;21msoft_label\u001b[39m(x):\n\u001b[1;32m     11\u001b[0m     \u001b[38;5;28;01mreturn\u001b[39;00m \u001b[38;5;241m1\u001b[39m \u001b[38;5;241m/\u001b[39m (\u001b[38;5;241m1\u001b[39m \u001b[38;5;241m+\u001b[39m np\u001b[38;5;241m.\u001b[39mexp(\u001b[38;5;241m-\u001b[39mx \u001b[38;5;241m/\u001b[39m \u001b[38;5;241m1e4\u001b[39m))\n\u001b[0;32m---> 13\u001b[0m df[\u001b[38;5;124m'\u001b[39m\u001b[38;5;124mtarget\u001b[39m\u001b[38;5;124m'\u001b[39m] \u001b[38;5;241m=\u001b[39m \u001b[43msoft_label\u001b[49m\u001b[43m(\u001b[49m\u001b[43mchange_12m\u001b[49m\u001b[43m)\u001b[49m\n\u001b[1;32m     14\u001b[0m df \u001b[38;5;241m=\u001b[39m df\u001b[38;5;241m.\u001b[39mdropna(subset\u001b[38;5;241m=\u001b[39m[\u001b[38;5;124m'\u001b[39m\u001b[38;5;124mtarget\u001b[39m\u001b[38;5;124m'\u001b[39m])\n\u001b[1;32m     16\u001b[0m \u001b[38;5;66;03m# 3. Split: Entrenamiento (80%) y test (20%)\u001b[39;00m\n",
      "Cell \u001b[0;32mIn[5], line 11\u001b[0m, in \u001b[0;36msoft_label\u001b[0;34m(x)\u001b[0m\n\u001b[1;32m     10\u001b[0m \u001b[38;5;28;01mdef\u001b[39;00m \u001b[38;5;21msoft_label\u001b[39m(x):\n\u001b[0;32m---> 11\u001b[0m     \u001b[38;5;28;01mreturn\u001b[39;00m \u001b[38;5;241m1\u001b[39m \u001b[38;5;241m/\u001b[39m (\u001b[38;5;241m1\u001b[39m \u001b[38;5;241m+\u001b[39m \u001b[43mnp\u001b[49m\u001b[38;5;241m.\u001b[39mexp(\u001b[38;5;241m-\u001b[39mx \u001b[38;5;241m/\u001b[39m \u001b[38;5;241m1e4\u001b[39m))\n",
      "\u001b[0;31mNameError\u001b[0m: name 'np' is not defined"
     ]
    }
   ],
   "source": [
    "\n",
    "# 1. Cargar datos\n",
    "df = pd.read_csv('/home/azureuser/cloudfiles/code/Users/belenolmosvalverde24/belendata/datos/consumos-combustibles-mensual (1).csv')\n",
    "df['Fecha'] = pd.to_datetime(df['Fecha'])\n",
    "df = df.set_index('Fecha')\n",
    "df = df.asfreq('MS')  # mensual, inicio de mes\n",
    "\n",
    "# 2. Crear etiqueta soft: cambio en 12 meses, transformado con sigmoide\n",
    "change_12m = df['GLPs'].shift(-12) - df['GLPs']\n",
    "\n",
    "def soft_label(x):\n",
    "    return 1 / (1 + np.exp(-x / 1e4))\n",
    "\n",
    "df['target'] = soft_label(change_12m)\n",
    "df = df.dropna(subset=['target'])\n",
    "\n",
    "# 3. Split: Entrenamiento (80%) y test (20%)\n",
    "n_total = len(df)\n",
    "n_train = int(n_total * 0.8)\n",
    "\n",
    "data_train = df.iloc[:n_train]\n",
    "data_test  = df.iloc[n_train:]\n",
    "\n",
    "# 4. Crear y entrenar el modelo con skforecast\n",
    "forecaster = ForecasterAutoreg(\n",
    "    regressor = RandomForestRegressor(n_estimators=100, random_state=42),\n",
    "    lags = 12\n",
    ")\n",
    "\n",
    "forecaster.fit(y=data_train['GLPs'], exog=None)\n",
    "\n",
    "# 5. Predecir valores futuros\n",
    "n_steps = len(data_test)\n",
    "preds = forecaster.predict(steps=n_steps)\n",
    "\n",
    "# 6. Evaluar el modelo con los targets soft reales\n",
    "y_true = data_test['target'].values\n",
    "y_pred_glps = preds.values\n",
    "\n",
    "# Como el modelo predice 'GLPs', comparamos contra los valores reales y sus futuras etiquetas\n",
    "future_glps = pd.concat([data_train['GLPs'], preds])\n",
    "future_change = future_glps.shift(-12) - future_glps\n",
    "future_soft_labels = soft_label(future_change)\n",
    "y_pred_soft = future_soft_labels.loc[data_test.index]\n",
    "\n",
    "# 7. Métricas de evaluación\n",
    "print(\"Evaluación del modelo (predicción de soft labels):\")\n",
    "print(f\"MAE: {mean_absolute_error(y_true, y_pred_soft):.4f}\")\n",
    "print(f\"MSE: {mean_squared_error(y_true, y_pred_soft):.4f}\")\n",
    "print(f\"R²:  {r2_score(y_true, y_pred_soft):.4f}\")\n",
    "\n",
    "# 8. Plot\n",
    "plt.figure(figsize=(12,6))\n",
    "plt.plot(data_test.index, y_true, label='Soft Label Real', marker='o')\n",
    "plt.plot(data_test.index, y_pred_soft, label='Predicción', marker='x')\n",
    "plt.title('Predicción de Probabilidad de Subida (Soft Label) - 12 meses vista')\n",
    "plt.xlabel('Fecha')\n",
    "plt.ylabel('Probabilidad de subida')\n",
    "plt.legend()\n",
    "plt.grid(True)\n",
    "plt.tight_layout()\n",
    "plt.show()\n"
   ]
  }
 ],
 "metadata": {
  "kernelspec": {
   "display_name": "Python 3.10 - SDK v2",
   "language": "python",
   "name": "python310-sdkv2"
  },
  "language_info": {
   "codemirror_mode": {
    "name": "ipython",
    "version": 3
   },
   "file_extension": ".py",
   "mimetype": "text/x-python",
   "name": "python",
   "nbconvert_exporter": "python",
   "pygments_lexer": "ipython3",
   "version": "3.10.14"
  }
 },
 "nbformat": 4,
 "nbformat_minor": 5
}
