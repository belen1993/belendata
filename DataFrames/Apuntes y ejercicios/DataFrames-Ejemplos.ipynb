{
 "cells": [
  {
   "cell_type": "code",
   "execution_count": 88,
   "metadata": {},
   "outputs": [],
   "source": [
    "import pandas as pd\n",
    "import numpy as np\n"
   ]
  },
  {
   "cell_type": "code",
   "execution_count": null,
   "metadata": {},
   "outputs": [],
   "source": [
    "help(pd.DataFrame)"
   ]
  },
  {
   "cell_type": "code",
   "execution_count": 90,
   "metadata": {},
   "outputs": [],
   "source": [
    "\n",
    "diccionario = {'nombre': ['María', 'Luis', 'Carmen', 'Antonio'],\n",
    "       'edad': [18, 22, 20, 21],\n",
    "       'grado': ['Economía', 'Medicina', 'Arquitectura', 'Economía'],\n",
    "       'correo': ['maria@gmail.com', 'luis@yahoo.es', 'carmen@gmail.com', 'antonio@gmail.com']\n",
    "       }\n",
    "\n",
    "lista_de_listas = [['María', 18],\n",
    "         ['Luis', 22],\n",
    "         ['Carmen', 20]]\n",
    "                  \n",
    "lista_de_dicts = [{'Nombre': 'María', 'Edad': 18},\n",
    "         {'Nombre': 'Luis', 'Edad': 22},\n",
    "         {'Nombre': 'Carmen'}]  \n",
    "        "
   ]
  },
  {
   "cell_type": "code",
   "execution_count": null,
   "metadata": {},
   "outputs": [],
   "source": [
    "df = pd.DataFrame(diccionario)\n",
    "df"
   ]
  },
  {
   "cell_type": "code",
   "execution_count": null,
   "metadata": {},
   "outputs": [],
   "source": [
    "df = pd.DataFrame(lista_de_listas, columns=['Nombre', 'Edad'])\n",
    "df"
   ]
  },
  {
   "cell_type": "markdown",
   "metadata": {},
   "source": [
    "PARA LEER DATOS DESDE FUENTES"
   ]
  },
  {
   "cell_type": "code",
   "execution_count": 93,
   "metadata": {},
   "outputs": [],
   "source": [
    "dfcol = pd.DataFrame(lista_de_dicts)"
   ]
  },
  {
   "cell_type": "code",
   "execution_count": null,
   "metadata": {},
   "outputs": [],
   "source": [
    "print(dfcol)"
   ]
  },
  {
   "cell_type": "code",
   "execution_count": null,
   "metadata": {},
   "outputs": [],
   "source": [
    "file_path_csv = \"/home/azureuser/cloudfiles/code/Users/belenolmosvalverde24/belendata/DataFrames/colesterol.csv\"\n",
    "\n",
    "if os.path.exists(file_path_csv):\n",
    "\tdfcol = pd.read_csv(file_path_csv)\n",
    "\tprint(dfcol)\n",
    "else:\n",
    "\tprint(f\"El archivo {file_path_csv} no existe. Verifica la ruta.\")"
   ]
  },
  {
   "cell_type": "code",
   "execution_count": 96,
   "metadata": {},
   "outputs": [],
   "source": [
    "import json"
   ]
  },
  {
   "cell_type": "code",
   "execution_count": null,
   "metadata": {},
   "outputs": [],
   "source": [
    "file_path = \"/home/azureuser/cloudfiles/code/Users/belenolmosvalverde24/belendata/DataFrames/Apuntes y ejercicios/frutas.json\"\n",
    "\n",
    "if os.path.exists(file_path):\n",
    "    dff = pd.read_json(file_path)\n",
    "    print(dff.head())\n",
    "else:\n",
    "    print(f\"El archivo {file_path} no existe. Verifica la ruta.\")\n",
    "\n",
    "\n",
    "\n"
   ]
  },
  {
   "cell_type": "code",
   "execution_count": null,
   "metadata": {},
   "outputs": [],
   "source": [
    "import os\n",
    "\n",
    "file_path = \"/home/azureuser/cloudfiles/code/Users/belenolmosvalverde24/belendata/DataFrames/Apuntes y ejercicios/frutas.json\"\n",
    "\n",
    "if os.path.exists(file_path):\n",
    "\tdff = pd.read_json(file_path)\n",
    "\tprint(dff)\n",
    "else:\n",
    "\tprint(f\"El archivo {file_path} no existe. Verifica la ruta.\")"
   ]
  },
  {
   "cell_type": "code",
   "execution_count": 99,
   "metadata": {},
   "outputs": [],
   "source": [
    "import sqlite3\n"
   ]
  },
  {
   "cell_type": "code",
   "execution_count": null,
   "metadata": {},
   "outputs": [],
   "source": [
    "import sqlite3\n",
    "try:\n",
    "    con_sqlt = sqlite3.connect('./datos/database.db')\n",
    "    print(\"Conexión exitosa\")\n",
    "    con_sqlt.close()\n",
    "except sqlite3.OperationalError as e:\n",
    "    print(f\"Error al conectar: {e}\")"
   ]
  },
  {
   "cell_type": "code",
   "execution_count": null,
   "metadata": {},
   "outputs": [],
   "source": [
    "import os\n",
    "print(os.path.exists('./datos/database.db'))"
   ]
  },
  {
   "cell_type": "code",
   "execution_count": 102,
   "metadata": {},
   "outputs": [],
   "source": [
    "mkdir -p ./datos"
   ]
  },
  {
   "cell_type": "code",
   "execution_count": null,
   "metadata": {},
   "outputs": [],
   "source": [
    "con_sqlt = sqlite3.connect('./datos/test.db')\n",
    "print(\"Conexión exitosa a la base de datos de prueba\")\n",
    "con_sqlt.close()"
   ]
  },
  {
   "cell_type": "code",
   "execution_count": 104,
   "metadata": {},
   "outputs": [],
   "source": [
    "con_sqlt = sqlite3.connect('Datos/database.db')\n"
   ]
  },
  {
   "cell_type": "code",
   "execution_count": 105,
   "metadata": {},
   "outputs": [],
   "source": [
    "import pandas as pd\n"
   ]
  },
  {
   "cell_type": "code",
   "execution_count": null,
   "metadata": {},
   "outputs": [],
   "source": [
    "import sqlite3\n",
    "import os\n",
    "\n",
    "db_path = \"./datos/database.db\"\n",
    "\n",
    "if os.path.exists(db_path):\n",
    "\tcon_sqlt = sqlite3.connect(db_path)\n",
    "\tdfdb = pd.read_sql_query(\"SELECT * FROM movies\", con_sqlt)\n",
    "\tcon_sqlt.close()\n",
    "\tdfdb\n",
    "else:\n",
    "\tprint(f\"El archivo {db_path} no existe. Verifica la ruta.\")"
   ]
  },
  {
   "cell_type": "code",
   "execution_count": null,
   "metadata": {},
   "outputs": [],
   "source": [
    "!pip install openpyxl #para leer excels"
   ]
  },
  {
   "cell_type": "code",
   "execution_count": null,
   "metadata": {},
   "outputs": [],
   "source": [
    "dfxl = pd.read_excel('../DataFrames/FoodMarket.xlsx', sheet_name= 'Purchases')\n",
    "dfxl"
   ]
  },
  {
   "cell_type": "code",
   "execution_count": null,
   "metadata": {},
   "outputs": [],
   "source": [
    "#almacenar el resultado y empezar a trabajar y entrenar modelos\n",
    "dfxl.to_csv('Purchases.csv')"
   ]
  },
  {
   "cell_type": "markdown",
   "metadata": {},
   "source": [
    "ATRIBUTOS\n",
    "Siempre que cargo un dataframe voy a querer Investigar aspectos internos de los datos."
   ]
  },
  {
   "cell_type": "code",
   "execution_count": null,
   "metadata": {},
   "outputs": [],
   "source": [
    "import os\n",
    "\n",
    "file_path_excel = '../DataFrames/FoodMarket.xlsx'\n",
    "\n",
    "if os.path.exists(file_path_excel):\n",
    "\tdfxl = pd.read_excel(file_path_excel, sheet_name='Purchases')\n",
    "else:\n",
    "\tprint(f\"El archivo {file_path_excel} no existe. Creando un DataFrame de ejemplo.\")\n",
    "\tdfxl = pd.DataFrame({\n",
    "\t\t'Item': ['Apple', 'Banana', 'Orange'],\n",
    "\t\t'Quantity': [10, 20, 30],\n",
    "\t\t'Price': [1.5, 0.5, 0.8]\n",
    "\t})\n",
    "\n",
    "dfxl.info()\n",
    "dfcol.info()"
   ]
  },
  {
   "cell_type": "markdown",
   "metadata": {},
   "source": [
    "RENOMBRAR y modificar"
   ]
  },
  {
   "cell_type": "markdown",
   "metadata": {},
   "source": []
  },
  {
   "cell_type": "code",
   "execution_count": null,
   "metadata": {},
   "outputs": [],
   "source": [
    "# Adding 'altura' and 'pesos' columns to dfcol\n",
    "dfcol['altura'] = [1.65, 1.80, 1.75]\n",
    "dfcol['pesos'] = [60, 75, 70]\n",
    "\n",
    "# Selecting the 'altura' and 'pesos' columns\n",
    "dfcol[['altura', 'pesos']]"
   ]
  },
  {
   "cell_type": "code",
   "execution_count": null,
   "metadata": {},
   "outputs": [],
   "source": [
    "#acceder a una fila concreta\n",
    "dfcol.loc[1, 'Edad']"
   ]
  },
  {
   "cell_type": "code",
   "execution_count": null,
   "metadata": {},
   "outputs": [],
   "source": [
    "#rangos, para la fila uno quiero todas las columnas hasta la columna 3\n",
    "\n",
    "dfcol.iloc[1,:3]\n",
    "\n",
    "#puedo indicar \n",
    "\n",
    "dfcol.iloc[1:5,2:4]"
   ]
  },
  {
   "cell_type": "code",
   "execution_count": null,
   "metadata": {},
   "outputs": [],
   "source": [
    "#localizar por filas y columnas con condiciones\n",
    "mask = dfcol.loc[:,'pesos']>70\n",
    "print(mask)\n",
    "dfcol[mask] "
   ]
  },
  {
   "cell_type": "code",
   "execution_count": null,
   "metadata": {},
   "outputs": [],
   "source": [
    "#loc permite acceder a filas concretas y a una columna concreta para esa fila.\n",
    "# Adding 'colesterol' column to dfcol\n",
    "dfcol['colesterol'] = [200, 180, 190]\n",
    "\n",
    "dfcol.loc[2:, ['colesterol', 'pesos']]\n"
   ]
  },
  {
   "cell_type": "code",
   "execution_count": null,
   "metadata": {},
   "outputs": [],
   "source": [
    "mask = dfcol.loc[:,['pesos', 'altura']] > [70, 1.5]\n",
    "mask\n",
    "dfcol[mask] "
   ]
  },
  {
   "cell_type": "code",
   "execution_count": null,
   "metadata": {},
   "outputs": [],
   "source": [
    "# ISIN generar una mascara contra el dataframe original para filtrar los valores que cumplan con la condición y mostrar lo que nos interesa.\n",
    "mask = dfcol.isin([20, 1.7,'Javier Garcia Sánchez'])\n",
    "print(mask)\n",
    "dfcol[mask]\n",
    "\n",
    "#Para saber si para la col peso existen pesos de 75 y 85\n",
    "\n",
    "mask = dfcol.isin({'pesos': [75, 85]})\n",
    "print(mask) \n",
    "dfcol[mask]\n"
   ]
  },
  {
   "cell_type": "code",
   "execution_count": null,
   "metadata": {},
   "outputs": [],
   "source": [
    "#mascara negativa que permite encontrar los valores que no cumplen con la condición\n",
    "mask = ~dfcol.isin(({'pesos': [75, 85], 'edad':[35]}))\n",
    "print(mask)\n",
    "dfcol[mask]"
   ]
  },
  {
   "cell_type": "markdown",
   "metadata": {},
   "source": [
    "ACCESO Y FILTRAR"
   ]
  },
  {
   "cell_type": "code",
   "execution_count": null,
   "metadata": {},
   "outputs": [],
   "source": [
    "help(dfcol.loc)"
   ]
  },
  {
   "cell_type": "code",
   "execution_count": null,
   "metadata": {},
   "outputs": [],
   "source": [
    "help(dfcol.iloc)"
   ]
  },
  {
   "cell_type": "code",
   "execution_count": null,
   "metadata": {},
   "outputs": [],
   "source": [
    "dfcol.iloc[1,:3]"
   ]
  },
  {
   "cell_type": "code",
   "execution_count": null,
   "metadata": {},
   "outputs": [],
   "source": [
    "#Las mascaras pueden ser multidimensionales, y aparecer algunos NaNs. \n",
    "mask = dfcol.isin({'pesos': [75, 85], 'edad': [35]})\n",
    "print(mask)\n",
    "dfcol[mask] \n"
   ]
  },
  {
   "cell_type": "code",
   "execution_count": null,
   "metadata": {},
   "outputs": [],
   "source": [
    "#Las columnas con NaNs podemos eliminarlas con el dropna(). \n"
   ]
  },
  {
   "cell_type": "code",
   "execution_count": 22,
   "metadata": {},
   "outputs": [],
   "source": [
    "dfcol = pd.read_csv"
   ]
  },
  {
   "cell_type": "code",
   "execution_count": null,
   "metadata": {},
   "outputs": [],
   "source": [
    "dfcol['edad'].describe() #observar la información. Solo incluye las columnas numéricas"
   ]
  },
  {
   "cell_type": "code",
   "execution_count": null,
   "metadata": {},
   "outputs": [],
   "source": [
    "dfcol.describe(include='object') #se utiliza el include para que incluya las columnas textuales (pueden aparecer en valores discretos concretos, categóricos) hombre=1, mujer=2"
   ]
  },
  {
   "cell_type": "code",
   "execution_count": null,
   "metadata": {},
   "outputs": [],
   "source": [
    "#pandas puede manejar distintos tipos de datos. Para entender los tipos que hay\n",
    "dfcol.select_dtypes(include =['int64'])\n",
    "\n",
    "#con objetos\n",
    "dfcol.select_dtypes(include=['object'])"
   ]
  },
  {
   "cell_type": "code",
   "execution_count": null,
   "metadata": {},
   "outputs": [],
   "source": [
    "#para generar nuevas columnas como el indice de masa corporal: \n",
    "dfcol['imc']=dfcol['peso']/(dfcol['altura']**2)\n",
    "dfcol"
   ]
  },
  {
   "cell_type": "code",
   "execution_count": null,
   "metadata": {},
   "outputs": [],
   "source": [
    "#cambiar el tipo de alguna columna. Se hace con ASTYPE\n",
    "dfcol.info()\n"
   ]
  },
  {
   "cell_type": "code",
   "execution_count": null,
   "metadata": {},
   "outputs": [],
   "source": [
    "dfcol['edad']=dfcol['edad'].astype('int32')\n",
    "dfcol"
   ]
  },
  {
   "cell_type": "code",
   "execution_count": null,
   "metadata": {},
   "outputs": [],
   "source": [
    "#Trasformar datos textuales de fecha a datos de fecha reales. Podemos utilizar el ASTYPE O EL TO_DATETIME\n",
    "\n",
    "dfcol['date']='2025-02-23'\n",
    "dfcol\n",
    "\n",
    "dfcol['date']= pd.to_datetime(dfcol['date'], format='%Y-%m-%d')\n",
    "dfcol\n",
    "\n",
    "print(dfcol['date']dt)\n",
    "print(dfcol)\n",
    "print(dfcol[\n",
    "print(dfcol)\n",
    "print(dfcol\n",
    "print(dfcol['date'].dt"
   ]
  },
  {
   "cell_type": "code",
   "execution_count": null,
   "metadata": {},
   "outputs": [],
   "source": [
    "import datetime\n",
    "ahora = datetime.datetime.now()\n",
    "print(ahora)\n",
    "\n",
    "diff_in_days = ahora - dfcol['date']\n",
    "print(diff_in_days)\n",
    "print(diff_in_days.dt.days)"
   ]
  },
  {
   "cell_type": "code",
   "execution_count": null,
   "metadata": {},
   "outputs": [],
   "source": [
    "#podemos aplicar funciones específicas.\n",
    "\n",
    "from math import log\n",
    "\n",
    "dfcol['altura'].apply(log)\n"
   ]
  },
  {
   "cell_type": "code",
   "execution_count": null,
   "metadata": {},
   "outputs": [],
   "source": [
    "#categorizar en funcion del peso\n",
    "\n",
    "def calc_es_sobrepeso(val):\n",
    "    if val < 18.5 : return 'bajo'\n",
    "    if val "
   ]
  },
  {
   "cell_type": "code",
   "execution_count": null,
   "metadata": {},
   "outputs": [],
   "source": [
    "#utilizar el metodo POP para recibir un conjunto de columnas o columna que quiera extraer del dframe y lo puedo almacenar en una varibales que sería una serie. \n",
    "edad = dfcol.pop('edad')\n",
    "print(edad)\n",
    "print(dfcol)"
   ]
  },
  {
   "cell_type": "code",
   "execution_count": 74,
   "metadata": {},
   "outputs": [],
   "source": [
    "### OPERACIONES FILAS"
   ]
  },
  {
   "cell_type": "code",
   "execution_count": null,
   "metadata": {},
   "outputs": [],
   "source": [
    "#Añadir nuevos elementos a un df-CONCAT\n",
    "dfcol.iloc[-1]\n",
    "\n",
    "df = pd.DataFrame([nfila])\n",
    "pd.concat((dfcol, dfd), ignore_index=True)\n"
   ]
  },
  {
   "cell_type": "code",
   "execution_count": null,
   "metadata": {},
   "outputs": [],
   "source": [
    "#eliminar rangos\n",
    "dfcol.drop(index=[1,3])"
   ]
  },
  {
   "cell_type": "code",
   "execution_count": null,
   "metadata": {},
   "outputs": [],
   "source": [
    "#eliminar los NaNs\n",
    "dfcol.dropna()\n",
    "\n"
   ]
  },
  {
   "cell_type": "code",
   "execution_count": null,
   "metadata": {},
   "outputs": [],
   "source": [
    "#reemplazar valores\n",
    "dfcol.replace({'sexo:'{'H':'Hombre', 'M':'Mujer'}})"
   ]
  },
  {
   "cell_type": "code",
   "execution_count": null,
   "metadata": {},
   "outputs": [],
   "source": [
    "###ORDENAR"
   ]
  },
  {
   "cell_type": "code",
   "execution_count": null,
   "metadata": {},
   "outputs": [],
   "source": [
    "dfcol"
   ]
  },
  {
   "cell_type": "code",
   "execution_count": null,
   "metadata": {},
   "outputs": [],
   "source": [
    "#indicar la columna por la que quiero ordenar (asc y desc)\n",
    "dfcol.sort_values(['peso', 'altura'])\n",
    "dfcol.sort_values(['sexo', 'altura'], ascending= [True, False])\n"
   ]
  },
  {
   "cell_type": "code",
   "execution_count": 81,
   "metadata": {},
   "outputs": [],
   "source": [
    "###Agrupamiento"
   ]
  },
  {
   "cell_type": "code",
   "execution_count": null,
   "metadata": {},
   "outputs": [],
   "source": [
    "dfcol = pd.read_csv(\"./data/colesterol.csv\")\n",
    "dfcol.info()"
   ]
  },
  {
   "cell_type": "code",
   "execution_count": null,
   "metadata": {},
   "outputs": [],
   "source": [
    "help(dfcol.groupby)#generar un nuevo índice\n"
   ]
  },
  {
   "cell_type": "code",
   "execution_count": null,
   "metadata": {},
   "outputs": [],
   "source": [
    "#hacer una agrupación por sexo, va a generar dos grupos H y M. Genera un objeto que tiene la referencia de las agrupaciones. Para ver los gurpos que están dentro de ese \n",
    "#objeto utilizaremos \"groups\"\n",
    "\n",
    "print(dfcol.groupby('sexo').groups)\n",
    "print(dfcol.groupby('sexo').get_groups('H')) #filtrar por hombres\n",
    "print(dfcol.groupby('sexo').first()) #primer elemento de cada grupo que se ha generado\n",
    "print(dfcol.groupby('sexo').describe()) #inf sobre como se comportan esos grupos\n"
   ]
  },
  {
   "cell_type": "code",
   "execution_count": null,
   "metadata": {},
   "outputs": [],
   "source": [
    "#agrupaciones más elaboradas por sexo y por peso\n",
    "print(dfcol.groupby(['sexo', 'pesos']).groups)\n",
    "print(dfcol.groupby(['sexo', 'pesos']).first())"
   ]
  },
  {
   "cell_type": "code",
   "execution_count": null,
   "metadata": {},
   "outputs": [],
   "source": [
    "#el group by no genera un df. Es más un guía. Lo utilizaré para generar agregaciones. Ejecutar acciones sobre esos grupos. Ejemplo agrupar para luego generar medias sobre esos grupos. \n",
    "#Ahí entran en juego las agregaciones\n",
    "import numpy as np\n",
    "dfcol.aggregate([np.sum])\n",
    "dfcol.aggregate([np.mean])\n",
    "dfcol.aggregate([np.sum, 'min', 'max'])"
   ]
  },
  {
   "cell_type": "code",
   "execution_count": null,
   "metadata": {},
   "outputs": [],
   "source": [
    "print(dfcol.groupby('sexo').first())\n",
    "dfcol.groupby('sexo').agg(np.sum)\n",
    "#para cada columna queremos que ejecute como agregacion\n"
   ]
  },
  {
   "cell_type": "code",
   "execution_count": null,
   "metadata": {},
   "outputs": [],
   "source": [
    "#indicar columnas para las que quiero que se apliquen reglas concretas\n",
    "\n",
    "dfcol.groupby('sexo').agg({'edad':np.sum, 'colesterol':np.mean})"
   ]
  },
  {
   "cell_type": "code",
   "execution_count": null,
   "metadata": {},
   "outputs": [],
   "source": [
    "#Aplicar f de agregaciones a más de un indice\n",
    "\n",
    "print(dfcol.groupby(['sexo', 'peso']).first())\n",
    "dfcol .groupby(['sexo', 'peso']).agg(np.sum)\n",
    "\n"
   ]
  }
 ],
 "metadata": {
  "kernelspec": {
   "display_name": "Python 3.8 - AzureML",
   "language": "python",
   "name": "python38-azureml"
  },
  "language_info": {
   "codemirror_mode": {
    "name": "ipython",
    "version": 3
   },
   "file_extension": ".py",
   "mimetype": "text/x-python",
   "name": "python",
   "nbconvert_exporter": "python",
   "pygments_lexer": "ipython3",
   "version": "3.10.11"
  }
 },
 "nbformat": 4,
 "nbformat_minor": 2
}
