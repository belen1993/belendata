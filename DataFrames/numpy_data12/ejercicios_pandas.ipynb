{
 "cells": [
  {
   "cell_type": "markdown",
   "metadata": {},
   "source": [
    "\n",
    "Ejercicios Series\n"
   ]
  },
  {
   "cell_type": "code",
   "execution_count": 2,
   "metadata": {},
   "outputs": [],
   "source": [
    "import pandas as pd\n"
   ]
  },
  {
   "cell_type": "code",
   "execution_count": 1,
   "metadata": {},
   "outputs": [
    {
     "ename": "NameError",
     "evalue": "name 'pd' is not defined",
     "output_type": "error",
     "traceback": [
      "\u001b[0;31m---------------------------------------------------------------------------\u001b[0m",
      "\u001b[0;31mNameError\u001b[0m                                 Traceback (most recent call last)",
      "Cell \u001b[0;32mIn[1], line 17\u001b[0m\n\u001b[1;32m      1\u001b[0m \u001b[38;5;66;03m#1. Escribe un programa Pandas para cambiar el tipo de datos de una columna o serie dada. Serie de muestra:\u001b[39;00m\n\u001b[1;32m      2\u001b[0m \u001b[38;5;124;03m\"\"\"    Serie de datos originales:\u001b[39;00m\n\u001b[1;32m      3\u001b[0m \u001b[38;5;124;03m0       100\u001b[39;00m\n\u001b[1;32m      4\u001b[0m \u001b[38;5;124;03m1       200\u001b[39;00m\n\u001b[0;32m   (...)\u001b[0m\n\u001b[1;32m     14\u001b[0m \u001b[38;5;124;03m4    400.00\u001b[39;00m\n\u001b[1;32m     15\u001b[0m \u001b[38;5;124;03mtipo: float64\"\"\"\u001b[39;00m\n\u001b[0;32m---> 17\u001b[0m s \u001b[38;5;241m=\u001b[39m \u001b[43mpd\u001b[49m\u001b[38;5;241m.\u001b[39mSeries([\u001b[38;5;241m100\u001b[39m, \u001b[38;5;241m200\u001b[39m, \u001b[38;5;124m'\u001b[39m\u001b[38;5;124mpython\u001b[39m\u001b[38;5;124m'\u001b[39m, \u001b[38;5;241m300.12\u001b[39m, \u001b[38;5;241m400\u001b[39m] ) \n\u001b[1;32m     18\u001b[0m sn\u001b[38;5;241m=\u001b[39mpd\u001b[38;5;241m.\u001b[39mto_numeric(s,errors\u001b[38;5;241m=\u001b[39m\u001b[38;5;124m'\u001b[39m\u001b[38;5;124mcoerce\u001b[39m\u001b[38;5;124m'\u001b[39m)\n\u001b[1;32m     19\u001b[0m \u001b[38;5;28mprint\u001b[39m(sn)\n",
      "\u001b[0;31mNameError\u001b[0m: name 'pd' is not defined"
     ]
    }
   ],
   "source": [
    "#1. Escribe un programa Pandas para cambiar el tipo de datos de una columna o serie dada. Serie de muestra:\n",
    "\"\"\"    Serie de datos originales:\n",
    "0       100\n",
    "1       200\n",
    "2    python\n",
    "3    300.12\n",
    "4       400\n",
    "dtype: objeto\n",
    "Cambio a numérico:\n",
    "0    100.00\n",
    "1    200.00\n",
    "2       NaN\n",
    "3    300.12\n",
    "4    400.00\n",
    "tipo: float64\"\"\"\n",
    "\n",
    "s = pd.Series([100, 200, 'python', 300.12, 400] ) \n",
    "sn=pd.to_numeric(s,errors='coerce')\n",
    "print(sn)\n",
    "\n"
   ]
  },
  {
   "cell_type": "code",
   "execution_count": 26,
   "metadata": {},
   "outputs": [
    {
     "data": {
      "text/plain": [
       "0       Red\n",
       "1     Green\n",
       "2     White\n",
       "3       Red\n",
       "4     Black\n",
       "5    Yellow\n",
       "dtype: object"
      ]
     },
     "execution_count": 26,
     "metadata": {},
     "output_type": "execute_result"
    }
   ],
   "source": [
    "#2_Escribe un programa Pandas para convertir series de listas en una serie.\n",
    "\"\"\"ConnectionErrorEjemplo de salida:\n",
    "Serie original de listas\n",
    "0    [Red, Green, White]\n",
    "1           [Red, Black]\n",
    "2               [Yellow]\n",
    "dtype: objeto\n",
    "Una serie:\n",
    "0       Red\n",
    "1     Green\n",
    "2     White\n",
    "3       Red\n",
    "4     Black\n",
    "5    Yellow\n",
    "dtype: objeto\"\"\"\n",
    "\n",
    "#from itertools import chain \n",
    "serie = pd.Series([['Red', 'Green', 'White'], ['Red', 'Black'], ['Yellow']])\n",
    "serie.apply(pd.Series).stack().reset_index(drop=True)\n",
    "#serie.apply(pd.Series())\n",
    "#serie2=pd.Series(chain.from_iterable(serie.tolist()))\n"
   ]
  },
  {
   "cell_type": "code",
   "execution_count": 16,
   "metadata": {},
   "outputs": [
    {
     "name": "stdout",
     "output_type": "stream",
     "text": [
      "\n",
      "Serie de datos actualizada:\n",
      "0       100\n",
      "1       200\n",
      "2    python\n",
      "3    300.12\n",
      "4       400\n",
      "5       500\n",
      "6       600\n",
      "dtype: object\n"
     ]
    }
   ],
   "source": [
    "#3_Escribe un programa Pandas para agregar algunos datos a una serie existente.\n",
    "\"\"\"Ejemplo de salida:\n",
    "Serie de datos originales:\n",
    "0       100\n",
    "1       200\n",
    "2    python\n",
    "3    300.12\n",
    "4       400\n",
    "dtype: objeto\n",
    "\n",
    "Serie de datos después de agregar algunos datos:\n",
    "0       100\n",
    "1       200\n",
    "2    python\n",
    "3    300.12\n",
    "4       400\n",
    "5       500\n",
    "6       php\n",
    "dtype: objeto\"\"\"\n",
    "\n",
    "s1= pd.Series([100, 200, 'python', 300.12, 400]) \n",
    "# Nuevos datos a agregar \n",
    "datos_nuevos = pd.Series([500, 600]) \n",
    "# Combinar la serie original con los nuevos datos \n",
    "nueva_s1 = pd.concat([s1, datos_nuevos], ignore_index=True) \n",
    "print(\"\\nSerie de datos actualizada:\") \n",
    "print(nueva_s1)"
   ]
  },
  {
   "cell_type": "code",
   "execution_count": 28,
   "metadata": {},
   "outputs": [
    {
     "data": {
      "text/plain": [
       "0    0\n",
       "1    1\n",
       "2    2\n",
       "3    3\n",
       "4    4\n",
       "5    5\n",
       "dtype: int64"
      ]
     },
     "execution_count": 28,
     "metadata": {},
     "output_type": "execute_result"
    }
   ],
   "source": [
    "#4_Escribe un programa Pandas para crear otra serie con un subconjunto de datos según un valor y una condición dada.\n",
    "\"\"\"Ejemplo de salida:\n",
    "Serie de datos originales:\n",
    "0      0\n",
    "1      1\n",
    "2      2\n",
    "\n",
    "....\n",
    "\n",
    "9      9\n",
    "10    10\n",
    "tipo: int64\n",
    "\n",
    "Subconjunto de la serie de datos anterior:\n",
    "0    0\n",
    "1    1\n",
    "2    2\n",
    "3    3\n",
    "4    4\n",
    "5    5\n",
    "tipo: int64\"\"\"\n",
    "\n",
    "s2=pd.Series(list(range(11)))\n",
    "\n",
    "s2[s2 <= 5]\n",
    "\n"
   ]
  },
  {
   "cell_type": "code",
   "execution_count": 2,
   "metadata": {},
   "outputs": [
    {
     "ename": "SyntaxError",
     "evalue": "positional argument follows keyword argument (139976186.py, line 20)",
     "output_type": "error",
     "traceback": [
      "\u001b[0;36m  Cell \u001b[0;32mIn[2], line 20\u001b[0;36m\u001b[0m\n\u001b[0;31m    s3=pd.Sereie(data=[1,2,3,4,5], index['a','b','c','d','e'])\u001b[0m\n\u001b[0m                                                             ^\u001b[0m\n\u001b[0;31mSyntaxError\u001b[0m\u001b[0;31m:\u001b[0m positional argument follows keyword argument\n"
     ]
    }
   ],
   "source": [
    "#5_Escribe un programa Pandas para cambiar el orden del índice de una serie dada.\n",
    "\"\"\"Ejemplo de salida:\n",
    "Serie de datos originales:\n",
    "A    1\n",
    "B    2\n",
    "C    3\n",
    "D    4\n",
    "E    5\n",
    "tipo: int64\n",
    "\n",
    "Serie de datos después de cambiar el orden del índice:\n",
    "B    2\n",
    "A    1\n",
    "C    3\n",
    "D    4\n",
    "E    5\n",
    "tipo: int64\"\"\"\n",
    "\n",
    "#s3=pd.Series({'A':1,'B':2,'C':3,'D':4,'E':5}\n",
    "s3=pd.Sereie(data=[1,2,3,4,5], index['a','b','c','d','e'])\n",
    "print(s3)\n",
    "s3.reindex('b','a','c','d','e')"
   ]
  },
  {
   "cell_type": "code",
   "execution_count": 33,
   "metadata": {},
   "outputs": [
    {
     "ename": "SyntaxError",
     "evalue": "invalid syntax (1902202956.py, line 30)",
     "output_type": "error",
     "traceback": [
      "\u001b[0;36m  Cell \u001b[0;32mIn[33], line 30\u001b[0;36m\u001b[0m\n\u001b[0;31m    mask=sr1.~isin(sr2)\u001b[0m\n\u001b[0m             ^\u001b[0m\n\u001b[0;31mSyntaxError\u001b[0m\u001b[0;31m:\u001b[0m invalid syntax\n"
     ]
    }
   ],
   "source": [
    "#6_Escribe un programa Pandas para obtener los elementos de una serie dada que no están presentes en otra serie dada.\n",
    "\"\"\"Ejemplo de salida:  \n",
    "Serie original:\n",
    "sr1:\n",
    "0    1\n",
    "1    2\n",
    "2    3\n",
    "3    4\n",
    "4    5\n",
    "dtype: int64\n",
    "sr2:\n",
    "0     2\n",
    "1     4\n",
    "2     6\n",
    "3     8\n",
    "4    10\n",
    "dtype: int64\n",
    "\n",
    "Elementos de sr1 no presentes en sr2:\n",
    "0    1\n",
    "2    3\n",
    "4    5\n",
    "tipo: int64\"\"\"\n",
    "\n",
    "sr1=pd.Series([1,2,3,4,5])\n",
    "sr2=pd.Series([2,4,6,8,10])\n",
    "print(sr1)\n",
    "print(sr2)\n",
    "\n",
    "mask=sr1.~isin(sr2)\n",
    "sr1[mask]"
   ]
  },
  {
   "cell_type": "code",
   "execution_count": 35,
   "metadata": {},
   "outputs": [],
   "source": [
    "import numpy as np\n",
    "\n"
   ]
  },
  {
   "cell_type": "code",
   "execution_count": 51,
   "metadata": {},
   "outputs": [
    {
     "name": "stdout",
     "output_type": "stream",
     "text": [
      "0     4\n",
      "1     3\n",
      "2     4\n",
      "3     1\n",
      "4     1\n",
      "5     4\n",
      "6     2\n",
      "7     4\n",
      "8     4\n",
      "9     3\n",
      "10    3\n",
      "11    1\n",
      "12    1\n",
      "13    3\n",
      "14    3\n",
      "dtype: int64\n",
      "4    5\n",
      "3    5\n",
      "1    4\n",
      "2    1\n",
      "dtype: int64\n",
      "Int64Index([4, 3, 1, 2], dtype='int64')\n",
      "4\n"
     ]
    },
    {
     "data": {
      "text/plain": [
       "0        4\n",
       "1     otro\n",
       "2        4\n",
       "3     otro\n",
       "4     otro\n",
       "5        4\n",
       "6     otro\n",
       "7        4\n",
       "8        4\n",
       "9     otro\n",
       "10    otro\n",
       "11    otro\n",
       "12    otro\n",
       "13    otro\n",
       "14    otro\n",
       "dtype: object"
      ]
     },
     "execution_count": 51,
     "metadata": {},
     "output_type": "execute_result"
    }
   ],
   "source": [
    "#8_Escribe un programa Pandas para calcular los conteos de frecuencia de cada valor único de una serie dada.\n",
    "#9_Escribe un programa Pandas para mostrar el valor más frecuente en una serie dada y reemplazar todo lo demás con el valor 'Otro'.\n",
    "\"\"\"Ejemplo de salida:\n",
    "Serie original:\n",
    "0     1\n",
    "1     7\n",
    "2     1\n",
    "3     6\n",
    "\n",
    "...\n",
    "\n",
    "\n",
    "37    0\n",
    "38    4\n",
    "39    8\n",
    "dtype: objeto\n",
    "Frecuencia de cada valor único de dicha serie.\n",
    "0    9\n",
    "2    7\n",
    "9    6\n",
    "....\n",
    "3    2\n",
    "4    1\n",
    "5    1\n",
    "tipo: int64\"\"\"\n",
    "\n",
    "nums=np.random.randint(1,5, [15])\n",
    "\n",
    "s4=pd.Series(nums)\n",
    "print(s4)\n",
    "conteo=s4.value_counts()\n",
    "print(conteo)\n",
    "print(conteo.index)\n",
    "print(conteo.index[0])\n",
    "mask = ~s4.isin([conteo.index[0]])\n",
    "s4[mask]='otro'\n",
    "s4\n",
    "\n"
   ]
  },
  {
   "cell_type": "code",
   "execution_count": 52,
   "metadata": {},
   "outputs": [
    {
     "data": {
      "text/plain": [
       "'Ejemplo de salida:  \\nSerie original:\\n0     1\\n1     2\\n2     3\\n3     4\\n4     5\\n5     6\\n6     7\\n7     8\\n8     9\\n9    10\\ntipo: int64\\n0     1\\n1     3\\n2     5\\n3     7\\n4    10\\ntipo: int64\\nPosiciones de los elementos de la serie 2 en la serie 1:\\n[0, 2, 4, 6, 9]'"
      ]
     },
     "execution_count": 52,
     "metadata": {},
     "output_type": "execute_result"
    }
   ],
   "source": [
    "#10_Escribe un programa Pandas para obtener las posiciones de los elementos de una serie dada en otra serie dada.\n",
    "\"\"\"Ejemplo de salida:  \n",
    "Serie original:\n",
    "0     1\n",
    "1     2\n",
    "2     3\n",
    "3     4\n",
    "4     5\n",
    "5     6\n",
    "6     7\n",
    "7     8\n",
    "8     9\n",
    "9    10\n",
    "tipo: int64\n",
    "0     1\n",
    "1     3\n",
    "2     5\n",
    "3     7\n",
    "4    10\n",
    "tipo: int64\n",
    "Posiciones de los elementos de la serie 2 en la serie 1:\n",
    "[0, 2, 4, 6, 9]\"\"\"\n",
    "\n"
   ]
  },
  {
   "cell_type": "code",
   "execution_count": 53,
   "metadata": {},
   "outputs": [
    {
     "data": {
      "text/plain": [
       "'Ejemplo de salida:\\nSerie original:\\n0       php\\n1    python\\n2      java\\n3        c#\\ndtype: objeto\\n\\nPrimer y último carácter de cada palabra en mayúscula:\\n0       PhP\\n1    PythoN\\n2      JavA\\n3        C#\\ndtype: objeto'"
      ]
     },
     "execution_count": 53,
     "metadata": {},
     "output_type": "execute_result"
    }
   ],
   "source": [
    "#11_Escribe un programa Pandas que convierta el primer y el último carácter de cada palabra a mayúsculas en cada palabra de una serie dada.\n",
    "\"\"\"Ejemplo de salida:\n",
    "Serie original:\n",
    "0       php\n",
    "1    python\n",
    "2      java\n",
    "3        c#\n",
    "dtype: objeto\n",
    "\n",
    "Primer y último carácter de cada palabra en mayúscula:\n",
    "0       PhP\n",
    "1    PythoN\n",
    "2      JavA\n",
    "3        C#\n",
    "dtype: objeto\"\"\""
   ]
  },
  {
   "cell_type": "code",
   "execution_count": null,
   "metadata": {},
   "outputs": [],
   "source": [
    "#12_Escribe un programa Pandas para calcular la diferencia de diferencias entre números consecutivos de una serie dada.\n",
    "\"\"\"Ejemplo de salida:\n",
    "Serie original:\n",
    "0     1\n",
    "1     3\n",
    "2     5\n",
    "3     8\n",
    "4    10\n",
    "5    11\n",
    "6    15\n",
    "tipo: int64\n",
    "\n",
    "Diferencia de diferencias entre números consecutivos de la serie:\n",
    "[nan, 2.0, 2.0, 3.0, 2.0, 1.0, 4.0]\n",
    "[nan, nan, 0.0, 1.0, -1.0, -1.0, 3.0]\"\"\""
   ]
  }
 ],
 "metadata": {
  "kernelspec": {
   "display_name": "Python 3.8 - AzureML",
   "language": "python",
   "name": "python38-azureml"
  },
  "language_info": {
   "codemirror_mode": {
    "name": "ipython",
    "version": 3
   },
   "file_extension": ".py",
   "mimetype": "text/x-python",
   "name": "python",
   "nbconvert_exporter": "python",
   "pygments_lexer": "ipython3",
   "version": "3.10.11"
  }
 },
 "nbformat": 4,
 "nbformat_minor": 2
}
