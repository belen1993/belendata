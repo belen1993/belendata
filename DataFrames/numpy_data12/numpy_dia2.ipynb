{
 "cells": [
  {
   "cell_type": "code",
   "execution_count": 2,
   "metadata": {},
   "outputs": [],
   "source": [
    "import numpy as np\n",
    "\n"
   ]
  },
  {
   "cell_type": "code",
   "execution_count": 4,
   "metadata": {},
   "outputs": [
    {
     "name": "stdout",
     "output_type": "stream",
     "text": [
      "[[[ 1  2]\n",
      "  [ 3  4]\n",
      "  [ 5  6]]\n",
      "\n",
      " [[ 7  8]\n",
      "  [ 9 10]\n",
      "  [11 12]]]\n"
     ]
    },
    {
     "data": {
      "text/plain": [
       "array([ 1,  2,  3,  4,  5,  6,  7,  8,  9, 10, 11, 12])"
      ]
     },
     "execution_count": 4,
     "metadata": {},
     "output_type": "execute_result"
    }
   ],
   "source": [
    "arr= np.array([1,2,3,4,5,6,7,8,9,10,11,12])\n",
    "arr2=arr.reshape([2,3,2])\n",
    "print(arr2)\n",
    "arro=arr2.reshape(12)\n",
    "arro\n"
   ]
  },
  {
   "cell_type": "code",
   "execution_count": 9,
   "metadata": {},
   "outputs": [
    {
     "name": "stdout",
     "output_type": "stream",
     "text": [
      "[[2 3 4]\n",
      " [6 7 8]]\n",
      "[[ 1  4  9]\n",
      " [16 25 36]]\n",
      "[[ 2  4  6]\n",
      " [ 8 10 12]]\n"
     ]
    }
   ],
   "source": [
    "a = np.array([[1,2,3],[4,5,6]])\n",
    "b = np.array([[1,1,1],[2,2,2]])\n",
    "\n",
    "print(a+b)\n",
    "print(a**2)\n",
    "print(a*2)"
   ]
  },
  {
   "cell_type": "code",
   "execution_count": 15,
   "metadata": {},
   "outputs": [
    {
     "name": "stdout",
     "output_type": "stream",
     "text": [
      "[[ 5  5]\n",
      " [14 14]]\n"
     ]
    }
   ],
   "source": [
    "a = np.array([[1,2],[4,5]])\n",
    "b = np.array([[1,1],[2,2]])\n",
    "\n",
    "print(a @ b) #Debe ser matriz cuadrada\n"
   ]
  },
  {
   "cell_type": "code",
   "execution_count": 17,
   "metadata": {},
   "outputs": [
    {
     "name": "stdout",
     "output_type": "stream",
     "text": [
      "6.782329983125268\n"
     ]
    }
   ],
   "source": [
    "a = np.array([[1,2],[4,5]])\n",
    "print(np.linalg.norm(a))"
   ]
  },
  {
   "cell_type": "code",
   "execution_count": 19,
   "metadata": {},
   "outputs": [
    {
     "data": {
      "text/plain": [
       "array([[1, 4],\n",
       "       [2, 5]])"
      ]
     },
     "execution_count": 19,
     "metadata": {},
     "output_type": "execute_result"
    }
   ],
   "source": [
    "a = np.array([[1,2],[4,5]])\n",
    "a.T #Trasponer"
   ]
  },
  {
   "cell_type": "code",
   "execution_count": 21,
   "metadata": {},
   "outputs": [
    {
     "data": {
      "text/plain": [
       "-2.9999999999999996"
      ]
     },
     "execution_count": 21,
     "metadata": {},
     "output_type": "execute_result"
    }
   ],
   "source": [
    "np.linalg.det(a)"
   ]
  },
  {
   "cell_type": "code",
   "execution_count": 24,
   "metadata": {},
   "outputs": [
    {
     "data": {
      "text/plain": [
       "array([-1.,  1.])"
      ]
     },
     "execution_count": 24,
     "metadata": {},
     "output_type": "execute_result"
    }
   ],
   "source": [
    "# x + 2y = 1\n",
    "# 3x + 5y = 2\n",
    "\n",
    "a = np.array([[1,2],[3,5]])  \n",
    "b = np.array([1,2])        \n",
    "\n",
    "np.linalg.solve(a, b)"
   ]
  },
  {
   "cell_type": "code",
   "execution_count": 26,
   "metadata": {},
   "outputs": [
    {
     "data": {
      "text/plain": [
       "array([-1.58333333,  1.41666667, -0.08333333])"
      ]
     },
     "execution_count": 26,
     "metadata": {},
     "output_type": "execute_result"
    }
   ],
   "source": [
    "#pudiendo añadir más dimensiones\n",
    "\n",
    "a = np.array([[1,2,3],[3,5,4],[2,6,4]])  \n",
    "b = np.array([1,2,5])        \n",
    "\n",
    "np.linalg.solve(a, b)"
   ]
  },
  {
   "cell_type": "code",
   "execution_count": 92,
   "metadata": {},
   "outputs": [
    {
     "name": "stdout",
     "output_type": "stream",
     "text": [
      "[0. 0. 0. 0. 0. 0.]\n",
      "[[0. 0.]\n",
      " [0. 0.]\n",
      " [0. 0.]]\n",
      "[[[0. 0. 0. 0.]\n",
      "  [0. 0. 0. 0.]\n",
      "  [0. 0. 0. 0.]]\n",
      "\n",
      " [[0. 0. 0. 0.]\n",
      "  [0. 0. 0. 0.]\n",
      "  [0. 0. 0. 0.]]]\n"
     ]
    }
   ],
   "source": [
    "#Ejercicio\n",
    "\n",
    "#Crea arrays de 1, 2 y 3 dimensiones. Las longitudes deben ser las siguientes, respectivamente: 6, 3 x 2 y 2 x 3 x 4\n",
    "\n",
    "#a = np.array([1,2,3,4,5,6])\n",
    "#b = np.array([[1,2,3],[4,5,6]])\n",
    "#c = np.array([[1,2,3],[2,3,4],[4,5,6],[6,7,8]])\n",
    "#print(a)\n",
    "#print(b)\n",
    "#print(c)\n",
    "\n",
    "print(np.zeros(6))\n",
    "print(np.zeros([3,2]))\n",
    "print(np.zeros([2,3,4]))"
   ]
  },
  {
   "cell_type": "code",
   "execution_count": 93,
   "metadata": {},
   "outputs": [
    {
     "name": "stdout",
     "output_type": "stream",
     "text": [
      "Primer cuartil (Q1): 2.25\n",
      "Segundo cuartil (Q2): 3.5\n",
      "Tercer cuartil (Q3): 4.75\n",
      "Media: 3.5\n",
      "Varianza: 2.9166666666666665\n"
     ]
    }
   ],
   "source": [
    "#Ejercicio 2.\n",
    "#Crea una función que te haga un resumen estadístico básico de un array \n",
    "# (cuartiles, mediana, media, varianza, etc) si tiene una dimensión. \n",
    "# Si tiene más de una, muestra un mensaje de alerta.\n",
    "\n",
    "a = np.array([1,2,3,4,5,6])\n",
    "\n",
    "def calcular_datos_estadisticos(a):\n",
    "    # Aplanar la matriz para calcular los cuartiles\n",
    "        datos = a.flatten()\n",
    "    \n",
    "    # Calcular los cuartiles\n",
    "        Q1 = np.percentile(datos, 25)\n",
    "        Q2 = np.percentile(datos, 50)  # También conocido como la mediana\n",
    "        Q3 = np.percentile(datos, 75)\n",
    "        media = np.mean(datos)\n",
    "        varianza = np.var(datos)\n",
    "        return Q1, Q2, Q3, media, varianza    \n",
    "\n",
    "if a.ndim == 1:\n",
    "    Q1, Q2, Q3, media, varianza = calcular_datos_estadisticos(a)\n",
    "    print(f\"Primer cuartil (Q1): {Q1}\")\n",
    "    print(f\"Segundo cuartil (Q2): {Q2}\")\n",
    "    print(f\"Tercer cuartil (Q3): {Q3}\")\n",
    "    print(f\"Media: {media}\")\n",
    "    print(f\"Varianza: {varianza}\")\n",
    "else:\n",
    "    print('La matriz es de más dimensiones')\n",
    "\n",
    " #solucion Ricardo\n",
    "  #def reumen_std(arr)\n",
    "     #if arr.ndim != 1:\n",
    "        #return 'debe ser 1 dimension' \n",
    "     \n",
    "     #resumen = {\n",
    "          #'media':np.mean(arr),\n",
    "          #'mediana':np.median(arr),\n",
    "          #'var':np.var(arr),\n",
    "          #'dev_std':np.std(arr),\n",
    "          #'q1':np.percentile(arr,25),\n",
    "          #'q2':np.percentile(arr,50),\n",
    "          #'q':np.percentile(arr,75,\n",
    "     #}\n",
    "    #return resumen\n"
   ]
  },
  {
   "cell_type": "code",
   "execution_count": null,
   "metadata": {},
   "outputs": [
    {
     "name": "stdout",
     "output_type": "stream",
     "text": [
      "[[ 3  6]\n",
      " [ 9 12]\n",
      " [15 18]\n",
      " [21 24]]\n"
     ]
    },
    {
     "ename": "IndexError",
     "evalue": "index 2 is out of bounds for axis 1 with size 2",
     "output_type": "error",
     "traceback": [
      "\u001b[0;31m---------------------------------------------------------------------------\u001b[0m",
      "\u001b[0;31mIndexError\u001b[0m                                Traceback (most recent call last)",
      "Cell \u001b[0;32mIn[89], line 12\u001b[0m\n\u001b[1;32m     10\u001b[0m arr[:,\u001b[38;5;241m0\u001b[39m,:]\u001b[38;5;66;03m#\u001b[39;00m\n\u001b[1;32m     11\u001b[0m \u001b[38;5;28mprint\u001b[39m (arr[:,:,\u001b[38;5;241m-\u001b[39m\u001b[38;5;241m1\u001b[39m])\n\u001b[0;32m---> 12\u001b[0m \u001b[38;5;28mprint\u001b[39m(\u001b[43marr\u001b[49m\u001b[43m[\u001b[49m\u001b[38;5;241;43m1\u001b[39;49m\u001b[43m,\u001b[49m\u001b[38;5;241;43m2\u001b[39;49m\u001b[43m,\u001b[49m\u001b[38;5;241;43m3\u001b[39;49m\u001b[43m]\u001b[49m)\n\u001b[1;32m     13\u001b[0m \u001b[38;5;28mprint\u001b[39m(arr[\u001b[38;5;241m2\u001b[39m,\u001b[38;5;241m1\u001b[39m,\u001b[38;5;241m0\u001b[39m])\n\u001b[1;32m     14\u001b[0m \u001b[38;5;28mprint\u001b[39m(arr[::\u001b[38;5;241m2\u001b[39m,:,:]) \u001b[38;5;66;03m#salta de dos en dos lo elementos\u001b[39;00m\n",
      "\u001b[0;31mIndexError\u001b[0m: index 2 is out of bounds for axis 1 with size 2"
     ]
    }
   ],
   "source": [
    "#Ejercicio 3.\n",
    "#Crea un array de 3 dimensiones parecido al que te doy a continuación, \n",
    "# y sin ejecutar las instrucciones siguientes, intenta razonar qué números devolverán (si funcionan, claro)\n",
    "\n",
    "arr = np.array([[[1, 2, 3],[4, 5, 6]],[[7,8,9],[10, 11, 12]],[[13, 14, 15],[16, 17, 18]],[[19, 20, 21],[22, 23, 24]]])\n",
    "arr # 4 x 2 x 3\n",
    "\n",
    "arr[-1,-1,-1] #empieza por atrás, último elemento, del último bloque Sol:24\n",
    "arr[0,1,:] #todos los elementos de la fila 4,5,6\n",
    "arr[:,0,:]#\n",
    "print (arr[:,:,-1])\n",
    "arr[1,2,3] #segunda posición, del tercero... index3, ERROR\n",
    "arr[2,1,0] #tercera posisción,segundo elemento posicií¡on 0 VALOR CONCRETO\n",
    "arr[::2,:,:] #salta de dos en dos lo elementos\n"
   ]
  },
  {
   "cell_type": "code",
   "execution_count": 90,
   "metadata": {},
   "outputs": [
    {
     "data": {
      "text/plain": [
       "array([[45, 51, 44],\n",
       "       [66, 75, 72],\n",
       "       [74, 68, 61]])"
      ]
     },
     "execution_count": 90,
     "metadata": {},
     "output_type": "execute_result"
    }
   ],
   "source": [
    "#Ejercicio 4.\n",
    "#Crea un array de 3 x 3 que contenga valores aleatorios entre el 0 y el 100. \n",
    "# Tendrás que usar el submódulo random. Una vez tengas el código, \n",
    "# transfórmalo a una función que te permita crear arrays de tamaño N x N\n",
    "\n",
    "from numpy import random\n",
    "arr1 = np.random.randint(0, 100, size=(3, 3))\n",
    "arr1\n",
    "\n",
    "#random.random([3,3])*100\n",
    "#def gen_arr_random(n):\n",
    "    #if n<=0:return 'n<0'\n",
    "    #return random.random([n,n])*100\n",
    "\n",
    "#def crear_array_aleatorio(N):\n",
    "    # Crear un array de tamaño NxN con valores aleatorios entre 0 y 100\n",
    "    #array = np.random.randint(0, 101, size=(N, N))\n",
    "    #return array "
   ]
  },
  {
   "cell_type": "code",
   "execution_count": 80,
   "metadata": {},
   "outputs": [
    {
     "name": "stdout",
     "output_type": "stream",
     "text": [
      "Array de 5x5 con bordes en 1 y el interior en 0:\n",
      "[[1 1 1 1 1]\n",
      " [1 0 0 0 1]\n",
      " [1 0 0 0 1]\n",
      " [1 0 0 0 1]\n",
      " [1 1 1 1 1]]\n"
     ]
    }
   ],
   "source": [
    "#Ejercicio 5.\n",
    "#Crea una función que dependa de un número. Si la función se ejecuta con el número 5, debe devolver el siguiente array:\n",
    "\n",
    "#1 1 1 1 1\n",
    "\n",
    "#1 0 0 0 1\n",
    "\n",
    "#1 0 0 0 1\n",
    "\n",
    "#1 0 0 0 1\n",
    "\n",
    "#1 1 1 1 1\n",
    "def crear_array_numero(n):\n",
    "    # Crear un array de tamaño nxn con todos los elementos en 1\n",
    "    array = np.ones((n, n), dtype=int)\n",
    "    \n",
    "    # Rellenar el interior del array con 0s, dejando los bordes en 1\n",
    "    array[1:-1, 1:-1] = 0\n",
    "    \n",
    "    return array\n",
    "\n",
    "# Crear un array de 5x5\n",
    "num_5 = crear_array_numero(5)\n",
    "\n",
    "print(\"Array de 5x5 con bordes en 1 y el interior en 0:\")\n",
    "print(num_5)"
   ]
  },
  {
   "cell_type": "code",
   "execution_count": 97,
   "metadata": {},
   "outputs": [
    {
     "name": "stdout",
     "output_type": "stream",
     "text": [
      "[ 1.  1.  1.  1. nan  1. nan  1.  1.]\n"
     ]
    }
   ],
   "source": [
    "#Ejercicio 6.\n",
    "#Crea una función que te detecte las dimensiones de un array, y te diga cuántos datos faltantes contiene. \n",
    "# Crea unos datos de ejemplo para comprobarlo.\n",
    "\n",
    "\n",
    "arr = np.ones([3,3])\n",
    "\n",
    "arr[1,1]=np.nan\n",
    "arr[2,0]=np.nan\n",
    "arr\n",
    "\n",
    "#np.isnan(arr)\n",
    "#print(arr.flatten()) para aplanar en una dimension\n",
    "\n",
    "def dims_and_nams(arr):\n",
    "    return {}\n"
   ]
  },
  {
   "cell_type": "code",
   "execution_count": 114,
   "metadata": {},
   "outputs": [
    {
     "name": "stdout",
     "output_type": "stream",
     "text": [
      "[[ 3  2  1  2  8]\n",
      " [ 6  7  9  5 27]\n",
      " [ 9  9 10  7 35]]\n"
     ]
    }
   ],
   "source": [
    "#Ejercicio 7.\n",
    "#Crea una función que te calcule los márgenes de una tabla, es decir, la suma por columnas, la suma por filas y el total. \n",
    "# Idealmente, añadelo a la tabla original\n",
    "\n",
    "arr = np.array( [[3,2,1,2],[6,7,9,5]] )\n",
    "\n",
    "#sumar filas\n",
    "#np.sum(arr,axis=0)\n",
    "#sumar columnas\n",
    "#np.sum(arr,axis=1)\n",
    "#total\n",
    "#np.sum(arr)\n",
    "\n",
    "def gen_tabla_margenes(arr):\n",
    "    sum_col=np.sum(arr,axis=0)\n",
    "    sum_fil=np.sum(arr, axis=1).reshape(-1,1)\n",
    "    total=np.sum(arr)\n",
    "\n",
    "    tabla_filas = np.hstack((arr, sum_fil))\n",
    "    ultima_fila=np.hstack([sum_col,total])\n",
    "    tabla_margenes=np.vstack([tabla_filas, ultima_fila])\n",
    "    return tabla_margenes\n",
    "print(tabla_margenes)"
   ]
  },
  {
   "cell_type": "code",
   "execution_count": 115,
   "metadata": {},
   "outputs": [
    {
     "ename": "NameError",
     "evalue": "name 'image' is not defined",
     "output_type": "error",
     "traceback": [
      "\u001b[0;31m---------------------------------------------------------------------------\u001b[0m",
      "\u001b[0;31mNameError\u001b[0m                                 Traceback (most recent call last)",
      "Cell \u001b[0;32mIn[115], line 7\u001b[0m\n\u001b[1;32m      1\u001b[0m \u001b[38;5;66;03m#Ejercicio 8.\u001b[39;00m\n\u001b[1;32m      2\u001b[0m \u001b[38;5;66;03m#Crea una función que dados dos arrays X e Y, \u001b[39;00m\n\u001b[1;32m      3\u001b[0m \u001b[38;5;66;03m# te calcule el coeficiente de correlación entre ellos usando la siguiente fórmula\u001b[39;00m\n\u001b[1;32m      4\u001b[0m \n\u001b[1;32m      5\u001b[0m \u001b[38;5;66;03m#  https://wikimedia.org/api/rest_v1/media/math/render/svg/2b9c2079a3ffc1aacd36201ea0a3fb2460dc226f\u001b[39;00m\n\u001b[0;32m----> 7\u001b[0m \u001b[43mimage\u001b[49m\u001b[38;5;241m.\u001b[39mpng\n\u001b[1;32m      9\u001b[0m x \u001b[38;5;241m=\u001b[39m np\u001b[38;5;241m.\u001b[39marray([\u001b[38;5;241m2\u001b[39m,\u001b[38;5;241m3\u001b[39m,\u001b[38;5;241m4\u001b[39m,\u001b[38;5;241m6\u001b[39m,\u001b[38;5;241m7\u001b[39m,\u001b[38;5;241m8\u001b[39m,\u001b[38;5;241m9\u001b[39m,\u001b[38;5;241m7\u001b[39m])\n\u001b[1;32m     10\u001b[0m y \u001b[38;5;241m=\u001b[39m np\u001b[38;5;241m.\u001b[39marray([\u001b[38;5;241m5\u001b[39m,\u001b[38;5;241m6\u001b[39m,\u001b[38;5;241m8\u001b[39m,\u001b[38;5;241m5\u001b[39m,\u001b[38;5;241m10\u001b[39m,\u001b[38;5;241m8\u001b[39m,\u001b[38;5;241m9\u001b[39m,\u001b[38;5;241m5\u001b[39m])\n",
      "\u001b[0;31mNameError\u001b[0m: name 'image' is not defined"
     ]
    }
   ],
   "source": [
    "#Ejercicio 8.\n",
    "#Crea una función que dados dos arrays X e Y, \n",
    "# te calcule el coeficiente de correlación entre ellos usando la siguiente fórmula\n",
    "\n",
    "#  https://wikimedia.org/api/rest_v1/media/math/render/svg/2b9c2079a3ffc1aacd36201ea0a3fb2460dc226f\n",
    "\n",
    "image.png\n",
    "\n",
    "x = np.array([2,3,4,6,7,8,9,7])\n",
    "y = np.array([5,6,8,5,10,8,9,5])"
   ]
  },
  {
   "cell_type": "code",
   "execution_count": 118,
   "metadata": {},
   "outputs": [],
   "source": [
    "x = np.array([2,3,4,6,7,8,9,7])\n",
    "y = np.array([5,6,8,5,10,8,9,5])\n",
    "#corr: -1,1\n",
    "media_x=np.mean(x)\n",
    "media_y=np.mean(y)"
   ]
  },
  {
   "cell_type": "code",
   "execution_count": 120,
   "metadata": {},
   "outputs": [
    {
     "data": {
      "text/plain": [
       "18.0"
      ]
     },
     "execution_count": 120,
     "metadata": {},
     "output_type": "execute_result"
    }
   ],
   "source": [
    "numerador=np.sum((x-media_x)*(y-media_y))\n",
    "numerador\n"
   ]
  },
  {
   "cell_type": "code",
   "execution_count": 123,
   "metadata": {},
   "outputs": [
    {
     "data": {
      "text/plain": [
       "34.8998567332303"
      ]
     },
     "execution_count": 123,
     "metadata": {},
     "output_type": "execute_result"
    }
   ],
   "source": [
    "denominador=np.sqrt(np.sum((x-media_x)**2))*np.sqrt(np.sum((y-media_y)**2))\n",
    "denominador\n"
   ]
  },
  {
   "cell_type": "code",
   "execution_count": 125,
   "metadata": {},
   "outputs": [
    {
     "data": {
      "text/plain": [
       "0.5157614295551275"
      ]
     },
     "execution_count": 125,
     "metadata": {},
     "output_type": "execute_result"
    }
   ],
   "source": [
    "corr=numerador/denominador\n",
    "corr"
   ]
  },
  {
   "cell_type": "code",
   "execution_count": 127,
   "metadata": {},
   "outputs": [],
   "source": [
    "def coef_corr(x,y):\n",
    "    if (x.ndim != 1 or y.ndim != 1) and (len(x) != len(y)):\n",
    "        return 'x e y no tienen la misma dimension'\n",
    "\n",
    "    media_x=np.mean(x)\n",
    "    media_y=np.mean(y)\n",
    "    numerador=np.sum((x-media_x)*(y-media_y))\n",
    "    denominador=np.sqrt(np.sum((x-media_x)**2))*np.sqrt(np.sum((y-media_y)**2))\n",
    "\n",
    "    if denominador == 0:\n",
    "        return 'Error denominador, 0'\n",
    "    corr=numerador/denominador\n",
    "    return corr"
   ]
  }
 ],
 "metadata": {
  "kernelspec": {
   "display_name": "Python 3.8 - AzureML",
   "language": "python",
   "name": "python38-azureml"
  },
  "language_info": {
   "codemirror_mode": {
    "name": "ipython",
    "version": 3
   },
   "file_extension": ".py",
   "mimetype": "text/x-python",
   "name": "python",
   "nbconvert_exporter": "python",
   "pygments_lexer": "ipython3",
   "version": "3.10.11"
  }
 },
 "nbformat": 4,
 "nbformat_minor": 2
}
