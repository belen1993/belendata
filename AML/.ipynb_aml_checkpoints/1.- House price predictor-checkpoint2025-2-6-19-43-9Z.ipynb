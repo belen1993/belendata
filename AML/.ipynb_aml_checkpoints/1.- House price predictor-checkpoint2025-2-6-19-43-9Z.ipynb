{
 "cells": [
  {
   "cell_type": "code",
   "execution_count": 13,
   "metadata": {},
   "outputs": [],
   "source": [
    "def estimate_house_sales_price(num_of_bedrooms, sqft, neighbourhood):\n",
    "    price = 0\n",
    "    #a little pinch of this\n",
    "    price += num_of_bedrooms * .841231851398213\n",
    "    #and a big pinch of that\n",
    "    price += sqft * 1231.1231231\n",
    "    #maybe a handful of this\n",
    "    price += neighbourhood * 2.3242341421\n",
    "    #and finally, just a little extra salt for good measure\n",
    "    price += 201.23432095\n",
    "    return price"
   ]
  },
  {
   "cell_type": "code",
   "execution_count": 14,
   "metadata": {},
   "outputs": [
    {
     "data": {
      "text/plain": [
       "2462452.3284506463"
      ]
     },
     "execution_count": 14,
     "metadata": {},
     "output_type": "execute_result"
    }
   ],
   "source": [
    "estimate_house_sales_price(3, 2000, 1)"
   ]
  },
  {
   "cell_type": "markdown",
   "metadata": {},
   "source": [
    "Un algoritmo podría tener un peso y comenzar a iterar con diferentes valores de peso. Y ver la dif entre el precio real y precio estimado. Repetir hast que tuvieramos unos pesos que minimicen el error entre los precios reales y precios estimados. \n",
    "Al simplificar los algoritmos lo que hacemos es crear una función. SI queremos encontrar el valor qu minimiza el error entre podemos hacerlo mediante ecuaciones, como lo hacen los algoritmos de regresión. \n",
    "Los determinantes de cualquer curva trazada en esa supeficie nos va a dar la pendiente, y vamos a poder saber si vamos hacia arriba o hacia abajo. \n",
    "F que permiten encontrar los costes mínimos. pODEMOS iterar entorno a esas funciones.\n",
    "\n",
    "Si tenemos que generar estos coeficientes una posibilidad es hacerlo de manera matemática. \n",
    "tenemos dif algoritmos que propones estrategias difer para solucionar un problemas. Tenmos algoritmos dif basados en una esrategoa genereal. \n",
    "Todas estas maneras, vamos a tener valores que determinen la form. Los datos que condicioann los algorimos deben de etar procesados. \n",
    "coger datos, dividir entre prueba y no prueba, comprobar el resultado y que los datos se corresponde con los de prueba (scoring), evaluación del modelo. "
   ]
  },
  {
   "cell_type": "markdown",
   "metadata": {},
   "source": [
    "Un mismo algoritmo puede servir para diferentes funciones: predecir o clasificar. \n",
    "Clasificar: casa barata o cara. \n",
    "Rostro de una persona, a la hora de reconocerla podemos hacerlo identificando rasgos. Si estoy ante un ojo. La base del patron es el mismo. Una clasificación me puede servir para predecir rostros. O una regresión para cosas más complejas. Como crear un poema basado en poemas de Lorca. Ver- predecirá que es verde. “Verde que te quiero verde”\n",
    "Las herramientas de ML  nos permitirán realizar tareas complejas con algoritmos que son relativamente sencillos y económicos. \n"
   ]
  },
  {
   "cell_type": "markdown",
   "metadata": {},
   "source": [
    "Contexto en el "
   ]
  }
 ],
 "metadata": {
  "kernelspec": {
   "display_name": "Python 3.8 - AzureML",
   "language": "python",
   "name": "python38-azureml"
  },
  "language_info": {
   "codemirror_mode": {
    "name": "ipython",
    "version": 3
   },
   "file_extension": ".py",
   "mimetype": "text/x-python",
   "name": "python",
   "nbconvert_exporter": "python",
   "pygments_lexer": "ipython3",
   "version": "3.10.11"
  }
 },
 "nbformat": 4,
 "nbformat_minor": 2
}
