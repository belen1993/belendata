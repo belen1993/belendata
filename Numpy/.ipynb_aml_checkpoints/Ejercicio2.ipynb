{
 "cells": [
  {
   "cell_type": "code",
   "execution_count": 78,
   "metadata": {},
   "outputs": [],
   "source": [
    "import numpy as np\n",
    "#DEFINIMOS LAS MATRICES de payments_data, orders_data y customer_data utilizando NUMPY. Estas matrices continen datos de pagos, pedidos y clientes.\n",
    "#datos ejemplo 'payments'\n",
    "payments_data = np.array([\n",
    "    [1001, 1001, 1001, '2025-01-01'],\n",
    "    [2, 102, 200, '2025-01-02'],\n",
    "    [3, 103, 80, '2025-01-03'],\n",
    "    [4, 104, 120, '2025-01-04'],\n",
    "    [5, 105, 110, '2025-01-05']\n",
    "])\n",
    "\n",
    "#datos ejemplo 'orders'\n",
    "orders_data = np.array([\n",
    "    [101, 1, 10], \n",
    "    [102, 3, 15], \n",
    "    [103, 1, 7], \n",
    "    [104, 3, 10],\n",
    "    [105, 3, 12],\n",
    "])\n",
    "\n",
    "#datos ejemplo 'customers'\n",
    "customers_data = np.array([\n",
    "    [1, 'John Doe', 1500], \n",
    "    [2, 'Jane Roe', 750], \n",
    "    [3, 'Jim Poe', 1250]\n",
    "])\n"
   ]
  },
  {
   "cell_type": "code",
   "execution_count": 74,
   "metadata": {},
   "outputs": [],
   "source": [
    "#1. FILTRAR LOS CLIENTES QUE HAYAN REALIZADO AL MENOS UNA COMPRA. \n",
    "#np.unique es una funcion de numpy que nos ayuda a obtener los valores únicos de un array. En este caso extraemos los valores unicos de la columna 1(num cliente) de orders_data.\n",
    "#Esto nos da una lista de todos los clientes que han realizado al menos un pedido. \n",
    "customer_numbers = np.unique(orders_data[:, 1])\n",
    "results = []\n",
    "\n"
   ]
  },
  {
   "cell_type": "code",
   "execution_count": 75,
   "metadata": {},
   "outputs": [],
   "source": [
    "# Paso 2: Calcular el número total de pedidos únicos y la cantidad media de ítems pedidos por cliente\n",
    "for customer in customer_numbers:\n",
    "    customer_orders = orders_data[orders_data[:, 1] == customer]\n",
    "    if customer_orders.size == 0:\n",
    "        continue\n",
    "\n",
    "    total_orders = len(np.unique(customer_orders[:, 0]))\n",
    "    average_items_ordered = np.mean(customer_orders[:, 2])\n",
    "    \n",
    "    # Usamos una lista en lugar de un array numpy para evitar FutureWarning\n",
    "    customer_data = [row for row in customers_data if row[0] == customer]\n",
    "    if len(customer_data) == 0:\n",
    "        continue\n",
    "\n",
    "    credit_limit = customer_data[0][2]\n",
    "\n",
    "    results.append([customer, total_orders, average_items_ordered, credit_limit])\n",
    "\n",
    "# Convertir results a array 2D\n",
    "results = np.array(results, dtype=object)\n",
    "\n"
   ]
  },
  {
   "cell_type": "code",
   "execution_count": 76,
   "metadata": {},
   "outputs": [],
   "source": [
    "# Paso 3: Separar clientes según su crédito \n",
    "high_credit_customers = [x for x in results if x[3] > 1000] \n",
    "low_credit_customers = [x for x in results if x[3] <= 1000]"
   ]
  },
  {
   "cell_type": "code",
   "execution_count": 77,
   "metadata": {},
   "outputs": [
    {
     "name": "stdout",
     "output_type": "stream",
     "text": [
      "\n",
      "Clientes con crédito superior a 1000:\n",
      "No hay clientes con crédito superior a 1000.\n",
      "\n",
      "Clientes con crédito inferior o igual a 1000:\n",
      "No hay clientes con crédito inferior o igual a 1000.\n"
     ]
    }
   ],
   "source": [
    "# Paso 4 y 5: Calcular media y varianza del crédito para ambos grupos de clientes\n",
    "high_credit_values = np.array([x[3] for x in high_credit_customers], dtype=float)\n",
    "low_credit_values = np.array([x[3] for x in low_credit_customers], dtype=float)\n",
    "\n",
    "print(\"\\nClientes con crédito superior a 1000:\")\n",
    "if high_credit_values.size > 0:\n",
    "    high_credit_mean = np.mean(high_credit_values)\n",
    "    high_credit_variance = np.var(high_credit_values)\n",
    "    print(high_credit_customers)\n",
    "    print(f\"Media del crédito: {high_credit_mean}\")\n",
    "    print(f\"Varianza del crédito: {high_credit_variance}\")\n",
    "else:\n",
    "    print(\"No hay clientes con crédito superior a 1000.\")\n",
    "\n",
    "print(\"\\nClientes con crédito inferior o igual a 1000:\")\n",
    "if low_credit_values.size > 0:\n",
    "    low_credit_mean = np.mean(low_credit_values)\n",
    "    low_credit_variance = np.var(low_credit_values)\n",
    "    print(low_credit_customers)\n",
    "    print(f\"Media del crédito: {low_credit_mean}\")\n",
    "    print(f\"Varianza del crédito: {low_credit_variance}\")\n",
    "else:\n",
    "    print(\"No hay clientes con crédito inferior o igual a 1000.\")\n"
   ]
  }
 ],
 "metadata": {
  "kernelspec": {
   "display_name": "Python 3.10 - SDK v2",
   "language": "python",
   "name": "python310-sdkv2"
  },
  "language_info": {
   "codemirror_mode": {
    "name": "ipython",
    "version": 3
   },
   "file_extension": ".py",
   "mimetype": "text/x-python",
   "name": "python",
   "nbconvert_exporter": "python",
   "pygments_lexer": "ipython3",
   "version": "3.10.14"
  }
 },
 "nbformat": 4,
 "nbformat_minor": 2
}
