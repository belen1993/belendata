{
 "cells": [
  {
   "cell_type": "code",
   "execution_count": 4,
   "metadata": {},
   "outputs": [],
   "source": [
    "#1. Crea una matriz 1D con valores que van del 0 al 9\n",
    "import numpy as np\n"
   ]
  },
  {
   "cell_type": "code",
   "execution_count": 30,
   "metadata": {},
   "outputs": [
    {
     "name": "stdout",
     "output_type": "stream",
     "text": [
      "[0 1 3 4 5 6 7 8 9]\n"
     ]
    }
   ],
   "source": [
    "array1 = np.array ([0, 1, 3, 4, 5, 6, 7, 8, 9])\n",
    "print(array1)"
   ]
  },
  {
   "cell_type": "code",
   "execution_count": 31,
   "metadata": {},
   "outputs": [
    {
     "name": "stdout",
     "output_type": "stream",
     "text": [
      "[ 2  4  6  8 10 12 14 16 18 20]\n",
      "[[ 2  4  6  8 10]\n",
      " [12 14 16 18 20]]\n"
     ]
    }
   ],
   "source": [
    "#2. Convierte una matriz 1D en una matriz 2D con dos filas. \n",
    "#Usamos la función reshape de NumPy para transformar la matriz 1D en una matriz bidimensional (2D) con dos filas. \n",
    "# El parámetro -1 le indica a NumPy que calcule automáticamente el número de columnas necesario para acomodar todos los elementos.\n",
    "\n",
    "#creamos una matriz 1D: 1 fila\n",
    "array_1d = np.array ([2, 4, 6, 8, 10, 12, 14, 16, 18, 20])\n",
    "print (array_1d)\n",
    "# convertimos la matriz 1D en una matriz 2D con 2 filas y 5 columnas\n",
    "array_2d = array_1d.reshape(2, -1)\n",
    "print (array_2d)"
   ]
  },
  {
   "cell_type": "code",
   "execution_count": 32,
   "metadata": {},
   "outputs": [
    {
     "name": "stdout",
     "output_type": "stream",
     "text": [
      "[[ 1  2  3]\n",
      " [ 4  5  6]\n",
      " [ 7  8  9]\n",
      " [10 11 12]\n",
      " [13 14 15]]\n",
      "[[1 2]\n",
      " [3 4]\n",
      " [5 6]]\n"
     ]
    }
   ],
   "source": [
    "#3. Multiplica una matriz de 5x3 por una matriz de 3x2\n",
    "\n",
    "array1= np.array([\n",
    "    [1, 2, 3], \n",
    "    [4, 5, 6], \n",
    "    [7, 8, 9], \n",
    "    [10, 11, 12],\n",
    "    [13, 14, 15]])\n",
    "\n",
    "\n",
    "array2 = np.array([\n",
    "    [1, 2], \n",
    "    [3, 4],\n",
    "    [5, 6]])\n",
    "\n",
    "print(array1)\n",
    "\n",
    "print(array2)\n"
   ]
  },
  {
   "cell_type": "code",
   "execution_count": 39,
   "metadata": {},
   "outputs": [
    {
     "name": "stdout",
     "output_type": "stream",
     "text": [
      "[[ 22  28]\n",
      " [ 49  64]\n",
      " [ 76 100]\n",
      " [103 136]\n",
      " [130 172]]\n"
     ]
    }
   ],
   "source": [
    "multiplicacion = np.dot (array1, array2)\n",
    "print(multiplicacion)"
   ]
  },
  {
   "cell_type": "code",
   "execution_count": 7,
   "metadata": {},
   "outputs": [
    {
     "name": "stdout",
     "output_type": "stream",
     "text": [
      "[1 3 5 7 9]\n"
     ]
    }
   ],
   "source": [
    "#4. Extrae todos los números impares de una matriz del 1 al 10.\n",
    "import numpy as np\n",
    "\n",
    "array = np.array([1, 2, 3, 4, 5, 6, 7, 8, 9, 10]) \n",
    "#Aquí estás creando un array de NumPy con valores del 1 al 10. np.array() es una función de NumPy que transforma una lista de Python en un array de NumPy.\n",
    "impares = array[array % 2 != 0] \n",
    "#operación de selección basada en una condición lógica. array % 2 != 0 crea un array booleano donde cada elemento es True si el elemento correspondiente en array es impar, y False si es par. \n",
    "#Usando este array booleano como índice, seleccionas solo los elementos que son impares y los asignas a la variable impares.\n",
    "print(impares)\n"
   ]
  },
  {
   "cell_type": "code",
   "execution_count": 8,
   "metadata": {},
   "outputs": [
    {
     "name": "stdout",
     "output_type": "stream",
     "text": [
      "[-1  2 -1  4 -1  6 -1  8 -1 10]\n"
     ]
    }
   ],
   "source": [
    "#5.  Reemplaza todos los números impares en una matriz del 1 al 10 con -1.\n",
    "import numpy as np\n",
    "array = np.array([1, 2, 3, 4, 5, 6, 7, 8, 9, 10])\n",
    "array[array%2 !=0]=-1\n",
    "print(array)"
   ]
  },
  {
   "cell_type": "code",
   "execution_count": null,
   "metadata": {},
   "outputs": [],
   "source": [
    "#6. Convierte una matriz 1D en una matriz booleana donde todos los valores positivos se convierten en Verdaderos."
   ]
  }
 ],
 "metadata": {
  "kernelspec": {
   "display_name": "Python 3.10 - SDK v2",
   "language": "python",
   "name": "python310-sdkv2"
  },
  "language_info": {
   "codemirror_mode": {
    "name": "ipython",
    "version": 3
   },
   "file_extension": ".py",
   "mimetype": "text/x-python",
   "name": "python",
   "nbconvert_exporter": "python",
   "pygments_lexer": "ipython3",
   "version": "3.10.14"
  }
 },
 "nbformat": 4,
 "nbformat_minor": 2
}
