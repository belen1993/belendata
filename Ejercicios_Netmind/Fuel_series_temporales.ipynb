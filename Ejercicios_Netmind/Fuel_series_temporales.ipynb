{
 "cells": [
  {
   "cell_type": "markdown",
   "id": "06a9824a",
   "metadata": {},
   "source": [
    "Separamos datos en train y test. \n",
    "steps 12 meses. \n",
    "Entrenar el forecaster recursivo y estoy utilizando regresión lineal utilizando 12 elementos como lags. Ajustamso el forecaster con el NPS. Con 12 meses hacia atras tendría que estar bien ya que las ondas de las gráficas tienen un ratio de 6 meses. \n",
    "\n",
    "Tenemos el forecaster que ya lo tenemos entrenado porque hemos hechoi un fit con los datos que nos interesa. \n",
    "\n",
    "Predicciones para 12 meses vista. \n",
    "Comparamos graficamente como se comportan estas predicciones con los datos reales. Ese dato se va a corresponder con la media del EMC. Obtenemos la varianza del GLPs. \n",
    "\n",
    "Esta capacidad de prediccion se puede mejorar cambiando el regresor. Utilizando un random forest y estandarizando( siempre en regresión lineal)"
   ]
  },
  {
   "cell_type": "code",
   "execution_count": 2,
   "id": "92c0d9a6",
   "metadata": {},
   "outputs": [
    {
     "ename": "ModuleNotFoundError",
     "evalue": "No module named 'forecasterautoreg'",
     "output_type": "error",
     "traceback": [
      "\u001b[0;31m---------------------------------------------------------------------------\u001b[0m",
      "\u001b[0;31mModuleNotFoundError\u001b[0m                       Traceback (most recent call last)",
      "Cell \u001b[0;32mIn[2], line 1\u001b[0m\n\u001b[0;32m----> 1\u001b[0m \u001b[38;5;28;01mimport\u001b[39;00m \u001b[38;5;21;01mforecasterautoreg\u001b[39;00m\n",
      "\u001b[0;31mModuleNotFoundError\u001b[0m: No module named 'forecasterautoreg'"
     ]
    }
   ],
   "source": [
    "import forecasterautoreg"
   ]
  },
  {
   "cell_type": "code",
   "execution_count": 1,
   "id": "5d9d153c",
   "metadata": {},
   "outputs": [
    {
     "ename": "ModuleNotFoundError",
     "evalue": "No module named 'skforecast'",
     "output_type": "error",
     "traceback": [
      "\u001b[0;31m---------------------------------------------------------------------------\u001b[0m",
      "\u001b[0;31mModuleNotFoundError\u001b[0m                       Traceback (most recent call last)",
      "Cell \u001b[0;32mIn[1], line 6\u001b[0m\n\u001b[1;32m      4\u001b[0m \u001b[38;5;28;01mfrom\u001b[39;00m \u001b[38;5;21;01msklearn\u001b[39;00m\u001b[38;5;21;01m.\u001b[39;00m\u001b[38;5;21;01mmodel_selection\u001b[39;00m \u001b[38;5;28;01mimport\u001b[39;00m TimeSeriesSplit\n\u001b[1;32m      5\u001b[0m \u001b[38;5;28;01mfrom\u001b[39;00m \u001b[38;5;21;01msklearn\u001b[39;00m\u001b[38;5;21;01m.\u001b[39;00m\u001b[38;5;21;01mmetrics\u001b[39;00m \u001b[38;5;28;01mimport\u001b[39;00m mean_squared_error\n\u001b[0;32m----> 6\u001b[0m \u001b[38;5;28;01mfrom\u001b[39;00m \u001b[38;5;21;01mskforecast\u001b[39;00m\u001b[38;5;21;01m.\u001b[39;00m\u001b[38;5;21;01mForecasterAutoreg\u001b[39;00m \u001b[38;5;28;01mimport\u001b[39;00m ForecasterAutoreg\n\u001b[1;32m      7\u001b[0m \u001b[38;5;28;01mimport\u001b[39;00m \u001b[38;5;21;01mnumpy\u001b[39;00m \u001b[38;5;28;01mas\u001b[39;00m \u001b[38;5;21;01mnp\u001b[39;00m\n\u001b[1;32m      8\u001b[0m \u001b[38;5;28;01mimport\u001b[39;00m \u001b[38;5;21;01mmatplotlib\u001b[39;00m\u001b[38;5;21;01m.\u001b[39;00m\u001b[38;5;21;01mpyplot\u001b[39;00m \u001b[38;5;28;01mas\u001b[39;00m \u001b[38;5;21;01mplt\u001b[39;00m\n",
      "\u001b[0;31mModuleNotFoundError\u001b[0m: No module named 'skforecast'"
     ]
    }
   ],
   "source": [
    "# 1. Librerías necesarias\n",
    "import pandas as pd\n",
    "from sklearn.linear_model import LinearRegression\n",
    "from sklearn.model_selection import TimeSeriesSplit\n",
    "from sklearn.metrics import mean_squared_error\n",
    "from skforecast.ForecasterAutoreg import ForecasterAutoreg\n",
    "import numpy as np\n",
    "import matplotlib.pyplot as plt\n",
    "\n",
    "# 2. Cargar datos\n",
    "df = pd.read_csv('consumos-combustibles-mensual.csv')\n",
    "df['Fecha'] = pd.to_datetime(df['Fecha'])\n",
    "df = df.set_index('Fecha')\n",
    "df = df.asfreq('MS')  # Frecuencia mensual\n",
    "\n",
    "# 3. Serie objetivo: GLPs\n",
    "y = df['GLPs']\n",
    "\n",
    "# 4. Definir forecaster\n",
    "forecaster = ForecasterAutoreg(\n",
    "    regressor=LinearRegression(),\n",
    "    lags=12\n",
    ")\n",
    "\n",
    "# 5. Validación cruzada temporal\n",
    "tscv = TimeSeriesSplit(n_splits=5)\n",
    "rmse_scores = []\n",
    "\n",
    "for train_index, test_index in tscv.split(y):\n",
    "    y_train, y_test = y.iloc[train_index], y.iloc[test_index]\n",
    "\n",
    "    forecaster.fit(y=y_train)\n",
    "    preds = forecaster.predict(steps=len(y_test))\n",
    "    \n",
    "    rmse = mean_squared_error(y_test, preds, squared=False)\n",
    "    rmse_scores.append(rmse)\n",
    "\n",
    "# 6. Resultados\n",
    "print(\"RMSE por fold:\", rmse_scores)\n",
    "print(\"RMSE promedio:\", np.mean(rmse_scores))\n"
   ]
  },
  {
   "cell_type": "code",
   "execution_count": null,
   "id": "ee615e35",
   "metadata": {},
   "outputs": [],
   "source": []
  }
 ],
 "metadata": {
  "kernelspec": {
   "display_name": "Python 3.10 - SDK v2",
   "language": "python",
   "name": "python310-sdkv2"
  },
  "language_info": {
   "codemirror_mode": {
    "name": "ipython",
    "version": 3
   },
   "file_extension": ".py",
   "mimetype": "text/x-python",
   "name": "python",
   "nbconvert_exporter": "python",
   "pygments_lexer": "ipython3",
   "version": "3.10.14"
  }
 },
 "nbformat": 4,
 "nbformat_minor": 5
}
