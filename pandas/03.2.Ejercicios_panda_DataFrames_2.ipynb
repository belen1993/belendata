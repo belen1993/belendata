{
 "cells": [
  {
   "cell_type": "markdown",
   "metadata": {},
   "source": [
    "# Ejercicios Pandas DataFrames 02"
   ]
  },
  {
   "cell_type": "markdown",
   "metadata": {},
   "source": [
    "Carga el dataset de vuelos \"flights14.csv\""
   ]
  },
  {
   "cell_type": "code",
   "execution_count": null,
   "metadata": {},
   "outputs": [],
   "source": [
    "import pandas as pd\n",
    "\n",
    "df_vuelos = pd.read_csv('flights14.csv')\n",
    "print(df_vuelos.head())"
   ]
  },
  {
   "cell_type": "markdown",
   "metadata": {},
   "source": [
    "1. escribe un programa Pandas para dividir los datos basados en origen u destino. Muestra cada grupo y el número de elementos por grupo"
   ]
  },
  {
   "cell_type": "code",
   "execution_count": null,
   "metadata": {},
   "outputs": [],
   "source": [
    "gdf = df.groupby(['origin', 'dest'])\n",
    "\n",
    "for g,vals in gdf.groups.items():\n",
    "    print(g, len(vals))"
   ]
  },
  {
   "cell_type": "code",
   "execution_count": null,
   "metadata": {},
   "outputs": [],
   "source": [
    "gdf.agg({'year':'count'})"
   ]
  },
  {
   "cell_type": "code",
   "execution_count": null,
   "metadata": {},
   "outputs": [],
   "source": [
    "import pandas as pd\n",
    "\n",
    "#cargar el dataset de vuelos\n",
    "df_vuelos = pd.read_csv('flights14.csv')\n",
    "\n",
    "## Dividir los datos por origen y mostrar cada grupo y el número de elementos por grupo\n",
    "grupos_por_origen = df_vuelos.groupby('origin')\n",
    "for origen, grupo in grupos_por_origen:\n",
    "    print(f\"Origen:{origen}\")\n",
    "    print(grupo)\n",
    "    print(f\"Numero de elementos en el grupo: {len(grupo)}\")\n",
    "    print(\"\\n\")\n",
    "## Dividir los datos por destino y mostrar cada grupo y el número de elementos por grupo\n",
    "grupos_por_destino = df_vuelos.groupby('dest')\n",
    "for destino, grupo in grupos_por_destino:\n",
    "    print(f\"Destino: {destino}\")\n",
    "    print(grupo)\n",
    "    print(f\"Número de elementos en el grupo: {len(grupo)}\")\n",
    "    print(\"\\n\")\n"
   ]
  },
  {
   "cell_type": "markdown",
   "metadata": {},
   "source": [
    "2. Escribe un programa Pandas para calcula la media, desviación estándar, min y max del retraso total de cada orgige-destino."
   ]
  },
  {
   "cell_type": "code",
   "execution_count": null,
   "metadata": {},
   "outputs": [],
   "source": [
    "import pandas as pd\n",
    "\n",
    "#cargar el dataset de vuelos\n",
    "df_vuelos = pd.read_csv('flights14.csv')\n",
    "\n",
    "#calcular las estadísticas del retraso total (total_delay)para cada origen-destino\n",
    "estadisticas_retraso = df_vuelos.group"
   ]
  },
  {
   "cell_type": "markdown",
   "metadata": {},
   "source": [
    "3. Escribe un programa Pandas para dividir un conjunto de datos y agruparlos por dos columnas, y luego ordenar los resultados agregados dentro de los grupos.\n",
    "\n",
    "En el siguiente conjunto de datos de vuelos, agrupar \"date\" (fecha completa) y \"carrier\". Luego ordenar la suma de 'total_delay' dentro de los grupos."
   ]
  },
  {
   "cell_type": "code",
   "execution_count": null,
   "metadata": {},
   "outputs": [],
   "source": [
    "df['date']=pd.to_datetime([['year', 'month', 'day']])\n",
    "df\n",
    "\n",
    "#agrupar por fecha y carrier:\n",
    "gfg = df.groupby(['date', 'carrier']).agg((\"total_delay\":sum))\n",
    "#ordenarlos\n",
    "gdf[\"total_delay\"].groupby(level=0, group_keys=False).nlargerst()"
   ]
  },
  {
   "cell_type": "markdown",
   "metadata": {},
   "source": [
    "4. Escribe un programa Pandas para contar el múmero de retrasos de salida por mes y origen."
   ]
  },
  {
   "cell_type": "code",
   "execution_count": null,
   "metadata": {},
   "outputs": [],
   "source": []
  },
  {
   "cell_type": "markdown",
   "metadata": {},
   "source": [
    "5. Escribe un programa Pandas para cargar los datos de productos y ventas del archivo FoodMarket.xlsx y mézclalos en un solo dataframe."
   ]
  },
  {
   "cell_type": "code",
   "execution_count": null,
   "metadata": {},
   "outputs": [],
   "source": []
  },
  {
   "cell_type": "markdown",
   "metadata": {},
   "source": [
    "6. Escribe un programa Pandas para extraer información sobre el número de compras totales y el monto total por nombre de producto y año. "
   ]
  },
  {
   "cell_type": "code",
   "execution_count": null,
   "metadata": {},
   "outputs": [],
   "source": []
  }
 ],
 "metadata": {
  "kernelspec": {
   "display_name": "Python 3.8 - AzureML",
   "language": "python",
   "name": "python38-azureml"
  },
  "language_info": {
   "codemirror_mode": {
    "name": "ipython",
    "version": 3
   },
   "file_extension": ".py",
   "mimetype": "text/x-python",
   "name": "python",
   "nbconvert_exporter": "python",
   "pygments_lexer": "ipython3",
   "version": "3.10.11"
  }
 },
 "nbformat": 4,
 "nbformat_minor": 2
}
