{
 "cells": [
  {
   "cell_type": "code",
   "execution_count": null,
   "id": "674faadc-a65f-44cf-be6b-136c72371e3e",
   "metadata": {},
   "outputs": [],
   "source": [
    "#Seabon utiliza el plot de matplotlib para graficar.\n",
    "#El aspecto estético de los gráficos en Seabon es más mono. Permite utilizar el código del color que elijamos. \n",
    "#Seabon nos permite superponer varios gráficos\n",
    "#melt reduce una tabla larga y la condensa. \n",
    "#el diagrama de barras hay que trabajarlo prebiamente. Se puede utilizar a su vez matlobtlib para hacer algunos ajustes. \n",
    "#Grafico categorico, en funcion de la categoría elegida me permite crear un gráfico"
   ]
  },
  {
   "cell_type": "code",
   "execution_count": null,
   "id": "7fc83f14-65bb-48c3-bebc-8f541897ee64",
   "metadata": {},
   "outputs": [],
   "source": [
    "#para exportar estos graficos tenemos Bokeh que permite poder generar una versión Javascript de los gráficos. "
   ]
  }
 ],
 "metadata": {
  "kernelspec": {
   "display_name": "Python 3.8 - AzureML",
   "language": "python",
   "name": "python38-azureml"
  },
  "language_info": {
   "codemirror_mode": {
    "name": "ipython",
    "version": 3
   },
   "file_extension": ".py",
   "mimetype": "text/x-python",
   "name": "python",
   "nbconvert_exporter": "python",
   "pygments_lexer": "ipython3",
   "version": "3.10.11"
  }
 },
 "nbformat": 4,
 "nbformat_minor": 5
}
