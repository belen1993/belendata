{
 "cells": [
  {
   "cell_type": "markdown",
   "metadata": {},
   "source": [
    "Examinar y analizar estadísticamente el contenido de los datos. \n",
    "Vamos a querer entender detalladamente su estructura, contenido (calores por cada columna) y calidad (errores). Todo esto nos va a permitir entender los datos, qué nos dicen. Podemos hablar de 3 grandes grupos de perfiles de datos:\n",
    "\n",
    "-Columna única: vamos a ver aspectos como su cardinalidad, patrones, distribución de valor y clasificación de dominios. \n",
    "-Relación de columnas: correlación, agrupación de columnas para poder entender su relación, resumenes y croquis.\n",
    "-Dependecias..\n",
    "\n",
    "Antes de perfilar, tendremnos que limpiar. \n",
    "Para ello, utilizaremos Pandas y YData Profiling\n"
   ]
  },
  {
   "cell_type": "code",
   "execution_count": null,
   "metadata": {},
   "outputs": [],
   "source": [
    "df = pd.read_csv('housing\\ \\(1\\).csv')"
   ]
  },
  {
   "cell_type": "code",
   "execution_count": null,
   "metadata": {},
   "outputs": [],
   "source": [
    "df.info()"
   ]
  },
  {
   "cell_type": "code",
   "execution_count": null,
   "metadata": {},
   "outputs": [],
   "source": [
    "#Mostrar heads y tail. Para ver todos los datos e identificar algún tipo de error.\n",
    "\n",
    "df.head()\n",
    "df.tail()"
   ]
  },
  {
   "cell_type": "code",
   "execution_count": null,
   "metadata": {},
   "outputs": [],
   "source": [
    "#es bueno también coger muestras\n",
    "df.sample()"
   ]
  },
  {
   "cell_type": "code",
   "execution_count": null,
   "metadata": {},
   "outputs": [],
   "source": [
    "#Ya nos lo dice el info pero es más sencillo así\n",
    "df.shape()"
   ]
  },
  {
   "cell_type": "code",
   "execution_count": null,
   "metadata": {},
   "outputs": [],
   "source": [
    "df.dtypes()"
   ]
  },
  {
   "cell_type": "code",
   "execution_count": null,
   "metadata": {},
   "outputs": [],
   "source": [
    "df.describe()"
   ]
  },
  {
   "cell_type": "code",
   "execution_count": null,
   "metadata": {},
   "outputs": [],
   "source": [
    "#describe de elementos categóricos\n",
    "df.describe(include='object')\n"
   ]
  },
  {
   "cell_type": "code",
   "execution_count": null,
   "metadata": {},
   "outputs": [],
   "source": [
    "#Una vez que ya tenemos esta visión general de las columnas, nos puede interesar examinar más detalladamente algunas columnas\n",
    "#¿Como se relaciona la proximidad al mar con la población, es decir la\n",
    "#distrubución de la población en función a la proximidad del mar. \n",
    "\n",
    "df_group = df.groupby('ocean_proximity')['population'].mean()\n",
    "df_group\n",
    "\n",
    "#median income por cada uno de los sectores\n",
    "\n",
    "df_group = df.groupby('ocean_proximity')['median_income'].mean()\n",
    "df_group\n"
   ]
  },
  {
   "cell_type": "code",
   "execution_count": null,
   "metadata": {},
   "outputs": [],
   "source": [
    "#saber los valores mayores o menores dentro de nuestro conjunto de datos\n",
    "#Primero ordenaremos los valores.\n",
    "\n",
    "df.sort_values(by='median_income', ascending=False)[[\n",
    "    'total_rooms', 'total_bedrooms', 'population', 'households']].head()\n",
    "\n",
    "#haremos esto por cada conjunto de columnos que están relacionadas"
   ]
  },
  {
   "cell_type": "code",
   "execution_count": null,
   "metadata": {},
   "outputs": [],
   "source": [
    "#para ver las frecuencias de los elementos\n",
    "df['ocean_proximity'].value_counts()\n"
   ]
  },
  {
   "cell_type": "code",
   "execution_count": null,
   "metadata": {},
   "outputs": [],
   "source": [
    "#nos da las frecuencias de algunos valores.\n",
    "df['housing_median_age'].value_counts()"
   ]
  },
  {
   "cell_type": "code",
   "execution_count": null,
   "metadata": {},
   "outputs": [],
   "source": [
    "#observar las relaciones entre las diferentes columnas. \n",
    "# Aplicaremos el método de correlación, tendencia de una variable respecto a otras.\n",
    "\n",
    "df.corr(method='pearson')"
   ]
  },
  {
   "cell_type": "code",
   "execution_count": null,
   "metadata": {},
   "outputs": [],
   "source": [
    "#podemos intentar observar lo que sería el sesgo. \n",
    "#me va a dar información sobre la simetría de la relación\n",
    "df.skew()\n"
   ]
  },
  {
   "cell_type": "code",
   "execution_count": null,
   "metadata": {},
   "outputs": [],
   "source": [
    "#también se corresponde a valores de sesgo\n",
    "df.kurt\n"
   ]
  },
  {
   "cell_type": "code",
   "execution_count": null,
   "metadata": {},
   "outputs": [],
   "source": [
    "#generación o categorización de los datos. La inf en variables continuas es muy amplia. Puede ser interesante generar\n",
    "#categoría que nos ayuden mejor a entender los datos\n",
    "#generar rangos con el metodo cut.\n",
    "cat_poblacion = ['muy pequeño', 'pequeño', 'media', 'grande', 'muy grande']\n",
    "df['cat_poblacion'] = pd.qcut(df['population'], 5, cat_poblacion)\n",
    "\n",
    "df['cat_poblacion'].value_counts()\n"
   ]
  }
 ],
 "metadata": {
  "kernelspec": {
   "display_name": "Python 3.8 - Pytorch and Tensorflow",
   "language": "python",
   "name": "python38-azureml-pt-tf"
  },
  "language_info": {
   "codemirror_mode": {
    "name": "ipython",
    "version": 3
   },
   "file_extension": ".py",
   "mimetype": "text/x-python",
   "name": "python",
   "nbconvert_exporter": "python",
   "pygments_lexer": "ipython3",
   "version": "3.10.14"
  }
 },
 "nbformat": 4,
 "nbformat_minor": 2
}
