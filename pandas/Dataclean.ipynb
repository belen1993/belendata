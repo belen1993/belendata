{
 "cells": [
  {
   "cell_type": "code",
   "execution_count": 30,
   "metadata": {},
   "outputs": [
    {
     "name": "stdout",
     "output_type": "stream",
     "text": [
      "Dataframe final\n",
      "Dataframe with Datetime column\n",
      "                Datetime PDB:G1_BTJ1_1 PDB:G1_BTJ1_2 PDB:S1_TT_G1D  \\\n",
      "0    2024-01-01 12:00:00      92,60813      105,1387     -17,77778   \n",
      "1    2024-01-01 12:00:10      92,60822      105,1302     -17,77778   \n",
      "2    2024-01-01 12:00:20      92,60831      105,1217     -17,77778   \n",
      "3    2024-01-01 12:00:30      92,60841      105,1132     -17,77778   \n",
      "4    2024-01-01 12:00:40       92,6085      105,1046     -17,77778   \n",
      "...                  ...           ...           ...           ...   \n",
      "1001 2024-01-01 14:46:50      91,84785       105,089     -17,77778   \n",
      "1002 2024-01-01 14:47:00      91,84397      105,0865     -17,77778   \n",
      "1003 2024-01-01 14:47:10       91,8401       105,084     -17,77778   \n",
      "1004 2024-01-01 14:47:20        91,846      105,0816     -17,77778   \n",
      "1005 2024-01-01 14:47:30      91,85744      105,0791     -17,77778   \n",
      "\n",
      "     PDB:G1_BTJ2_1 PDB:G1_BTJ2_2 PDB:S1_TT_G2D PDB:U1_GT Speed_Kph.S1  \n",
      "0         89,33154      94,15084     -17,77778    NoData          nan  \n",
      "1         89,35624      94,14846     -17,77778    NoData          nan  \n",
      "2         89,38093      94,14608     -17,77778    NoData          nan  \n",
      "3         89,40562       94,1437     -17,77778    NoData          nan  \n",
      "4         89,43031      94,14132     -17,77778    NoData          nan  \n",
      "...            ...           ...           ...       ...          ...  \n",
      "1001      89,10191      94,02914     -17,77778    NoData          nan  \n",
      "1002       89,1215      94,02852     -17,77778    NoData          nan  \n",
      "1003      89,14109      94,02789     -17,77778    NoData          nan  \n",
      "1004      89,16068      94,02728     -17,77778    NoData          nan  \n",
      "1005      89,18027      94,02665     -17,77778    NoData          nan  \n",
      "\n",
      "[1006 rows x 9 columns]\n"
     ]
    },
    {
     "name": "stderr",
     "output_type": "stream",
     "text": [
      "C:\\Users\\Ferpi\\AppData\\Local\\Temp\\ipykernel_14292\\2828947006.py:8: FutureWarning: DataFrame.applymap has been deprecated. Use DataFrame.map instead.\n",
      "  df = df.applymap(lambda x: x.replace('.', ','))\n"
     ]
    }
   ],
   "source": [
    "import pandas as pd\n",
    "\n",
    "# Read the CSV file\n",
    "df = pd.read_csv('prueba_datos_oveja.csv', delimiter=' ')\n",
    "# Set all columns to string type\n",
    "df = df.astype(str)\n",
    "# Replace all \".\" with \",\" in the dataframe\n",
    "df = df.applymap(lambda x: x.replace('.', ','))\n",
    "# Display the dataframe\n",
    "#print(df)\n",
    "#print(df.columns)\n",
    "# Drop the 'to_erase' column\n",
    "df = df.drop(columns=['to_erase'])\n",
    "print(\"Dataframe final\")\n",
    "#print(df)\n",
    "# Combine Date and Time columns into a new Datetime column\n",
    "df['Datetime'] = pd.to_datetime(df['Date'] + ' ' + df['Time'], format='%d/%m/%Y %H:%M:%S')\n",
    "\n",
    "# Drop the original Date and Time columns\n",
    "df = df.drop(columns=['Date', 'Time'])\n",
    "\n",
    "# Reorder columns to place Datetime first\n",
    "cols = ['Datetime'] + [col for col in df if col != 'Datetime']\n",
    "df = df[cols]\n",
    "\n",
    "print(\"Dataframe with Datetime column\")\n",
    "print(df)\n",
    "\n",
    "# Export the dataframe as a CSV file separated by tabs\n",
    "df.to_csv('output_data_oveja.csv', sep='\\t', index=False)"
   ]
  }
 ],
 "metadata": {
  "kernelspec": {
   "display_name": "Python 3",
   "language": "python",
   "name": "python3"
  },
  "language_info": {
   "codemirror_mode": {
    "name": "ipython",
    "version": 3
   },
   "file_extension": ".py",
   "mimetype": "text/x-python",
   "name": "python",
   "nbconvert_exporter": "python",
   "pygments_lexer": "ipython3",
   "version": "3.11.9"
  }
 },
 "nbformat": 4,
 "nbformat_minor": 2
}
