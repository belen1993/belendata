{
 "cells": [
  {
   "cell_type": "code",
   "execution_count": null,
   "id": "38ff6a56-0580-4007-be61-cfd50cfe4b7c",
   "metadata": {},
   "outputs": [],
   "source": [
    "# Para integrar un gran volumen de datos es necesario el procesamiento de datos()\n",
    "#La integración de datos entra dentro de la ingeniería de datos. \n",
    "#El principal reto con el que nos encontramos son las diferentes fuentes de las que provienen los datos y el formato de los mismos. \n",
    "#la herramienta que vamos a utilizar es e proceso que se encarga de igernier datos, trandormarlos y cargarlos en un entorno para próximas etapas\n",
    "#Hay diferentes patrones: APIS, ETL, ELT(ingieren los datos, se almacena y se transforman antes de pasar a próximas etapas), Messaging Queue (datos que están continuamente generándose\n",
    "#unido con el tratamiento de datos con sistemas como Spark, Servicios en Cloud, Reverse ETL (ETL + bloque de transformación). \n",
    "\n",
    "#Herramientas que aparecen dentro de estos entornos: Spark, Airflow, Kafka, Tableau, PowerBi, Hive, Snowflake. \n",
    "#Cloud: Databricks, AML.\n",
    "#Un ETL es un mecanismo que absorve información de un conjunto de fuentes. Lo extrae, limpia y lo une. Por ultimo almacena el resultado en un archivo o base de datos para entrar en la siguiente etapa. \n",
    "#Etapa de tranformación y almacenarlo en un csv. "
   ]
  }
 ],
 "metadata": {
  "kernelspec": {
   "display_name": "Python 3.8 - AzureML",
   "language": "python",
   "name": "python38-azureml"
  },
  "language_info": {
   "codemirror_mode": {
    "name": "ipython",
    "version": 3
   },
   "file_extension": ".py",
   "mimetype": "text/x-python",
   "name": "python",
   "nbconvert_exporter": "python",
   "pygments_lexer": "ipython3",
   "version": "3.10.11"
  }
 },
 "nbformat": 4,
 "nbformat_minor": 5
}
