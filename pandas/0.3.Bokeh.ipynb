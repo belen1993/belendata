{
 "cells": [
  {
   "cell_type": "code",
   "execution_count": null,
   "id": "dec98341-56f7-4934-96dd-04c43fca832b",
   "metadata": {},
   "outputs": [],
   "source": [
    "#Graficos interactivos en un entorno web ya que permite poder generar una versión Javascript de los gráficos. \n",
    "#Callback: cuando defino un evento el call balck se invoca cuando tenemos ese evento. Cuando genero una accion el callback se invoca para ejecutar la accion.\n",
    "#Una vez que he configurado mis gráficos, si nuestro foco está en los datos, todo esto no lo vamos a necesitar. Bastaría con Seabo. Sin embargo, si lo que nos\n",
    "#piden es que asociemos funcionalidades con la interección de los gráficos utilizaremos Bokeh. \n",
    "#podemos generar interfaces integrables. Tambien tiene la funcion emdebido generar una v emdebible, no una pg completa sino un javacript que lo puedo meter en cualquier pg html.\n",
    "#seabon opción más sencilla y con gráficos bastante elaborados"
   ]
  },
  {
   "cell_type": "code",
   "execution_count": 2,
   "id": "4d6501c4-cddb-4713-8fb6-94b777aabf72",
   "metadata": {
    "tags": []
   },
   "outputs": [
    {
     "name": "stdout",
     "output_type": "stream",
     "text": [
      "Requirement already satisfied: bokeh in /anaconda/envs/azureml_py38/lib/python3.10/site-packages (2.4.3)\n",
      "Requirement already satisfied: numpy>=1.11.3 in /anaconda/envs/azureml_py38/lib/python3.10/site-packages (from bokeh) (1.23.5)\n",
      "Requirement already satisfied: PyYAML>=3.10 in /anaconda/envs/azureml_py38/lib/python3.10/site-packages (from bokeh) (6.0.1)\n",
      "Requirement already satisfied: tornado>=5.1 in /anaconda/envs/azureml_py38/lib/python3.10/site-packages (from bokeh) (6.4.1)\n",
      "Requirement already satisfied: Jinja2>=2.9 in /anaconda/envs/azureml_py38/lib/python3.10/site-packages (from bokeh) (3.1.4)\n",
      "Requirement already satisfied: pillow>=7.1.0 in /anaconda/envs/azureml_py38/lib/python3.10/site-packages (from bokeh) (9.2.0)\n",
      "Requirement already satisfied: typing-extensions>=3.10.0 in /anaconda/envs/azureml_py38/lib/python3.10/site-packages (from bokeh) (4.12.2)\n",
      "Requirement already satisfied: packaging>=16.8 in /anaconda/envs/azureml_py38/lib/python3.10/site-packages (from bokeh) (24.1)\n",
      "Requirement already satisfied: MarkupSafe>=2.0 in /anaconda/envs/azureml_py38/lib/python3.10/site-packages (from Jinja2>=2.9->bokeh) (2.1.5)\n",
      "Note: you may need to restart the kernel to use updated packages.\n"
     ]
    }
   ],
   "source": [
    "pip install bokeh"
   ]
  },
  {
   "cell_type": "code",
   "execution_count": null,
   "id": "a21225ad-acdc-4833-a65e-cc27b3cc8187",
   "metadata": {},
   "outputs": [],
   "source": [
    "from bokeh.plotting import figure show"
   ]
  }
 ],
 "metadata": {
  "kernelspec": {
   "display_name": "Python 3.8 - AzureML",
   "language": "python",
   "name": "python38-azureml"
  },
  "language_info": {
   "codemirror_mode": {
    "name": "ipython",
    "version": 3
   },
   "file_extension": ".py",
   "mimetype": "text/x-python",
   "name": "python",
   "nbconvert_exporter": "python",
   "pygments_lexer": "ipython3",
   "version": "3.10.11"
  }
 },
 "nbformat": 4,
 "nbformat_minor": 5
}
