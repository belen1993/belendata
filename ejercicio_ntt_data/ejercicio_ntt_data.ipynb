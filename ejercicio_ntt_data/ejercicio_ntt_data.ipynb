{
 "cells": [
  {
   "cell_type": "markdown",
   "metadata": {},
   "source": [
    "### BLOQUE 1"
   ]
  },
  {
   "cell_type": "code",
   "execution_count": 2,
   "metadata": {},
   "outputs": [
    {
     "name": "stdout",
     "output_type": "stream",
     "text": [
      "Directorio actual: /mnt/batch/tasks/shared/LS_root/mounts/clusters/belen-olmos/code/Users/belenolmosvalverde24/belendata/ejercicio_ntt_data\n"
     ]
    }
   ],
   "source": [
    "#1.- Mostrar el directorio de trabajo.\n",
    "import os  \n",
    "print(\"Directorio actual:\", os.getcwd())  \n",
    "os.chdir(\"/home/azureuser/cloudfiles/code/Users/belenolmosvalverde24/belendata/ejercicio_ntt_data\")\n"
   ]
  },
  {
   "cell_type": "code",
   "execution_count": 3,
   "metadata": {},
   "outputs": [
    {
     "name": "stdout",
     "output_type": "stream",
     "text": [
      "pandas está instalado.\n",
      "seaborn está instalado.\n",
      "Requirement already satisfied: xlrd in /anaconda/envs/azureml_py38/lib/python3.10/site-packages (2.0.1)\n",
      "xlrd está instalado.\n"
     ]
    }
   ],
   "source": [
    "#2.- Cargar librerías y paquetes\n",
    "import pandas as pd\n",
    "import importlib.util\n",
    "import subprocess\n",
    "\n",
    "# Verificamos si un paquete está instalado y, si no, instalarlo\n",
    "def check_install(package):\n",
    "    if importlib.util.find_spec(package) is None:  # Verifica si la librería está instalada\n",
    "        subprocess.run([\"pip\", \"install\", package])  # Si no está, la instala\n",
    "    print(f\"{package} está instalado.\")  # Mensaje de confirmación\n",
    "\n",
    "# Verificamos e instalamos los paquetes si es necesario\n",
    "check_install(\"pandas\")\n",
    "check_install(\"seaborn\")\n",
    "check_install(\"xlrd\")\n"
   ]
  },
  {
   "cell_type": "code",
   "execution_count": 4,
   "metadata": {},
   "outputs": [],
   "source": [
    "#3.- Cargamos el archivo Wilcox1.py\n",
    "import Wilcox1"
   ]
  },
  {
   "cell_type": "code",
   "execution_count": 5,
   "metadata": {},
   "outputs": [],
   "source": [
    "#4.- Semilla: como algunos calculos son aleatorios, fijamos la semilla para que los resultados sean reproducibles.\n",
    "\n",
    "import numpy as np  # Para cálculos matemáticos\n",
    "import random  # Para números aleatorios\n",
    "\n",
    "np.random.seed(42)  # Fija una semilla en NumPy\n",
    "random.seed(42)  # Fija una semilla en la librería random"
   ]
  },
  {
   "cell_type": "code",
   "execution_count": 6,
   "metadata": {},
   "outputs": [],
   "source": [
    "#5.- Creación de un entorno virtual en el terminal\n",
    "\n",
    "#sh\n",
    "#python -m venv venv"
   ]
  },
  {
   "cell_type": "markdown",
   "metadata": {},
   "source": [
    "### BLOQUE 2"
   ]
  },
  {
   "cell_type": "code",
   "execution_count": 7,
   "metadata": {},
   "outputs": [
    {
     "name": "stdout",
     "output_type": "stream",
     "text": [
      "  Unnamed: 0  ID var_1 var_2 var_3 var_4 var_5 var_6 var_7 var_8  ... var_362  \\\n",
      "0          2   3     2    34   0.0   0.0   0.0   0.0   0.0   0.0  ...     0.0   \n",
      "1          7  14     2    27   0.0   0.0   0.0   0.0   0.0   0.0  ...     0.0   \n",
      "2          8  18     2    26   0.0   0.0   0.0   0.0   0.0   0.0  ...     0.0   \n",
      "3         10  23     2    25   0.0   0.0   0.0   0.0   0.0   0.0  ...     0.0   \n",
      "4         12  26     2    26   0.0   0.0   0.0   0.0   0.0   0.0  ...     0.0   \n",
      "\n",
      "  var_363 var_364 var_365 var_366 var_367 var_368    var_369  \\\n",
      "0     0.0     0.0     0.0     0.0     0.0     0.0   49278.03   \n",
      "1     0.0     0.0     0.0     0.0     0.0     0.0   94956.66   \n",
      "2     0.0     0.0     0.0     0.0     0.0     0.0  251638.95   \n",
      "3     0.0     0.0     0.0     0.0     0.0     0.0  356463.06   \n",
      "4     0.0     0.0     0.0     0.0     0.0     0.0   75368.52   \n",
      "\n",
      "              var_370 Target  \n",
      "0  0.0128577235413985      0  \n",
      "1    0.39108938631764      0  \n",
      "2   0.300590388106519      0  \n",
      "3   0.022429894490662      0  \n",
      "4  0.0041199591256183      0  \n",
      "\n",
      "[5 rows x 373 columns]\n"
     ]
    }
   ],
   "source": [
    "#6.- Cargar data_train.csv con todas las 373 columnas como strings\n",
    "\n",
    "import pandas as pd  # Importamos pandas para manejar datos en tablas\n",
    "\n",
    "# Cargar el CSV con todas las columnas como string\n",
    "csv_path = \"/home/azureuser/cloudfiles/code/Users/belenolmosvalverde24/belendata/ejercicio_ntt_data/data_train.csv\"\n",
    "raw_datos = pd.read_csv(csv_path, dtype=str)\n",
    "\n",
    "# Mostrar las primeras filas\n",
    "print(raw_datos.head())"
   ]
  },
  {
   "cell_type": "code",
   "execution_count": 8,
   "metadata": {},
   "outputs": [],
   "source": [
    "#7.- Lectura de archivo .xlsx\n",
    "#pd.read_excel(\"archivo.xlsx\", dtype=str) → Lee archivos de Excel con todas las columnas en texto.\n",
    "\n",
    "##raw_datos = pd.read_excel(\"data_train.xlsx\", dtype=str)\n"
   ]
  },
  {
   "cell_type": "code",
   "execution_count": 9,
   "metadata": {},
   "outputs": [
    {
     "name": "stdout",
     "output_type": "stream",
     "text": [
      "<class 'pandas.core.frame.DataFrame'>\n",
      "RangeIndex: 38067 entries, 0 to 38066\n",
      "Columns: 373 entries, Unnamed: 0 to Target\n",
      "dtypes: object(373)\n",
      "memory usage: 108.3+ MB\n",
      "None\n",
      "       Unnamed: 0     ID  var_1  var_2  var_3  var_4  var_5  var_6  var_7  \\\n",
      "count       38067  38067  38067  38067  38067  38067  38067  38067  38067   \n",
      "unique      38010  38010    160     97    389   4134   4910    147    178   \n",
      "top          6496  13052      2     23    0.0    0.0    0.0    0.0    0.0   \n",
      "freq            2      2  37126  10040  36228  33047  32188  37918  37888   \n",
      "\n",
      "        var_8  ... var_362 var_363 var_364 var_365 var_366 var_367 var_368  \\\n",
      "count   38067  ...   38067   38067   38067   38067   38067   38067   38067   \n",
      "unique     16  ...      15      26      26      46      18      63      63   \n",
      "top       0.0  ...     0.0     0.0     0.0     0.0     0.0     0.0     0.0   \n",
      "freq    38047  ...   38053   38042   38042   38022   38050   38005   38005   \n",
      "\n",
      "                 var_369             var_370 Target  \n",
      "count              38067               38067  38067  \n",
      "unique             29712               38010      2  \n",
      "top     117310.979016494  0.0014657992042428      0  \n",
      "freq                7368                   2  36554  \n",
      "\n",
      "[4 rows x 373 columns]\n"
     ]
    }
   ],
   "source": [
    "#8.- Analisis descriptivo\n",
    "\n",
    "print(raw_datos.info())  # Muestra detalles sobre las columnas\n",
    "print(raw_datos.describe(include=\"all\"))  # Estadísticas básicas"
   ]
  },
  {
   "cell_type": "code",
   "execution_count": 11,
   "metadata": {},
   "outputs": [
    {
     "name": "stdout",
     "output_type": "stream",
     "text": [
      "Unnamed: 0    0\n",
      "ID            0\n",
      "var_1         0\n",
      "var_2         0\n",
      "var_3         0\n",
      "             ..\n",
      "var_367       0\n",
      "var_368       0\n",
      "var_369       0\n",
      "var_370       0\n",
      "Target        0\n",
      "Length: 373, dtype: int64\n"
     ]
    }
   ],
   "source": [
    "#9.- Identificar y tratar valores nulos\n",
    "\n",
    "print(raw_datos.isnull().sum())  # Muestra cuántos nulos hay en cada columna\n",
    "\n",
    "# Rellenamos los nulos con \"Desconocido\"\n",
    "raw_datos.fillna(\"Desconocido\", inplace=True)"
   ]
  },
  {
   "cell_type": "code",
   "execution_count": null,
   "metadata": {},
   "outputs": [],
   "source": [
    "#10.- Recargar los datos como src_train e ID a tipo string\n",
    "src_train = pd.read_csv(csv_path, dtype={\"ID\": \"string\"})"
   ]
  },
  {
   "cell_type": "code",
   "execution_count": null,
   "metadata": {},
   "outputs": [],
   "source": [
    "#11.- Elinminamos la primera columna\n",
    "src_train = src_train.iloc[:, 1:]"
   ]
  },
  {
   "cell_type": "markdown",
   "metadata": {},
   "source": [
    "### BLOQUE 3"
   ]
  },
  {
   "cell_type": "code",
   "execution_count": null,
   "metadata": {},
   "outputs": [
    {
     "data": {
      "image/png": "[encoded data removed]",
      "text/plain": [
       "<Figure size 640x480 with 1 Axes>"
      ]
     },
     "metadata": {},
     "output_type": "display_data"
    }
   ],
   "source": [
    "#12.- Graficar el histrograma\n",
    "\n",
    "import matplotlib.pyplot as plt  # Librería para gráficos\n",
    "\n",
    "# Convertimos \"var_5\" a número para poder graficarlo\n",
    "src_train[\"var_5\"] = src_train[\"var_5\"].astype(float)\n",
    "\n",
    "# Creamos el histograma\n",
    "plt.hist(src_train[\"var_5\"], bins=30, color='blue', edgecolor='black')\n",
    "\n",
    "# Etiquetas del gráfico\n",
    "plt.title(\"Histograma de var_5\")\n",
    "plt.xlabel(\"Valores de var_5\")\n",
    "plt.ylabel(\"Frecuencia\")\n",
    "\n",
    "# Mostramos el gráfico\n",
    "plt.show()\n"
   ]
  },
  {
   "cell_type": "code",
   "execution_count": null,
   "metadata": {},
   "outputs": [
    {
     "name": "stdout",
     "output_type": "stream",
     "text": [
      "var_1\n",
      " 2         37126\n",
      " 8            75\n",
      "-999999       63\n",
      " 9            60\n",
      " 3            49\n",
      "           ...  \n",
      " 42            1\n",
      " 58            1\n",
      " 200           1\n",
      " 146           1\n",
      " 59            1\n",
      "Name: count, Length: 160, dtype: int64\n"
     ]
    }
   ],
   "source": [
    "#13.- Tabla de frecuencias\n",
    "print(src_train[\"var_1\"].value_counts())  # Reemplazar \"var_1\" por cualquier otra variable\n"
   ]
  },
  {
   "cell_type": "code",
   "execution_count": null,
   "metadata": {},
   "outputs": [
    {
     "name": "stdout",
     "output_type": "stream",
     "text": [
      "Target\n",
      "0    0.960254\n",
      "1    0.039746\n",
      "Name: proportion, dtype: float64\n"
     ]
    }
   ],
   "source": [
    "#14.- Tabla de frecuencias relativas\n",
    "print(src_train[\"Target\"].value_counts(normalize=True))\n"
   ]
  },
  {
   "cell_type": "code",
   "execution_count": null,
   "metadata": {},
   "outputs": [
    {
     "data": {
      "image/png": "[encoded data removed]",
      "text/plain": [
       "<Figure size 1000x500 with 1 Axes>"
      ]
     },
     "metadata": {},
     "output_type": "display_data"
    }
   ],
   "source": [
    "#15.- Diagrama de cajas multiple de var_2 por cada nivel de var_47\n",
    "import seaborn as sns  # Librería para gráficos avanzados\n",
    "\n",
    "plt.figure(figsize=(10, 5))  # Tamaño del gráfico\n",
    "sns.boxplot(x=\"var_47\", y=\"var_2\", data=src_train)\n",
    "\n",
    "plt.title(\"Diagrama de cajas de var_2 por var_47\")\n",
    "plt.show()\n"
   ]
  },
  {
   "cell_type": "code",
   "execution_count": null,
   "metadata": {},
   "outputs": [
    {
     "name": "stdout",
     "output_type": "stream",
     "text": [
      "           ID  var_1  var_2  var_3  var_4  var_5  var_6  var_7  var_8  var_9  \\\n",
      "13         77      2     66    0.0    0.0    0.0    0.0    0.0    0.0    0.0   \n",
      "40        172      2     68    0.0    0.0    0.0    0.0    0.0    0.0    0.0   \n",
      "43        177      2     72    0.0    0.0    0.0    0.0    0.0    0.0    0.0   \n",
      "50        193      2     77    0.0    0.0    0.0    0.0    0.0    0.0    0.0   \n",
      "55        207      2     76    0.0    0.0    0.0    0.0    0.0    0.0    0.0   \n",
      "...       ...    ...    ...    ...    ...    ...    ...    ...    ...    ...   \n",
      "37988  151770      2     76    0.0    0.0    0.0    0.0    0.0    0.0    0.0   \n",
      "37998  151801      2     67    0.0    0.0    0.0    0.0    0.0    0.0    0.0   \n",
      "38027   74804      2     64    0.0    0.0    0.0    0.0    0.0    0.0    0.0   \n",
      "38039   90764      2     82    3.0    0.0    0.0    0.0    0.0    0.0    0.0   \n",
      "38049    4801      2     89    0.0    0.0    0.0    0.0    0.0    0.0    0.0   \n",
      "\n",
      "       ...  var_362  var_363  var_364  var_365  var_366  var_367  var_368  \\\n",
      "13     ...      0.0      0.0      0.0      0.0      0.0      0.0      0.0   \n",
      "40     ...      0.0      0.0      0.0      0.0      0.0      0.0      0.0   \n",
      "43     ...      0.0      0.0      0.0      0.0      0.0      0.0      0.0   \n",
      "50     ...      0.0      0.0      0.0      0.0      0.0      0.0      0.0   \n",
      "55     ...      0.0      0.0      0.0      0.0      0.0      0.0      0.0   \n",
      "...    ...      ...      ...      ...      ...      ...      ...      ...   \n",
      "37988  ...      0.0      0.0      0.0      0.0      0.0      0.0      0.0   \n",
      "37998  ...      0.0      0.0      0.0      0.0      0.0      0.0      0.0   \n",
      "38027  ...      0.0      0.0      0.0      0.0      0.0      0.0      0.0   \n",
      "38039  ...      0.0      0.0      0.0      0.0      0.0      0.0      0.0   \n",
      "38049  ...      0.0      0.0      0.0      0.0      0.0      0.0      0.0   \n",
      "\n",
      "             var_369   var_370  Target  \n",
      "13      63324.900000  0.246968       1  \n",
      "40     117310.979016  0.024383       0  \n",
      "43     117310.979016  0.006051       0  \n",
      "50      49965.870000  0.035056       0  \n",
      "55      53029.500000  0.047789       0  \n",
      "...              ...       ...     ...  \n",
      "37988  117310.979016  0.031499       0  \n",
      "37998   55648.980000  0.165713       0  \n",
      "38027  139262.640000  0.103380       0  \n",
      "38039   79601.160000  0.054393       0  \n",
      "38049  150764.250000  0.060530       0  \n",
      "\n",
      "[1443 rows x 372 columns]\n"
     ]
    }
   ],
   "source": [
    "#16.- Imprimir los ouliers de var_2\n",
    "Q1 = src_train[\"var_2\"].quantile(0.25)  # Primer cuartil (25%)\n",
    "Q3 = src_train[\"var_2\"].quantile(0.75)  # Tercer cuartil (75%)\n",
    "IQR = Q3 - Q1  # Rango intercuartil\n",
    "\n",
    "# Definir outliers como valores que están fuera del rango normal\n",
    "outliers = src_train[(src_train[\"var_2\"] < Q1 - 1.5 * IQR) | (src_train[\"var_2\"] > Q3 + 1.5 * IQR)]\n",
    "\n",
    "# Mostrar los valores atípicos\n",
    "print(outliers)\n"
   ]
  },
  {
   "cell_type": "code",
   "execution_count": null,
   "metadata": {},
   "outputs": [
    {
     "name": "stdout",
     "output_type": "stream",
     "text": [
      "           ID  var_1  var_2  var_3    var_4    var_5   var_6   var_7  var_8  \\\n",
      "1          14      2     27    0.0     0.00     0.00    0.00    0.00    0.0   \n",
      "8          60      2     40    0.0  1658.37  5722.77  247.56  835.86    0.0   \n",
      "87        340      2     24    0.0     0.00     0.00    0.00    0.00    0.0   \n",
      "103       417      4     45    0.0     0.00     0.00    0.00    0.00    0.0   \n",
      "110       436      2     23    0.0     0.00     0.00    0.00    0.00    0.0   \n",
      "...       ...    ...    ...    ...      ...      ...     ...     ...    ...   \n",
      "37884  151381      2     34    0.0     0.00     0.00    0.00    0.00    0.0   \n",
      "37920  151497      2     27    0.0     0.00     0.00    0.00    0.00    0.0   \n",
      "37928  151531      2     23    0.0     0.00     0.00    0.00    0.00    0.0   \n",
      "37967  151674      2     33    0.0   863.28  1063.95    0.00    0.00    0.0   \n",
      "37999  151807      2     23    0.0   326.82   434.52    0.00    0.00    0.0   \n",
      "\n",
      "       var_9  ...  var_362  var_363  var_364  var_365  var_366  var_367  \\\n",
      "1        0.0  ...      0.0      0.0      0.0      0.0      0.0      0.0   \n",
      "8      960.0  ...      0.0      0.0      0.0      0.0      0.0      0.0   \n",
      "87       0.0  ...      0.0      0.0      0.0      0.0      0.0      0.0   \n",
      "103      0.0  ...      0.0      0.0      0.0      0.0      0.0      0.0   \n",
      "110      0.0  ...      0.0      0.0      0.0      0.0      0.0      0.0   \n",
      "...      ...  ...      ...      ...      ...      ...      ...      ...   \n",
      "37884    0.0  ...      0.0      0.0      0.0      0.0      0.0      0.0   \n",
      "37920    0.0  ...      0.0      0.0      0.0      0.0      0.0      0.0   \n",
      "37928    0.0  ...      0.0      0.0      0.0      0.0      0.0      0.0   \n",
      "37967    0.0  ...      0.0      0.0      0.0      0.0      0.0      0.0   \n",
      "37999    0.0  ...      0.0      0.0      0.0      0.0      0.0      0.0   \n",
      "\n",
      "       var_368        var_369   var_370  Target  \n",
      "1          0.0   94956.660000  0.391089       0  \n",
      "8          0.0   78390.810000  0.365323       0  \n",
      "87         0.0   95251.920000  0.384279       1  \n",
      "103        0.0   63203.340000  0.450084       0  \n",
      "110        0.0  117310.979016  0.393581       0  \n",
      "...        ...            ...       ...     ...  \n",
      "37884      0.0  117310.979016  0.434617       0  \n",
      "37920      0.0  168311.640000  0.368419       0  \n",
      "37928      0.0   60844.920000  0.448875       0  \n",
      "37967      0.0  198675.690000  0.379731       0  \n",
      "37999      0.0   86886.120000  0.364070       0  \n",
      "\n",
      "[1217 rows x 372 columns]\n"
     ]
    }
   ],
   "source": [
    "#17 y 18.- Examinar los outliers de var_370 y generar dos nuevas variables.\n",
    "\n",
    "Q1 = src_train[\"var_370\"].quantile(0.25)\n",
    "Q3 = src_train[\"var_370\"].quantile(0.75)\n",
    "IQR = Q3 - Q1\n",
    "\n",
    "outliers_var370 = src_train[(src_train[\"var_370\"] < Q1 - 1.5 * IQR) | (src_train[\"var_370\"] > Q3 + 1.5 * IQR)]\n",
    "print(outliers_var370)"
   ]
  },
  {
   "cell_type": "code",
   "execution_count": null,
   "metadata": {},
   "outputs": [],
   "source": [
    "#19.- Función para normalizar cualquier serie\n",
    "\n",
    "def normalize_series(series):\n",
    "    if not isinstance(series, pd.Series):\n",
    "        raise TypeError(\"Input debe ser una Serie de pandas\")\n",
    "    return (series - series.min()) / (series.max() - series.min())\n",
    "\n",
    "# Aplicamos la función a \"var_100\"\n",
    "src_train[\"var_100_norm\"] = normalize_series(src_train[\"var_100\"])\n"
   ]
  },
  {
   "cell_type": "code",
   "execution_count": null,
   "metadata": {},
   "outputs": [],
   "source": [
    "#20.- Prueba de la función (test.unitario)\n",
    "\n",
    "def test_normalize():\n",
    "    test_series = pd.Series([10, 20, 30, 40, 50])\n",
    "    normalized = normalize_series(test_series)\n",
    "    assert normalized.min() == 0\n",
    "    assert normalized.max() == 1\n",
    "\n",
    "test_normalize()\n"
   ]
  },
  {
   "cell_type": "code",
   "execution_count": null,
   "metadata": {},
   "outputs": [],
   "source": [
    "#21.- Crear las columnas var_370_log y var_370_norm\n",
    "\n",
    "src_train[\"var_370_log\"] = np.log1p(src_train[\"var_370\"])\n",
    "src_train[\"var_370_norm\"] = normalize_series(src_train[\"var_370\"])\n",
    "\n",
    "# Guardar el dataset con variables seleccionadas\n",
    "selected_vars = [\"ID\", \"var_2\", \"var_276\", \"var_325\", \"var_278\", \"var_275\", \"var_280\", \"var_327\",\n",
    "                 \"var_63\", \"var_369\", \"var_1\", \"var_279\", \"var_340\", \"var_339\", \"var_165\", \"var_177\",\n",
    "                 \"var_172\", \"var_168\", \"var_114\", \"var_47\", \"var_105\", \"var_194\", \"Target\", \"var_370_log\", \"var_370_norm\"]\n",
    "\n",
    "vun_train = src_train[selected_vars]\n",
    "vun_train.to_csv(\"vun_train.csv\", index=False)"
   ]
  },
  {
   "cell_type": "markdown",
   "metadata": {},
   "source": [
    "### BLOQUE 4"
   ]
  },
  {
   "cell_type": "code",
   "execution_count": null,
   "metadata": {},
   "outputs": [],
   "source": [
    "#22.- Cargar el archivo vun_train.csv sobre la variable vun_train\n",
    "\n",
    "vun_train = pd.read_csv(\"vun_train.csv\")"
   ]
  },
  {
   "cell_type": "code",
   "execution_count": null,
   "metadata": {},
   "outputs": [],
   "source": [
    "#23.- Separar el df en entrenamiento y validación\n",
    "\n",
    "from sklearn.model_selection import train_test_split  # Para separar los datos\n",
    "train_data, validation_data = train_test_split(vun_train, test_size=0.30, random_state=42)"
   ]
  },
  {
   "cell_type": "code",
   "execution_count": null,
   "metadata": {},
   "outputs": [
    {
     "name": "stdout",
     "output_type": "stream",
     "text": [
      "Optimization terminated successfully.\n",
      "         Current function value: 0.162698\n",
      "         Iterations 8\n",
      "                           Logit Regression Results                           \n",
      "==============================================================================\n",
      "Dep. Variable:                 Target   No. Observations:                26646\n",
      "Model:                          Logit   Df Residuals:                    26642\n",
      "Method:                           MLE   Df Model:                            3\n",
      "Date:                Tue, 18 Feb 2025   Pseudo R-squ.:                 0.02859\n",
      "Time:                        15:21:51   Log-Likelihood:                -4335.3\n",
      "converged:                       True   LL-Null:                       -4462.8\n",
      "Covariance Type:            nonrobust   LLR p-value:                 5.042e-55\n",
      "==============================================================================\n",
      "                 coef    std err          z      P>|z|      [0.025      0.975]\n",
      "------------------------------------------------------------------------------\n",
      "const         -4.2275      0.078    -53.937      0.000      -4.381      -4.074\n",
      "var_2          0.0323      0.002     16.959      0.000       0.029       0.036\n",
      "var_276       -0.0495      0.013     -3.680      0.000      -0.076      -0.023\n",
      "var_325       -0.0169      0.005     -3.442      0.001      -0.027      -0.007\n",
      "==============================================================================\n"
     ]
    }
   ],
   "source": [
    "#24.- Realizar un modelo de regresión logística\n",
    "\n",
    "#comprobar que nuestros datos están preparados. \n",
    "from sklearn.linear_model import LogisticRegression\n",
    "import statsmodels.api as sm\n",
    "\n",
    "# Ejemplo de variables\n",
    "X_train = train_data[['var_2', 'var_276', 'var_325']]\n",
    "y_train = train_data['Target']\n",
    "\n",
    "# Crear el modelo de regresión logística\n",
    "model = LogisticRegression()\n",
    "model.fit(X_train, y_train)\n",
    "\n",
    "# Obtener p-valores (esto requiere statsmodels)\n",
    "X_train_sm = sm.add_constant(X_train) # Agregar constante\n",
    "logit_model = sm.Logit(y_train, X_train_sm)\n",
    "result = logit_model.fit()\n",
    "\n",
    "# Imprimir los resultados\n",
    "print(result.summary())\n"
   ]
  },
  {
   "cell_type": "code",
   "execution_count": null,
   "metadata": {},
   "outputs": [
    {
     "name": "stdout",
     "output_type": "stream",
     "text": [
      "Matriz de confusión:\n",
      " [[10970     0]\n",
      " [  451     0]]\n",
      "Precisión: 0.9605113387619297\n"
     ]
    }
   ],
   "source": [
    "#25 matriz de confusión \n",
    "\n",
    "from sklearn.metrics import confusion_matrix, accuracy_score\n",
    "\n",
    "# Predecir los datos de validación\n",
    "X_validation = validation_data[['var_2', 'var_276', 'var_325']]\n",
    "y_validation = validation_data['Target']\n",
    "y_pred = model.predict(X_validation)\n",
    "\n",
    "# Crear la matriz de confusión\n",
    "cm = confusion_matrix(y_validation, y_pred)\n",
    "accuracy = accuracy_score(y_validation, y_pred)\n",
    "\n",
    "print('Matriz de confusión:\\n', cm)\n",
    "print('Precisión:', accuracy)\n"
   ]
  },
  {
   "cell_type": "markdown",
   "metadata": {},
   "source": [
    "#### Interpretación de resultados:\n",
    "Regresión logística: Interpreta los p-valores del resumen del modelo. Si un p-valor es menor que un umbral (por ejemplo, 0.05), la variable correspondiente es estadísticamente significativa.\n",
    "\n",
    "#### Matriz de confusión: \n",
    "Analiza la cantidad de verdaderos positivos, falsos positivos, verdaderos negativos y falsos negativos. Puedes usar métricas como la precisión, la sensibilidad, o la especificidad para evaluar el rendimiento del modelo.\n"
   ]
  }
 ],
 "metadata": {
  "kernelspec": {
   "display_name": "Python 3.10 - SDK v2",
   "language": "python",
   "name": "python310-sdkv2"
  },
  "language_info": {
   "codemirror_mode": {
    "name": "ipython",
    "version": 3
   },
   "file_extension": ".py",
   "mimetype": "text/x-python",
   "name": "python",
   "nbconvert_exporter": "python",
   "pygments_lexer": "ipython3",
   "version": "3.10.14"
  }
 },
 "nbformat": 4,
 "nbformat_minor": 2
}
