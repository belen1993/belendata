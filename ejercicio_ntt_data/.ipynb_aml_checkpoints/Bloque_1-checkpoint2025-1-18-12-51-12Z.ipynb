{
 "cells": [
  {
   "cell_type": "markdown",
   "metadata": {},
   "source": [
    "### BLOQUE 1"
   ]
  },
  {
   "cell_type": "code",
   "execution_count": null,
   "metadata": {},
   "outputs": [
    {
     "name": "stdout",
     "output_type": "stream",
     "text": [
      "Directorio actual: /mnt/batch/tasks/shared/LS_root/mounts/clusters/belen-olmos/code/Users/belenolmosvalverde24/belendata/Ejercicio NTT_DATA\n"
     ]
    }
   ],
   "source": [
    "#Mostrar el directorio de trabajo.\n",
    "import os  \n",
    "print(\"Directorio actual:\", os.getcwd())  \n",
    "os.chdir(\"/home/azureuser/cloudfiles/code/Users/belenolmosvalverde24/belendata/Ejercicio NTT_DATA\")\n"
   ]
  },
  {
   "cell_type": "code",
   "execution_count": null,
   "metadata": {},
   "outputs": [
    {
     "name": "stdout",
     "output_type": "stream",
     "text": [
      "pandas está instalado.\n",
      "seaborn está instalado.\n",
      "Requirement already satisfied: xlrd in /anaconda/envs/azureml_py38/lib/python3.10/site-packages (2.0.1)\n",
      "xlrd está instalado.\n"
     ]
    }
   ],
   "source": [
    "#Cargar librerías y paquetes\n",
    "import pandas as pd\n",
    "import importlib.util\n",
    "import subprocess\n",
    "\n",
    "# Verificamos si un paquete está instalado y, si no, instalarlo\n",
    "def check_install(package):\n",
    "    if importlib.util.find_spec(package) is None:  # Verifica si la librería está instalada\n",
    "        subprocess.run([\"pip\", \"install\", package])  # Si no está, la instala\n",
    "    print(f\"{package} está instalado.\")  # Mensaje de confirmación\n",
    "\n",
    "# Verificamos e instalamos los paquetes si es necesario\n",
    "check_install(\"pandas\")\n",
    "check_install(\"seaborn\")\n",
    "check_install(\"xlrd\")\n"
   ]
  },
  {
   "cell_type": "code",
   "execution_count": null,
   "metadata": {},
   "outputs": [],
   "source": [
    "#Cargamos el archivo Wilcox1.py\n",
    "import Wilcox1"
   ]
  },
  {
   "cell_type": "code",
   "execution_count": null,
   "metadata": {},
   "outputs": [],
   "source": [
    "#Semilla: como algunos calculos son aleatorios, fijamos la semilla para que los resultados sean reproducibles.\n",
    "\n",
    "import numpy as np  # Para cálculos matemáticos\n",
    "import random  # Para números aleatorios\n",
    "\n",
    "np.random.seed(42)  # Fija una semilla en NumPy\n",
    "random.seed(42)  # Fija una semilla en la librería random"
   ]
  },
  {
   "cell_type": "code",
   "execution_count": null,
   "metadata": {},
   "outputs": [],
   "source": [
    "#Creación de un entorno virtual en el terminal: NO ME SALE\n",
    "\n",
    "#sh\n",
    "#python -m venv venv"
   ]
  },
  {
   "cell_type": "markdown",
   "metadata": {},
   "source": [
    "### BLOQUE 2"
   ]
  },
  {
   "cell_type": "code",
   "execution_count": null,
   "metadata": {},
   "outputs": [],
   "source": []
  }
 ],
 "metadata": {
  "kernelspec": {
   "display_name": "Python 3.10 - SDK v2",
   "language": "python",
   "name": "python310-sdkv2"
  },
  "language_info": {
   "codemirror_mode": {
    "name": "ipython",
    "version": 3
   },
   "file_extension": ".py",
   "mimetype": "text/x-python",
   "name": "python",
   "nbconvert_exporter": "python",
   "pygments_lexer": "ipython3",
   "version": "3.10.14"
  }
 },
 "nbformat": 4,
 "nbformat_minor": 2
}
