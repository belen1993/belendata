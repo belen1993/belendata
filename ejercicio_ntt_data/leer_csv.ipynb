{
 "cells": [
  {
   "cell_type": "code",
   "execution_count": null,
   "metadata": {},
   "outputs": [
    {
     "name": "stdout",
     "output_type": "stream",
     "text": [
      "   Unnamed: 0  ID  var_1  var_2  var_3  var_4  var_5  var_6  var_7  var_8  \\\n",
      "0           2   3      2     34    0.0    0.0    0.0    0.0    0.0    0.0   \n",
      "1           7  14      2     27    0.0    0.0    0.0    0.0    0.0    0.0   \n",
      "2           8  18      2     26    0.0    0.0    0.0    0.0    0.0    0.0   \n",
      "3          10  23      2     25    0.0    0.0    0.0    0.0    0.0    0.0   \n",
      "4          12  26      2     26    0.0    0.0    0.0    0.0    0.0    0.0   \n",
      "\n",
      "   ...  var_362  var_363  var_364  var_365  var_366  var_367  var_368  \\\n",
      "0  ...      0.0      0.0      0.0      0.0      0.0      0.0      0.0   \n",
      "1  ...      0.0      0.0      0.0      0.0      0.0      0.0      0.0   \n",
      "2  ...      0.0      0.0      0.0      0.0      0.0      0.0      0.0   \n",
      "3  ...      0.0      0.0      0.0      0.0      0.0      0.0      0.0   \n",
      "4  ...      0.0      0.0      0.0      0.0      0.0      0.0      0.0   \n",
      "\n",
      "     var_369   var_370  Target  \n",
      "0   49278.03  0.012858       0  \n",
      "1   94956.66  0.391089       0  \n",
      "2  251638.95  0.300590       0  \n",
      "3  356463.06  0.022430       0  \n",
      "4   75368.52  0.004120       0  \n",
      "\n",
      "[5 rows x 373 columns]\n"
     ]
    }
   ],
   "source": [
    "import pandas as pd  \n",
    "\n",
    "# Leer solo las primeras 10 filas para ver la estructura\n",
    "df = pd.read_csv(\"data_train.csv\", nrows=10)  \n",
    "print(df.head())  "
   ]
  },
  {
   "cell_type": "code",
   "execution_count": null,
   "metadata": {},
   "outputs": [
    {
     "name": "stdout",
     "output_type": "stream",
     "text": [
      "Index(['Unnamed: 0', 'ID', 'var_1', 'var_2', 'var_3', 'var_4', 'var_5',\n",
      "       'var_6', 'var_7', 'var_8',\n",
      "       ...\n",
      "       'var_362', 'var_363', 'var_364', 'var_365', 'var_366', 'var_367',\n",
      "       'var_368', 'var_369', 'var_370', 'Target'],\n",
      "      dtype='object', length=373)\n"
     ]
    }
   ],
   "source": [
    "#nombres de las columnas\n",
    "df = pd.read_csv(\"data_train.csv\", nrows=1)  \n",
    "print(df.columns)  "
   ]
  },
  {
   "cell_type": "code",
   "execution_count": null,
   "metadata": {},
   "outputs": [],
   "source": []
  }
 ],
 "metadata": {
  "kernelspec": {
   "display_name": "Python 3.10 - SDK v2",
   "language": "python",
   "name": "python310-sdkv2"
  },
  "language_info": {
   "codemirror_mode": {
    "name": "ipython",
    "version": 3
   },
   "file_extension": ".py",
   "mimetype": "text/x-python",
   "name": "python",
   "nbconvert_exporter": "python",
   "pygments_lexer": "ipython3",
   "version": "3.10.14"
  }
 },
 "nbformat": 4,
 "nbformat_minor": 2
}
